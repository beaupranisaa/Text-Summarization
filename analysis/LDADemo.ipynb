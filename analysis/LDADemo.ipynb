{
 "cells": [
  {
   "cell_type": "markdown",
   "metadata": {},
   "source": [
    "***\n",
    "In this notebook i will be demonstarting Latent Dirichlet Allocation(LDA) for topic modelling. I will be using the Amazon fine food reviews dataset from Kaggle(https://www.kaggle.com/snap/amazon-fine-food-reviews) for performing LDA based topic modelling\n",
    "I will be using the gensim package for LDA topic modelling and pyLDAvis for visualization of LDA topic model\n",
    "***"
   ]
  },
  {
   "cell_type": "code",
   "execution_count": 3,
   "metadata": {},
   "outputs": [],
   "source": [
    "import pandas as pd\n",
    "import numpy as np\n",
    "\n",
    "import re\n",
    "import string\n",
    "\n",
    "import spacy\n",
    "\n",
    "import gensim\n",
    "from gensim import corpora\n",
    "\n",
    "# libraries for visualization\n",
    "import pyLDAvis\n",
    "import pyLDAvis.gensim_models\n",
    "import matplotlib.pyplot as plt\n",
    "import seaborn as sns\n",
    "%matplotlib inline\n",
    "\n",
    "import os\n",
    "os.environ['http_proxy'] = 'http://192.41.170.23:3128'\n",
    "os.environ['https_proxy'] = 'http://192.41.170.23:3128'\n",
    "\n",
    "import sys         \n",
    "sys.path.append('/home/pranisaa/working_dir/Text-Summarization')\n",
    "from config import *\n",
    "import pandas as pd\n",
    "from datasets import load_dataset\n",
    "from dataset import Dataset\n",
    "from transformers import T5Tokenizer, BartTokenizer\n",
    "pd.set_option('display.max_colwidth', None)\n",
    "import pickle"
   ]
  },
  {
   "cell_type": "markdown",
   "metadata": {},
   "source": [
    "### Load dataset"
   ]
  },
  {
   "cell_type": "code",
   "execution_count": null,
   "metadata": {},
   "outputs": [],
   "source": []
  },
  {
   "cell_type": "code",
   "execution_count": 4,
   "metadata": {},
   "outputs": [
    {
     "name": "stderr",
     "output_type": "stream",
     "text": [
      "Using custom data configuration default\n",
      "Reusing dataset xsum (/home/pranisaa/.cache/huggingface/datasets/xsum/default/1.2.0/32c23220eadddb1149b16ed2e9430a05293768cfffbdfd151058697d4c11f934)\n"
     ]
    },
    {
     "data": {
      "application/vnd.jupyter.widget-view+json": {
       "model_id": "04aebd445e8149eeb8bd02e6c045f61c",
       "version_major": 2,
       "version_minor": 0
      },
      "text/plain": [
       "  0%|          | 0/3 [00:00<?, ?it/s]"
      ]
     },
     "metadata": {},
     "output_type": "display_data"
    }
   ],
   "source": [
    "# Load dataset\n",
    "data = 'xsum'\n",
    "\n",
    "if data == 'cnn_dailymail':\n",
    "    dataset = load_dataset(data, '3.0.0')\n",
    "    source_text = \"article\"\n",
    "    target_text = \"highlights\"\n",
    "elif data == \"xsum\":\n",
    "    dataset = load_dataset(data)\n",
    "    source_text = \"document\"\n",
    "    target_text = \"summary\"\n",
    "else:\n",
    "    raise ValueError(\"Undefined dataset\")"
   ]
  },
  {
   "cell_type": "code",
   "execution_count": 5,
   "metadata": {},
   "outputs": [
    {
     "data": {
      "text/plain": [
       "DatasetDict({\n",
       "    train: Dataset({\n",
       "        features: ['document', 'summary', 'id'],\n",
       "        num_rows: 204045\n",
       "    })\n",
       "    validation: Dataset({\n",
       "        features: ['document', 'summary', 'id'],\n",
       "        num_rows: 11332\n",
       "    })\n",
       "    test: Dataset({\n",
       "        features: ['document', 'summary', 'id'],\n",
       "        num_rows: 11334\n",
       "    })\n",
       "})"
      ]
     },
     "execution_count": 5,
     "metadata": {},
     "output_type": "execute_result"
    }
   ],
   "source": [
    "dataset"
   ]
  },
  {
   "cell_type": "markdown",
   "metadata": {},
   "source": [
    "### Get dataset"
   ]
  },
  {
   "cell_type": "code",
   "execution_count": 6,
   "metadata": {},
   "outputs": [],
   "source": [
    "pickle_in = open(\"val_len_q1_max512.pickle\",\"rb\")\n",
    "example_dict = pickle.load(pickle_in)\n",
    "q1_id = example_dict['ids']\n",
    "\n",
    "pickle_in = open(\"val_len_q3_max512.pickle\",\"rb\")\n",
    "example_dict = pickle.load(pickle_in)\n",
    "q3_id = example_dict['ids']"
   ]
  },
  {
   "cell_type": "code",
   "execution_count": 7,
   "metadata": {},
   "outputs": [],
   "source": [
    "df_data = {'id': dataset['validation']['id'], 'document': dataset['validation']['document']}"
   ]
  },
  {
   "cell_type": "code",
   "execution_count": 8,
   "metadata": {},
   "outputs": [
    {
     "data": {
      "text/plain": [
       "int"
      ]
     },
     "execution_count": 8,
     "metadata": {},
     "output_type": "execute_result"
    }
   ],
   "source": [
    "type(df_data['id'][0])\n",
    "type(q1_id[0])"
   ]
  },
  {
   "cell_type": "code",
   "execution_count": 9,
   "metadata": {},
   "outputs": [],
   "source": [
    "val_doc_q1 = {'ids': [], 'document': []}\n",
    "for i, idx in enumerate(df_data['id']):\n",
    "    if int(idx) in q1_id:\n",
    "        val_doc_q1['ids'].append(idx)\n",
    "        val_doc_q1['document'].append(df_data['document'][i])\n",
    "        \n",
    "val_doc_q3 = {'ids': [], 'document': []}\n",
    "for i, idx in enumerate(df_data['id']):\n",
    "    if int(idx) in q3_id:\n",
    "        val_doc_q3['ids'].append(idx)\n",
    "        val_doc_q3['document'].append(df_data['document'][i])"
   ]
  },
  {
   "cell_type": "code",
   "execution_count": null,
   "metadata": {},
   "outputs": [],
   "source": []
  },
  {
   "cell_type": "code",
   "execution_count": null,
   "metadata": {},
   "outputs": [],
   "source": []
  },
  {
   "cell_type": "code",
   "execution_count": null,
   "metadata": {},
   "outputs": [],
   "source": []
  },
  {
   "cell_type": "code",
   "execution_count": 11,
   "metadata": {},
   "outputs": [],
   "source": [
    "def clean_text(text ): \n",
    "    delete_dict = {sp_character: '' for sp_character in string.punctuation} \n",
    "    delete_dict[' '] = ' ' \n",
    "    table = str.maketrans(delete_dict)\n",
    "    text1 = text.translate(table)\n",
    "    #print('cleaned:'+text1)\n",
    "    textArr= text1.split()\n",
    "    text2 = ' '.join([w for w in textArr if ( not w.isdigit() and  ( not w.isdigit() and len(w)>3))]) \n",
    "    \n",
    "    return text2.lower()"
   ]
  },
  {
   "cell_type": "code",
   "execution_count": 12,
   "metadata": {},
   "outputs": [
    {
     "name": "stderr",
     "output_type": "stream",
     "text": [
      "[nltk_data] Downloading package stopwords to\n",
      "[nltk_data]     /home/pranisaa/nltk_data...\n",
      "[nltk_data]   Package stopwords is already up-to-date!\n"
     ]
    },
    {
     "data": {
      "text/plain": [
       "True"
      ]
     },
     "execution_count": 12,
     "metadata": {},
     "output_type": "execute_result"
    }
   ],
   "source": [
    "import nltk\n",
    "nltk.download('stopwords') # run this one time"
   ]
  },
  {
   "cell_type": "code",
   "execution_count": 13,
   "metadata": {},
   "outputs": [
    {
     "data": {
      "text/plain": [
       "list"
      ]
     },
     "execution_count": 13,
     "metadata": {},
     "output_type": "execute_result"
    }
   ],
   "source": [
    "type(val_doc_q1['document'])"
   ]
  },
  {
   "cell_type": "code",
   "execution_count": 14,
   "metadata": {},
   "outputs": [],
   "source": [
    "val_q1 = pd.DataFrame.from_dict(val_doc_q1)"
   ]
  },
  {
   "cell_type": "code",
   "execution_count": 16,
   "metadata": {},
   "outputs": [
    {
     "name": "stdout",
     "output_type": "stream",
     "text": [
      "-------Dataset --------\n",
      "100\n",
      "-------------------------\n"
     ]
    }
   ],
   "source": [
    "# review_data.dropna(axis = 0, how ='any',inplace=True) \n",
    "val_q1['document'] = val_q1['document'].apply(clean_text)\n",
    "val_q1['Num_words_text'] = val_q1['document'].apply(lambda x:len(str(x).split())) \n",
    "\n",
    "print('-------Dataset --------')\n",
    "# print(val_q1['Score'].value_counts())\n",
    "print(len(val_q1))\n",
    "print('-------------------------')\n",
    "# max_review_data_sentence_length  = val_q1['Num_words_text'].max()\n",
    "\n",
    "# mask = (val_q1['Num_words_text'] < 100) & (val_q1['Num_words_text'] >=20)\n",
    "# df_short_reviews = val_q1[mask]\n",
    "# df_sampled = df_short_reviews.apply(lambda x: x.sample(n=20000)).reset_index(drop = True)\n",
    "\n",
    "# print('No of Short reviews')\n",
    "# print(len(df_short_reviews))\n",
    "\n",
    "\n",
    "\n",
    "#all_sentences = train_data['text'].tolist() + test_data['text'].tolist()\n"
   ]
  },
  {
   "cell_type": "code",
   "execution_count": null,
   "metadata": {},
   "outputs": [],
   "source": []
  },
  {
   "cell_type": "code",
   "execution_count": null,
   "metadata": {},
   "outputs": [],
   "source": []
  },
  {
   "cell_type": "markdown",
   "metadata": {},
   "source": [
    "***\n",
    "Let us pre-process the data\n",
    "***"
   ]
  },
  {
   "cell_type": "code",
   "execution_count": 17,
   "metadata": {},
   "outputs": [],
   "source": [
    "from nltk.corpus import stopwords\n",
    "stop_words = stopwords.words('english')\n",
    "# function to remove stopwords\n",
    "def remove_stopwords(text):\n",
    "    textArr = text.split(' ')\n",
    "    rem_text = \" \".join([i for i in textArr if i not in stop_words])\n",
    "    return rem_text\n",
    "\n",
    "# remove stopwords from the text\n",
    "val_q1['document']=val_q1['document'].apply(remove_stopwords)\n",
    "\n"
   ]
  },
  {
   "cell_type": "code",
   "execution_count": 18,
   "metadata": {},
   "outputs": [],
   "source": [
    "# python3 -m spacy download en_core_web_sm\n",
    "# !python3 -m spacy download en_core_web_sm"
   ]
  },
  {
   "cell_type": "code",
   "execution_count": 19,
   "metadata": {},
   "outputs": [],
   "source": [
    "# nlp = spacy.load('en_core_web_md', disable=['parser', 'ner'])\n",
    "import en_core_web_sm\n",
    "nlp = en_core_web_sm.load()\n",
    "\n",
    "def lemmatization(texts,allowed_postags=['NOUN', 'ADJ']): \n",
    "       output = []\n",
    "       for sent in texts:\n",
    "             doc = nlp(sent) \n",
    "             output.append([token.lemma_ for token in doc if token.pos_ in allowed_postags ])\n",
    "       return output"
   ]
  },
  {
   "cell_type": "code",
   "execution_count": 20,
   "metadata": {},
   "outputs": [
    {
     "name": "stdout",
     "output_type": "stream",
     "text": [
      "whiffin joined club analyst progressing roles head analysis assistant coach exiles confirm coaching setup next season relegated championship rugby department review began last month included head coach coventry assistant coaches clark laidlaw grant doorey\n",
      "['club', 'analyst', 'role', 'analysis', 'assistant', 'coach', 'exile', 'coaching', 'setup', 'next', 'season', 'championship', 'rugby', 'department', 'review', 'last', 'month', 'head', 'coach', 'coventry', 'assistant', 'coach', 'clark', 'laidlaw']\n"
     ]
    }
   ],
   "source": [
    " \n",
    "text_list=val_q1['document'].tolist()\n",
    "print(text_list[1])\n",
    "tokenized_reviews = lemmatization(text_list)\n",
    "print(tokenized_reviews[1])"
   ]
  },
  {
   "cell_type": "markdown",
   "metadata": {},
   "source": [
    "***\n",
    "Create vocabulary dictionary and document term matrix\n",
    "***"
   ]
  },
  {
   "cell_type": "code",
   "execution_count": 21,
   "metadata": {},
   "outputs": [],
   "source": [
    "dictionary = corpora.Dictionary(tokenized_reviews)\n",
    "doc_term_matrix = [dictionary.doc2bow(rev) for rev in tokenized_reviews]"
   ]
  },
  {
   "cell_type": "code",
   "execution_count": 22,
   "metadata": {},
   "outputs": [],
   "source": [
    "# Creating the object for LDA model using gensim library\n",
    "LDA = gensim.models.ldamodel.LdaModel\n",
    "\n",
    "# Build LDA model\n",
    "lda_model = LDA(corpus=doc_term_matrix, id2word=dictionary, num_topics=5, random_state=100,\n",
    "                chunksize=1000, passes=50,iterations=100)"
   ]
  },
  {
   "cell_type": "code",
   "execution_count": 23,
   "metadata": {},
   "outputs": [
    {
     "data": {
      "text/plain": [
       "[(0,\n",
       "  '0.010*\"share\" + 0.009*\"bank\" + 0.008*\"point\" + 0.007*\"year\" + 0.007*\"interest\" + 0.005*\"market\" + 0.005*\"plan\" + 0.005*\"public\" + 0.004*\"sale\" + 0.004*\"loan\"'),\n",
       " (1,\n",
       "  '0.010*\"station\" + 0.007*\"year\" + 0.006*\"part\" + 0.006*\"passenger\" + 0.005*\"staff\" + 0.005*\"tour\" + 0.004*\"service\" + 0.004*\"court\" + 0.004*\"plan\" + 0.004*\"place\"'),\n",
       " (2,\n",
       "  '0.006*\"people\" + 0.006*\"high\" + 0.005*\"work\" + 0.005*\"duffy\" + 0.005*\"year\" + 0.004*\"business\" + 0.004*\"loss\" + 0.004*\"licence\" + 0.004*\"coach\" + 0.004*\"project\"'),\n",
       " (3,\n",
       "  '0.009*\"first\" + 0.008*\"last\" + 0.007*\"police\" + 0.007*\"year\" + 0.007*\"club\" + 0.005*\"good\" + 0.005*\"season\" + 0.005*\"time\" + 0.004*\"investigation\" + 0.004*\"second\"'),\n",
       " (4,\n",
       "  '0.020*\"year\" + 0.006*\"film\" + 0.006*\"people\" + 0.006*\"state\" + 0.006*\"student\" + 0.006*\"virus\" + 0.006*\"coin\" + 0.005*\"good\" + 0.005*\"last\" + 0.004*\"medium\"')]"
      ]
     },
     "execution_count": 23,
     "metadata": {},
     "output_type": "execute_result"
    }
   ],
   "source": [
    "lda_model.print_topics()"
   ]
  },
  {
   "cell_type": "code",
   "execution_count": 24,
   "metadata": {},
   "outputs": [
    {
     "name": "stderr",
     "output_type": "stream",
     "text": [
      "/home/pranisaa/thesis/lib/python3.8/site-packages/pyLDAvis/_prepare.py:246: FutureWarning: In a future version of pandas all arguments of DataFrame.drop except for the argument 'labels' will be keyword-only.\n",
      "  default_term_info = default_term_info.sort_values(\n"
     ]
    },
    {
     "data": {
      "text/html": [
       "\n",
       "<link rel=\"stylesheet\" type=\"text/css\" href=\"https://cdn.jsdelivr.net/gh/bmabey/pyLDAvis@3.3.1/pyLDAvis/js/ldavis.v1.0.0.css\">\n",
       "\n",
       "\n",
       "<div id=\"ldavis_el889851396251843105444678063547\"></div>\n",
       "<script type=\"text/javascript\">\n",
       "\n",
       "var ldavis_el889851396251843105444678063547_data = {\"mdsDat\": {\"x\": [-0.06639781346887969, -0.10979545201415579, 0.09514292740977984, 0.05889089495487524, 0.022159443118380435], \"y\": [-0.05463272641703655, -0.003316684161391838, -0.09519874014546703, 0.04552389274814992, 0.10762425797574553], \"topics\": [1, 2, 3, 4, 5], \"cluster\": [1, 1, 1, 1, 1], \"Freq\": [24.61739129592357, 21.63460792642734, 21.339709810104623, 20.394899177640912, 12.013391789903554]}, \"tinfo\": {\"Term\": [\"station\", \"share\", \"bank\", \"interest\", \"virus\", \"coin\", \"film\", \"point\", \"year\", \"club\", \"duffy\", \"passenger\", \"tour\", \"first\", \"black\", \"water\", \"police\", \"loan\", \"ticket\", \"award\", \"amateur\", \"investor\", \"large\", \"ring\", \"election\", \"index\", \"church\", \"licence\", \"coach\", \"state\", \"match\", \"sewer\", \"referee\", \"suffolk\", \"device\", \"protester\", \"wicket\", \"hughe\", \"jean\", \"palermo\", \"movie\", \"playback\", \"fresh\", \"lingerie\", \"transfer\", \"powerful\", \"coutinho\", \"liverpools\", \"swarbrick\", \"success\", \"outlet\", \"innings\", \"hand\", \"fan\", \"cricket\", \"semifinal\", \"junction\", \"clothing\", \"grandparent\", \"knitting\", \"season\", \"police\", \"football\", \"first\", \"club\", \"investigation\", \"water\", \"letter\", \"last\", \"second\", \"great\", \"home\", \"life\", \"team\", \"championship\", \"scottish\", \"time\", \"month\", \"good\", \"year\", \"decision\", \"company\", \"medium\", \"point\", \"part\", \"side\", \"people\", \"hour\", \"death\", \"place\", \"different\", \"virus\", \"coin\", \"award\", \"amateur\", \"research\", \"detainee\", \"primate\", \"character\", \"long\", \"gchq\", \"cybersecurity\", \"nomination\", \"english\", \"detention\", \"genetic\", \"hivlike\", \"documentary\", \"cyber\", \"exam\", \"gile\", \"power\", \"rehabilitation\", \"unofficial\", \"illegal\", \"band\", \"disney\", \"grandiose\", \"20th\", \"immune\", \"monkey\", \"film\", \"study\", \"north\", \"year\", \"state\", \"student\", \"recent\", \"british\", \"half\", \"worker\", \"good\", \"people\", \"medium\", \"water\", \"authority\", \"able\", \"last\", \"school\", \"final\", \"centre\", \"change\", \"high\", \"thousand\", \"work\", \"station\", \"tour\", \"ticket\", \"strike\", \"remembrance\", \"uniform\", \"rail\", \"irving\", \"passenger\", \"shortman\", \"contractor\", \"escape\", \"plot\", \"european\", \"cash\", \"learning\", \"ballot\", \"plaid\", \"wreath\", \"legion\", \"independence\", \"shot\", \"golf\", \"cornwall\", \"davy\", \"related\", \"union\", \"economic\", \"lesson\", \"skirt\", \"rate\", \"park\", \"major\", \"safety\", \"policy\", \"service\", \"staff\", \"court\", \"part\", \"officer\", \"job\", \"game\", \"phone\", \"world\", \"labour\", \"crime\", \"plan\", \"place\", \"year\", \"work\", \"school\", \"last\", \"time\", \"event\", \"website\", \"late\", \"charge\", \"duffy\", \"black\", \"brunner\", \"farming\", \"yorkshire\", \"resident\", \"sight\", \"marriage\", \"outline\", \"dunbartonshire\", \"traffic\", \"vegan\", \"flanagan\", \"flat\", \"rugby\", \"church\", \"glasgow\", \"bradford\", \"regeneration\", \"glaucoma\", \"personal\", \"supermarket\", \"cultural\", \"seminary\", \"college\", \"rnib\", \"countryside\", \"message\", \"criticism\", \"passion\", \"tweet\", \"licence\", \"coach\", \"scotland\", \"welsh\", \"origin\", \"business\", \"datum\", \"project\", \"loss\", \"hospital\", \"post\", \"head\", \"high\", \"trial\", \"people\", \"work\", \"case\", \"legal\", \"final\", \"industry\", \"company\", \"month\", \"club\", \"year\", \"time\", \"good\", \"last\", \"road\", \"deal\", \"ring\", \"election\", \"index\", \"global\", \"italian\", \"debt\", \"cancer\", \"glencore\", \"giant\", \"airport\", \"engagement\", \"reasonable\", \"trade\", \"469bn\", \"seat\", \"nawaz\", \"maryam\", \"daughter\", \"car\", \"teenager\", \"mine\", \"viewer\", \"knife\", \"slowdown\", \"weak\", \"australian\", \"export\", \"australia\", \"benchmark\", \"interest\", \"bank\", \"share\", \"investor\", \"large\", \"euro\", \"mining\", \"point\", \"loan\", \"public\", \"market\", \"fund\", \"standard\", \"sale\", \"plan\", \"year\", \"early\", \"party\", \"cost\", \"stock\", \"day\", \"big\", \"people\", \"area\", \"company\", \"proposal\"], \"Freq\": [10.0, 11.0, 9.0, 6.0, 6.0, 6.0, 9.0, 14.0, 46.0, 12.0, 5.0, 7.0, 5.0, 16.0, 4.0, 9.0, 13.0, 5.0, 4.0, 4.0, 4.0, 4.0, 4.0, 3.0, 3.0, 3.0, 5.0, 6.0, 6.0, 10.0, 4.552261568063823, 3.8210527706638255, 3.8210524891235518, 3.8210527706638255, 3.821031092062747, 3.0862019682825785, 3.0862016867423048, 3.0862005605812097, 3.086201405202031, 3.086200279040936, 3.086196619017377, 3.086179445060678, 3.085330882675591, 2.351351306671468, 2.3513506028207836, 2.3513506028207836, 2.3513506028207836, 2.3513506028207836, 2.35135032128051, 2.35135032128051, 2.3513497581999623, 2.351348913579141, 2.351348772809004, 2.351344549704898, 2.342213917086863, 2.342175346069359, 3.821387522049316, 1.6164948734847457, 1.6164948734847457, 1.6164948734847457, 6.027741786945067, 8.967453564610087, 3.086490828603447, 10.432813818351335, 8.231324287845736, 5.292401386027766, 5.29063049770587, 3.086443529837457, 9.700331614293159, 5.292203744755593, 4.556114728250386, 4.552822114748863, 4.556855179170353, 4.55628308933409, 3.822287043223952, 3.8222774708546448, 6.026448390927452, 5.2216536937172995, 6.041581743722143, 8.917002110634368, 4.556337426606924, 4.556804220380804, 4.553134342912453, 4.751853632794199, 4.555639769808567, 4.19278334495052, 4.553403213873886, 3.821836297245676, 3.8217200211126165, 3.8215693970661597, 3.821468042567609, 5.854744836146513, 5.854743351583012, 4.426722914682942, 4.425604048657047, 3.712713191087407, 2.998701735501121, 2.9987014880738703, 2.998701735501121, 2.9987007457921195, 2.9987007457921195, 2.9987007457921195, 2.9987007457921195, 2.998142797342674, 2.2846887953513324, 2.284688300496832, 2.284688300496832, 2.2846880530695817, 2.2846875582150807, 2.2846860736515793, 2.2835194541663757, 3.712995753007259, 1.5706718963655393, 1.5706718963655393, 1.5706718963655393, 1.5706718963655393, 1.5706718963655393, 1.5706718963655393, 1.5706716489382888, 1.5706716489382888, 1.5706716489382888, 6.5694300361353895, 2.999017452672514, 2.9989961739289877, 20.79577741041599, 5.855860238190902, 5.855482664206932, 2.999914871309382, 2.9996360207982846, 4.428064960088613, 3.7130538984110815, 5.721670543258726, 5.856284823352432, 4.42961929807505, 3.712828492186051, 2.9995073586281245, 2.9989165023543882, 4.888191561560853, 2.9995209671268914, 2.9994977089653623, 2.9992072293735004, 2.9990533296238087, 2.9990402159795426, 2.99894990503318, 2.9987866030479764, 10.070808875030679, 5.100940909063614, 4.397034708599316, 3.6878139750274723, 3.6878139750274723, 2.9785917771279906, 2.9785917771279906, 2.978589336581927, 5.8160936338970295, 2.269367138682446, 2.2693668946278396, 2.2693666505732333, 2.2693666505732333, 2.2693666505732333, 2.2693668946278396, 2.269366406518627, 2.2693666505732333, 2.269366406518627, 2.269366406518627, 2.269366406518627, 2.269365918409414, 2.269363477863351, 2.2630956674634626, 2.262997801566322, 3.688111477592594, 3.6883550440897164, 3.688179812882368, 3.688268404704467, 1.5601387173905028, 1.5601387173905028, 2.978829486314561, 2.97870501846533, 2.974435771236717, 2.978940531160443, 2.9787355252911216, 4.39884022457698, 5.108205926584986, 4.398052416307731, 5.816891692459744, 3.6888858628584944, 3.6881612647322863, 4.33202100201781, 3.6878557083651553, 3.6889156375204672, 2.978631313974217, 2.979166037616696, 4.3978068973737585, 4.397270465349035, 7.292747981962099, 4.396800904286447, 3.6888509630497883, 3.938957879567002, 3.6888202121693903, 2.980013151155284, 2.979433277410633, 2.9792617070223795, 2.979191419295755, 5.04239263463487, 4.342044346702412, 3.641689527793865, 3.641688828046427, 3.640843066642871, 2.9413405401139685, 2.941339140619092, 2.941338207622508, 2.240987353949443, 2.240987353949443, 2.240986654202005, 2.240985954454567, 2.2409845549596907, 2.2409833887139605, 2.2409836219631063, 4.3423349751383835, 3.6419356056429413, 1.5406299693002892, 1.5406298526757163, 1.54062961942657, 1.54062961942657, 1.54062961942657, 1.540629036303705, 1.540629036303705, 1.540629036303705, 1.5406292695528512, 1.54062961942657, 1.5406284531808399, 1.5406295028019972, 1.5406295028019972, 2.941372028748684, 4.342879845143543, 4.342867249689656, 2.9426686607515435, 2.9415740225091587, 2.941535303150915, 4.343543205714892, 4.342586884216111, 4.342804272420224, 4.3432180564053064, 2.241103045525881, 2.2410396017581573, 3.5665420176688203, 5.7445378739884525, 3.6422539907272915, 6.4443170340045635, 5.0428969192886175, 3.6424349920646217, 2.941682250112923, 3.565026597966972, 2.9419120005217763, 3.642467880194214, 3.6423293302014637, 3.6419542655746246, 4.848381126436616, 3.6417606687834083, 3.626663617805705, 3.6409939788403616, 2.9423372137150148, 2.9423026928414004, 2.4464251018165655, 2.4464234531023346, 2.4453559106377916, 1.863921311699394, 1.8639214490922464, 1.8639210369136887, 1.863921311699394, 1.8639188386280474, 1.8623903431431001, 1.2814182085464854, 1.2814182085464854, 1.28141738418937, 1.28141738418937, 1.2814172467965173, 1.28141738418937, 1.2814172467965173, 1.2814172467965173, 1.2814172467965173, 1.2814157354751388, 1.2814157354751388, 1.2814155980822863, 1.2814144989394656, 1.281415048510876, 1.2784407680382344, 1.2784207086817576, 1.2784002371467234, 1.278391169218453, 1.2782896359003968, 1.27824773108036, 4.194454580615157, 5.36144666321216, 5.942933883613095, 2.446719397306791, 2.446676530736786, 1.8641404532992583, 1.8106084883272537, 4.778742142137369, 2.446740006234678, 2.911030848599569, 3.030551638915554, 1.8640776647656294, 1.864257512009656, 2.4474060867839835, 3.029963872292219, 4.388409872316039, 1.8644949268589135, 1.864281006187447, 1.8642937837227371, 1.6520189412374586, 1.8648121669555195, 1.8643509391494102, 2.4463956997461134, 1.8653228561885578, 1.8644897059305154, 1.864362754934732], \"Total\": [10.0, 11.0, 9.0, 6.0, 6.0, 6.0, 9.0, 14.0, 46.0, 12.0, 5.0, 7.0, 5.0, 16.0, 4.0, 9.0, 13.0, 5.0, 4.0, 4.0, 4.0, 4.0, 4.0, 3.0, 3.0, 3.0, 5.0, 6.0, 6.0, 10.0, 5.096846125243653, 4.362270668967477, 4.36227050466587, 4.36227117964108, 4.362258657902023, 3.627419986420931, 3.627419796506595, 3.6274192471517197, 3.627420639139657, 3.627420130456779, 3.6274170884149974, 3.627407784588741, 3.6272228350027, 2.8925690184518675, 2.8925684951334163, 2.89256856448036, 2.8925685816544666, 2.8925685816544666, 2.8925683986172803, 2.892568580179753, 2.892568414212031, 2.8925675846854477, 2.8925675630746714, 2.8925656090028395, 2.8919235535357393, 2.891920814206538, 5.076117793547285, 2.157712632481527, 2.157712632481527, 2.157712632481527, 8.69494203938361, 13.616982499464534, 4.336481169698164, 16.541655721961845, 12.982076166973123, 7.941649850426658, 9.401877518091446, 4.336481126017724, 24.032352380247946, 9.955991232308456, 7.915986738103246, 7.9430300490773735, 8.508045010971358, 8.653226505778129, 6.476647391016839, 6.48538666740947, 16.789974839755814, 12.74778700158822, 17.90776147760009, 46.24231850176511, 9.772345124089433, 11.76894929674569, 12.06436566864203, 14.703903999544309, 13.585506287158024, 10.609538317393456, 22.278679426045056, 9.214169522089971, 8.61308026322059, 12.742402651635695, 7.759483099964419, 6.400129936528583, 6.4001297337061445, 4.972109782195439, 4.972063942769037, 4.258098291469477, 3.5440867307310207, 3.5440866204191983, 3.544086979995554, 3.5440862391673598, 3.5440866131179627, 3.5440866676763347, 3.5440868347453582, 3.5440631543886787, 2.8300737991682854, 2.8300734566826264, 2.8300734566826264, 2.8300738848962963, 2.8300736100906483, 2.83007315649798, 2.830025805296332, 4.992742498010586, 2.1160569559862172, 2.1160569559862172, 2.11605698503661, 2.11605710514322, 2.11605710514322, 2.11605710514322, 2.116056860927808, 2.116056860927808, 2.116056860927808, 9.318502745515811, 4.278730059036622, 4.278730870741687, 46.24231850176511, 10.705407515396317, 10.732029926624952, 4.9778178188519355, 4.978931485388332, 8.442342949144814, 7.145913331402649, 17.90776147760009, 22.278679426045056, 12.06436566864203, 9.401877518091446, 5.5702189824556685, 5.6625758205550225, 24.032352380247946, 10.474037076172081, 9.202438061761773, 5.6792949638244705, 6.945370703797464, 13.26318362811787, 6.431903894725386, 17.540623946374122, 10.617157343035975, 5.65249601376481, 4.943382058762124, 4.234158747870894, 4.234158793587142, 3.524934902351655, 3.5249349641461083, 3.5249340985487483, 7.062023427057872, 2.8157103729417683, 2.8157101316694537, 2.815710023442243, 2.815710023442243, 2.8157101773298767, 2.8157105566857656, 2.81571006717182, 2.8157106009862236, 2.815710442835522, 2.8157104925154948, 2.815710584296275, 2.8157101350544282, 2.81570832658875, 2.8155768400858423, 2.8155746391617034, 4.8166163665890345, 4.934353282534295, 4.93435219967185, 4.947993514217883, 2.106481946056144, 2.106481946056144, 4.1073833969017235, 4.225125086848543, 4.2250265115971155, 4.238770675136493, 4.238773465878805, 7.674509594732726, 10.67168269927321, 8.47925465863905, 13.585506287158024, 6.369343147246352, 6.799662557290596, 9.248986557386607, 7.173391023264788, 7.679250988636957, 4.925497737746708, 4.9734044998155, 12.132643131140398, 12.742402651635695, 46.24231850176511, 17.540623946374122, 10.474037076172081, 24.032352380247946, 16.789974839755814, 7.087926773535095, 6.277026721375119, 7.864727359202995, 7.143346343231028, 5.590512689412587, 4.890163708061513, 4.189809432169227, 4.1898109373294945, 4.1898181869475835, 3.4894584600464023, 3.4894584319794886, 3.489457820399233, 2.789104672787813, 2.789104831154217, 2.789104065273572, 2.789105168977661, 2.789103927356247, 2.789102811797012, 2.7891038378539217, 5.599210582913218, 4.898860735224999, 2.0887472663591926, 2.0887471358993914, 2.088747244708488, 2.0887474707977454, 2.0887475097402115, 2.0887468565643332, 2.0887468917568675, 2.0887469005550012, 2.0887473376053234, 2.088747828727847, 2.088746450578504, 2.0887479138535343, 2.0887479290236985, 4.071868897742944, 6.359644278424856, 6.359644840888573, 4.198486934533709, 4.198507261644497, 4.2032935530875735, 7.04766537009696, 7.564379115260713, 7.741091992052191, 7.803562394970472, 3.371528001090936, 3.3715198287076507, 6.351103911003265, 13.26318362811787, 7.031162205061324, 22.278679426045056, 17.540623946374122, 9.155410649471301, 5.499761292663828, 9.202438061761773, 6.098026573627667, 11.76894929674569, 12.74778700158822, 12.982076166973123, 46.24231850176511, 16.789974839755814, 17.90776147760009, 24.032352380247946, 7.647875764457294, 7.065427997868692, 3.0181120309060363, 3.0181125920408487, 3.018342559911109, 2.4356091144357803, 2.4356094855116694, 2.4356094380599087, 2.435609810044287, 2.4356094758968503, 2.4359424281731528, 1.8531050540718534, 1.8531050540718534, 1.8531044099536715, 1.8531046680546668, 1.8531047034882226, 1.853105189883578, 1.8531053152881654, 1.8531053170577363, 1.8531053422558492, 1.853104556101201, 1.8531045852573442, 1.8531046800770936, 1.8531031309008839, 1.8531046709308776, 1.8537786763570274, 1.853784126350369, 1.8537896402859744, 1.853791694123633, 1.8538181155509845, 1.8538291824979105, 6.2350037383408425, 9.506760404019452, 11.446191736368242, 4.445915245696283, 4.487572415719946, 3.1357516981574447, 3.1496116420914104, 14.703903999544309, 5.222411552015073, 7.917266830085021, 8.581607072484621, 3.8361390828644897, 3.8447803002804553, 7.271739399214092, 12.132643131140398, 46.24231850176511, 5.254338537922582, 5.26396108755797, 5.271079866819694, 3.9259263383854064, 6.037043250774852, 6.033079734376171, 22.278679426045056, 6.06259927307787, 11.76894929674569, 7.382592854735785], \"Category\": [\"Default\", \"Default\", \"Default\", \"Default\", \"Default\", \"Default\", \"Default\", \"Default\", \"Default\", \"Default\", \"Default\", \"Default\", \"Default\", \"Default\", \"Default\", \"Default\", \"Default\", \"Default\", \"Default\", \"Default\", \"Default\", \"Default\", \"Default\", \"Default\", \"Default\", \"Default\", \"Default\", \"Default\", \"Default\", \"Default\", \"Topic1\", \"Topic1\", \"Topic1\", \"Topic1\", \"Topic1\", \"Topic1\", \"Topic1\", \"Topic1\", \"Topic1\", \"Topic1\", \"Topic1\", \"Topic1\", \"Topic1\", \"Topic1\", \"Topic1\", \"Topic1\", \"Topic1\", \"Topic1\", \"Topic1\", \"Topic1\", \"Topic1\", \"Topic1\", \"Topic1\", \"Topic1\", \"Topic1\", \"Topic1\", \"Topic1\", \"Topic1\", \"Topic1\", \"Topic1\", \"Topic1\", \"Topic1\", \"Topic1\", \"Topic1\", \"Topic1\", \"Topic1\", \"Topic1\", \"Topic1\", \"Topic1\", \"Topic1\", \"Topic1\", \"Topic1\", \"Topic1\", \"Topic1\", \"Topic1\", \"Topic1\", \"Topic1\", \"Topic1\", \"Topic1\", \"Topic1\", \"Topic1\", \"Topic1\", \"Topic1\", \"Topic1\", \"Topic1\", \"Topic1\", \"Topic1\", \"Topic1\", \"Topic1\", \"Topic1\", \"Topic1\", \"Topic2\", \"Topic2\", \"Topic2\", \"Topic2\", \"Topic2\", \"Topic2\", \"Topic2\", \"Topic2\", \"Topic2\", \"Topic2\", \"Topic2\", \"Topic2\", \"Topic2\", \"Topic2\", \"Topic2\", \"Topic2\", \"Topic2\", \"Topic2\", \"Topic2\", \"Topic2\", \"Topic2\", \"Topic2\", \"Topic2\", \"Topic2\", \"Topic2\", \"Topic2\", \"Topic2\", \"Topic2\", \"Topic2\", \"Topic2\", \"Topic2\", \"Topic2\", \"Topic2\", \"Topic2\", \"Topic2\", \"Topic2\", \"Topic2\", \"Topic2\", \"Topic2\", \"Topic2\", \"Topic2\", \"Topic2\", \"Topic2\", \"Topic2\", \"Topic2\", \"Topic2\", \"Topic2\", \"Topic2\", \"Topic2\", \"Topic2\", \"Topic2\", \"Topic2\", \"Topic2\", \"Topic2\", \"Topic3\", \"Topic3\", \"Topic3\", \"Topic3\", \"Topic3\", \"Topic3\", \"Topic3\", \"Topic3\", \"Topic3\", \"Topic3\", \"Topic3\", \"Topic3\", \"Topic3\", \"Topic3\", \"Topic3\", \"Topic3\", \"Topic3\", \"Topic3\", \"Topic3\", \"Topic3\", \"Topic3\", \"Topic3\", \"Topic3\", \"Topic3\", \"Topic3\", \"Topic3\", \"Topic3\", \"Topic3\", \"Topic3\", \"Topic3\", \"Topic3\", \"Topic3\", \"Topic3\", \"Topic3\", \"Topic3\", \"Topic3\", \"Topic3\", \"Topic3\", \"Topic3\", \"Topic3\", \"Topic3\", \"Topic3\", \"Topic3\", \"Topic3\", \"Topic3\", \"Topic3\", \"Topic3\", \"Topic3\", \"Topic3\", \"Topic3\", \"Topic3\", \"Topic3\", \"Topic3\", \"Topic3\", \"Topic3\", \"Topic3\", \"Topic3\", \"Topic4\", \"Topic4\", \"Topic4\", \"Topic4\", \"Topic4\", \"Topic4\", \"Topic4\", \"Topic4\", \"Topic4\", \"Topic4\", \"Topic4\", \"Topic4\", \"Topic4\", \"Topic4\", \"Topic4\", \"Topic4\", \"Topic4\", \"Topic4\", \"Topic4\", \"Topic4\", \"Topic4\", \"Topic4\", \"Topic4\", \"Topic4\", \"Topic4\", \"Topic4\", \"Topic4\", \"Topic4\", \"Topic4\", \"Topic4\", \"Topic4\", \"Topic4\", \"Topic4\", \"Topic4\", \"Topic4\", \"Topic4\", \"Topic4\", \"Topic4\", \"Topic4\", \"Topic4\", \"Topic4\", \"Topic4\", \"Topic4\", \"Topic4\", \"Topic4\", \"Topic4\", \"Topic4\", \"Topic4\", \"Topic4\", \"Topic4\", \"Topic4\", \"Topic4\", \"Topic4\", \"Topic4\", \"Topic4\", \"Topic4\", \"Topic4\", \"Topic4\", \"Topic4\", \"Topic4\", \"Topic5\", \"Topic5\", \"Topic5\", \"Topic5\", \"Topic5\", \"Topic5\", \"Topic5\", \"Topic5\", \"Topic5\", \"Topic5\", \"Topic5\", \"Topic5\", \"Topic5\", \"Topic5\", \"Topic5\", \"Topic5\", \"Topic5\", \"Topic5\", \"Topic5\", \"Topic5\", \"Topic5\", \"Topic5\", \"Topic5\", \"Topic5\", \"Topic5\", \"Topic5\", \"Topic5\", \"Topic5\", \"Topic5\", \"Topic5\", \"Topic5\", \"Topic5\", \"Topic5\", \"Topic5\", \"Topic5\", \"Topic5\", \"Topic5\", \"Topic5\", \"Topic5\", \"Topic5\", \"Topic5\", \"Topic5\", \"Topic5\", \"Topic5\", \"Topic5\", \"Topic5\", \"Topic5\", \"Topic5\", \"Topic5\", \"Topic5\", \"Topic5\", \"Topic5\", \"Topic5\", \"Topic5\", \"Topic5\"], \"logprob\": [30.0, 29.0, 28.0, 27.0, 26.0, 25.0, 24.0, 23.0, 22.0, 21.0, 20.0, 19.0, 18.0, 17.0, 16.0, 15.0, 14.0, 13.0, 12.0, 11.0, 10.0, 9.0, 8.0, 7.0, 6.0, 5.0, 4.0, 3.0, 2.0, 1.0, -5.5821, -5.7572, -5.7572, -5.7572, -5.7572, -5.9708, -5.9708, -5.9708, -5.9708, -5.9708, -5.9708, -5.9708, -5.9711, -6.2427, -6.2427, -6.2427, -6.2427, -6.2427, -6.2427, -6.2427, -6.2427, -6.2427, -6.2427, -6.2427, -6.2466, -6.2466, -5.7571, -6.6175, -6.6175, -6.6175, -5.3013, -4.9041, -5.9707, -4.7528, -4.9898, -5.4314, -5.4318, -5.9707, -4.8256, -5.4315, -5.5812, -5.582, -5.5811, -5.5812, -5.7569, -5.7569, -5.3016, -5.4449, -5.2991, -4.9098, -5.5812, -5.5811, -5.5819, -5.5392, -5.5814, -5.6644, -5.5818, -5.757, -5.757, -5.7571, -5.7571, -5.2013, -5.2013, -5.4809, -5.4812, -5.6568, -5.8704, -5.8704, -5.8704, -5.8704, -5.8704, -5.8704, -5.8704, -5.8706, -6.1423, -6.1423, -6.1423, -6.1423, -6.1423, -6.1423, -6.1428, -5.6567, -6.5171, -6.5171, -6.5171, -6.5171, -6.5171, -6.5171, -6.5171, -6.5171, -6.5171, -5.0861, -5.8703, -5.8703, -3.9338, -5.2011, -5.2012, -5.87, -5.8701, -5.4806, -5.6567, -5.2243, -5.201, -5.4802, -5.6568, -5.8701, -5.8703, -5.3817, -5.8701, -5.8701, -5.8702, -5.8703, -5.8703, -5.8703, -5.8704, -4.6452, -5.3254, -5.4739, -5.6498, -5.6498, -5.8634, -5.8634, -5.8634, -5.1942, -6.1353, -6.1353, -6.1353, -6.1353, -6.1353, -6.1353, -6.1353, -6.1353, -6.1353, -6.1353, -6.1353, -6.1353, -6.1353, -6.1381, -6.1381, -5.6497, -5.6497, -5.6497, -5.6497, -6.5101, -6.5101, -5.8633, -5.8633, -5.8648, -5.8633, -5.8633, -5.4735, -5.324, -5.4737, -5.1941, -5.6495, -5.6497, -5.4888, -5.6498, -5.6495, -5.8634, -5.8632, -5.4737, -5.4739, -4.968, -5.474, -5.6495, -5.5839, -5.6495, -5.8629, -5.8631, -5.8632, -5.8632, -5.2917, -5.4412, -5.6171, -5.6171, -5.6173, -5.8307, -5.8307, -5.8307, -6.1026, -6.1026, -6.1026, -6.1026, -6.1026, -6.1026, -6.1026, -5.4411, -5.617, -6.4774, -6.4774, -6.4774, -6.4774, -6.4774, -6.4774, -6.4774, -6.4774, -6.4774, -6.4774, -6.4774, -6.4774, -6.4774, -5.8307, -5.441, -5.441, -5.8302, -5.8306, -5.8306, -5.4409, -5.4411, -5.441, -5.4409, -6.1026, -6.1026, -5.638, -5.1613, -5.6169, -5.0464, -5.2916, -5.6169, -5.8306, -5.6384, -5.8305, -5.6169, -5.6169, -5.617, -5.3309, -5.6171, -5.6212, -5.6173, -5.8303, -5.8304, -5.4857, -5.4857, -5.4861, -5.7576, -5.7576, -5.7576, -5.7576, -5.7576, -5.7584, -6.1323, -6.1323, -6.1323, -6.1323, -6.1323, -6.1323, -6.1323, -6.1323, -6.1323, -6.1323, -6.1323, -6.1323, -6.1323, -6.1323, -6.1346, -6.1347, -6.1347, -6.1347, -6.1348, -6.1348, -4.9465, -4.7011, -4.5981, -5.4855, -5.4856, -5.7575, -5.7866, -4.8161, -5.4855, -5.3118, -5.2715, -5.7575, -5.7574, -5.4853, -5.2717, -4.9013, -5.7573, -5.7574, -5.7574, -5.8783, -5.7571, -5.7574, -5.4857, -5.7569, -5.7573, -5.7574], \"loglift\": [30.0, 29.0, 28.0, 27.0, 26.0, 25.0, 24.0, 23.0, 22.0, 21.0, 20.0, 19.0, 18.0, 17.0, 16.0, 15.0, 14.0, 13.0, 12.0, 11.0, 10.0, 9.0, 8.0, 7.0, 6.0, 5.0, 4.0, 3.0, 2.0, 1.0, 1.2887, 1.2693, 1.2693, 1.2693, 1.2692, 1.2401, 1.2401, 1.2401, 1.2401, 1.2401, 1.2401, 1.2401, 1.2399, 1.1946, 1.1946, 1.1946, 1.1946, 1.1946, 1.1946, 1.1946, 1.1946, 1.1946, 1.1946, 1.1946, 1.1909, 1.1909, 1.1178, 1.1129, 1.1129, 1.1129, 1.0353, 0.984, 1.0617, 0.9408, 0.9461, 0.9959, 0.8267, 1.0617, 0.4945, 0.7698, 0.8493, 0.8452, 0.7773, 0.7603, 0.8744, 0.873, 0.3771, 0.5092, 0.3151, -0.2442, 0.6387, 0.4529, 0.4273, 0.2721, 0.3091, 0.4733, -0.186, 0.5217, 0.5891, 0.1974, 0.6934, 1.4418, 1.4418, 1.4147, 1.4144, 1.3938, 1.3638, 1.3638, 1.3638, 1.3638, 1.3638, 1.3638, 1.3638, 1.3636, 1.3168, 1.3168, 1.3168, 1.3168, 1.3168, 1.3168, 1.3163, 1.2347, 1.2328, 1.2328, 1.2328, 1.2328, 1.2328, 1.2328, 1.2328, 1.2328, 1.2328, 1.1813, 1.1755, 1.1755, 0.7317, 0.9276, 0.925, 1.0245, 1.0242, 0.8856, 0.8762, 0.3899, 0.1948, 0.5289, 0.6018, 0.9119, 0.8952, -0.0617, 0.2804, 0.4099, 0.8924, 0.6911, 0.0442, 0.7679, -0.2354, 1.4918, 1.4419, 1.4275, 1.4064, 1.4064, 1.3762, 1.3762, 1.3762, 1.3505, 1.3289, 1.3289, 1.3289, 1.3289, 1.3289, 1.3289, 1.3289, 1.3289, 1.3289, 1.3289, 1.3289, 1.3289, 1.3289, 1.3262, 1.3261, 1.2776, 1.2536, 1.2535, 1.2508, 1.2444, 1.2444, 1.2233, 1.195, 1.1936, 1.1919, 1.1918, 0.988, 0.8079, 0.8881, 0.6964, 0.9984, 0.9329, 0.7861, 0.8793, 0.8114, 1.0416, 1.0321, 0.5298, 0.4806, -0.3024, 0.161, 0.501, -0.2639, 0.0291, 0.6781, 0.7994, 0.5739, 0.6701, 1.4867, 1.471, 1.4497, 1.4497, 1.4494, 1.419, 1.419, 1.419, 1.3711, 1.3711, 1.3711, 1.3711, 1.3711, 1.3711, 1.3711, 1.3357, 1.2934, 1.2855, 1.2855, 1.2855, 1.2855, 1.2855, 1.2855, 1.2855, 1.2855, 1.2855, 1.2855, 1.2855, 1.2855, 1.2855, 1.2647, 1.2085, 1.2084, 1.2345, 1.2341, 1.2329, 1.1059, 1.0349, 1.0119, 1.0039, 1.1815, 1.1815, 1.0129, 0.7531, 0.9321, 0.3495, 0.3433, 0.6682, 0.9642, 0.6416, 0.861, 0.4171, 0.3372, 0.3188, -0.6654, 0.0616, -0.007, -0.2973, 0.6347, 0.7139, 1.9091, 1.9091, 1.9086, 1.8516, 1.8516, 1.8516, 1.8516, 1.8516, 1.8507, 1.7503, 1.7503, 1.7503, 1.7503, 1.7503, 1.7503, 1.7503, 1.7503, 1.7503, 1.7503, 1.7503, 1.7503, 1.7503, 1.7503, 1.7476, 1.7475, 1.7475, 1.7475, 1.7474, 1.7474, 1.7227, 1.5464, 1.4637, 1.5219, 1.5126, 1.5991, 1.5655, 0.9952, 1.3609, 1.1186, 1.0783, 1.3974, 1.3953, 1.0302, 0.7318, -0.2358, 1.0831, 1.0811, 1.0798, 1.2535, 0.9444, 0.9448, -0.0899, 0.9404, 0.2767, 0.7429]}, \"token.table\": {\"Topic\": [2, 5, 2, 3, 4, 5, 2, 1, 2, 3, 5, 5, 5, 1, 2, 3, 5, 2, 3, 2, 1, 2, 4, 5, 5, 1, 2, 4, 5, 4, 4, 1, 2, 4, 4, 1, 2, 3, 4, 5, 5, 1, 3, 4, 5, 3, 1, 2, 4, 1, 2, 4, 2, 3, 4, 5, 2, 1, 2, 3, 4, 3, 4, 1, 1, 3, 4, 1, 4, 2, 4, 1, 2, 3, 4, 5, 3, 3, 1, 4, 5, 4, 1, 3, 4, 1, 1, 1, 2, 3, 4, 4, 2, 2, 1, 4, 5, 5, 3, 5, 1, 2, 3, 5, 1, 2, 3, 4, 1, 2, 3, 4, 5, 1, 3, 4, 5, 2, 2, 1, 1, 2, 4, 5, 2, 2, 4, 4, 3, 4, 5, 2, 3, 5, 5, 2, 3, 4, 5, 3, 1, 2, 3, 4, 2, 5, 1, 4, 1, 2, 1, 2, 3, 4, 1, 2, 3, 5, 4, 4, 1, 3, 1, 4, 5, 1, 2, 3, 4, 2, 2, 5, 2, 3, 4, 4, 5, 5, 3, 1, 2, 3, 4, 2, 1, 1, 3, 4, 1, 2, 3, 5, 1, 1, 2, 3, 4, 1, 2, 3, 4, 5, 2, 1, 2, 3, 4, 5, 1, 2, 3, 5, 1, 2, 2, 3, 5, 1, 3, 4, 5, 1, 1, 5, 1, 3, 4, 2, 5, 3, 5, 1, 3, 4, 5, 1, 2, 5, 1, 3, 4, 1, 5, 1, 2, 3, 4, 5, 1, 3, 4, 3, 2, 4, 5, 3, 3, 1, 3, 1, 4, 1, 2, 4, 5, 1, 1, 1, 5, 2, 1, 3, 4, 3, 4, 1, 2, 3, 4, 5, 4, 5, 1, 1, 2, 4, 5, 4, 5, 4, 5, 2, 1, 2, 3, 4, 5, 1, 5, 2, 1, 2, 1, 3, 4, 2, 4, 1, 4, 1, 3, 4, 1, 2, 3, 4, 2, 4, 5, 3, 4, 4, 1, 2, 3, 4, 5, 4, 1, 3, 1, 2, 3, 4, 5, 3, 1, 2, 3, 4, 5, 1, 3, 1, 2, 3, 4, 5, 1, 3, 4, 5, 2, 3, 4, 5, 1, 2, 1, 2, 2, 3, 4, 2, 3, 4, 5, 1, 1, 2, 3, 4, 5, 3, 3, 5, 5, 1, 2, 4, 1, 4, 2, 3, 4, 3, 2, 4, 5, 4, 1, 2, 3, 4, 5, 4, 2, 3, 1, 3, 4, 5, 2, 3, 4, 5, 3, 4, 1, 2, 3, 4, 1, 2, 4, 5, 1, 2, 3, 4, 5, 1, 4, 1, 2, 3, 4, 5, 1, 2, 3, 4, 5, 3, 3, 1, 2, 3, 4, 5, 4, 3, 5, 1, 2, 3, 4, 3, 4, 5, 1, 2, 4, 3, 1, 4, 5, 3, 1, 2, 3, 1, 2, 1, 1, 4, 1, 1, 2, 4, 5, 1, 2, 3, 3, 1, 2, 3, 4, 5, 3, 5, 4, 1, 2, 3, 4, 4, 5, 3, 3, 4, 2, 4, 5, 2, 1, 2, 5, 1, 3, 4, 5, 3, 4, 1, 1, 2, 3, 4, 5, 1, 2, 3, 1, 2, 3, 4, 5, 3, 1, 2, 3, 4, 5, 4], \"Freq\": [0.9451541860378356, 0.5396349154570884, 0.5297942305885014, 0.3531961537256676, 0.1765980768628338, 0.5396348133651064, 0.804494883018806, 0.3298915052626655, 0.16494575263133274, 0.16494575263133274, 0.3298915052626655, 0.5394272456458243, 0.5394355315556383, 0.1795261556412174, 0.5385784669236522, 0.1795261556412174, 0.1795261556412174, 0.8044874661302827, 0.7103002699565378, 0.9451540769570276, 0.10518830363887162, 0.21037660727774324, 0.10518830363887162, 0.5259415181943581, 0.5394240253854279, 0.33150564687618916, 0.33150564687618916, 0.16575282343809458, 0.33150564687618916, 0.8179685259628294, 0.957511725909337, 0.20084630666935255, 0.6025389200080576, 0.20084630666935255, 0.9546973590942165, 0.14189095927326106, 0.14189095927326106, 0.14189095927326106, 0.5675638370930443, 0.8211495912654555, 0.5396349583770537, 0.4369001187544754, 0.10922502968861884, 0.4369001187544754, 0.10922502968861884, 0.7103002811319149, 0.17607819392542945, 0.5282345817762883, 0.3521563878508589, 0.6176034850296206, 0.15440087125740515, 0.3088017425148103, 0.4319423869426745, 0.28796159129511634, 0.28796159129511634, 0.14398079564755817, 0.8464803535955439, 0.2799808246586255, 0.13999041232931275, 0.41997123698793826, 0.13999041232931275, 0.17859660485919948, 0.7143864194367979, 0.9269074898541305, 0.6162342522956608, 0.0770292815369576, 0.3081171261478304, 0.31448297036042644, 0.6289659407208529, 0.9374809964243584, 0.9575118935992579, 0.42484676192653686, 0.08496935238530738, 0.08496935238530738, 0.3398774095412295, 0.16993870477061476, 0.710300388347925, 0.7103345697826967, 0.18971444661553763, 0.37942889323107526, 0.37942889323107526, 0.9575114681115438, 0.1179348940748176, 0.4717395762992704, 0.35380468222445277, 0.6914269942239561, 0.6915812133259017, 0.20106950883184696, 0.20106950883184696, 0.6032085264955409, 0.9575114290887294, 0.9575119137652189, 0.7066953993242385, 0.8464804281908087, 0.2643971130380168, 0.5287942260760335, 0.1321985565190084, 0.539634729444288, 0.8304584994035275, 0.20761462485088186, 0.33128800257366064, 0.16564400128683032, 0.33128800257366064, 0.33128800257366064, 0.141534242554259, 0.141534242554259, 0.283068485108518, 0.424602727662777, 0.46440992975309, 0.1161024824382725, 0.3483074473148175, 0.1161024824382725, 0.821149716677525, 0.5116479142426817, 0.10232958284853635, 0.3069887485456091, 0.10232958284853635, 0.8464804131306362, 0.7066953521098174, 0.9169561719487199, 0.515498255292075, 0.12887456382301876, 0.2577491276460375, 0.12887456382301876, 0.9451540769570276, 0.7066953307027484, 0.8943723550559307, 0.7170759512729892, 0.38063782635344695, 0.38063782635344695, 0.38063782635344695, 0.2021021242502715, 0.808408497001086, 0.66266580155898, 0.5396348133651064, 0.8464860442131357, 0.7103004156496816, 0.3189028010692288, 0.6378056021384576, 0.7103003768294752, 0.14108497900031933, 0.28216995800063865, 0.42325493700095795, 0.28216995800063865, 0.7066955125905161, 0.5394349339086574, 0.691427704794383, 0.9546970161258693, 0.2146267543852393, 0.7511936403483375, 0.10866685472790388, 0.32600056418371165, 0.21733370945580777, 0.43466741891161553, 0.6045344050247224, 0.18136032150741674, 0.1209068810049445, 0.06045344050247225, 0.7170761836385826, 0.7170764704480023, 0.6918051485990453, 0.23060171619968176, 0.8270790454476632, 0.5213575307875898, 0.5213575307875898, 0.21623990775537683, 0.21623990775537683, 0.43247981551075365, 0.10811995387768841, 0.8464804412216962, 0.706695437631634, 0.821037466595592, 0.7067073368225277, 0.20412909328276121, 0.8165163731310449, 0.9575117358343308, 0.821149703921049, 0.8211498257852877, 0.7103340145172607, 0.3350502522330943, 0.3350502522330943, 0.11168341741103144, 0.22336683482206288, 0.9451540769570276, 0.9269074898541305, 0.6316331956359559, 0.25265327825438233, 0.25265327825438233, 0.23690106076567222, 0.47380212153134443, 0.23690106076567222, 0.11845053038283611, 0.6914272377009194, 0.15745294267151, 0.15745294267151, 0.15745294267151, 0.62981177068604, 0.07539667911103982, 0.22619003733311946, 0.15079335822207965, 0.4523800746662389, 0.07539667911103982, 0.706695437631634, 0.6294826998143834, 0.2517930799257534, 0.2517930799257534, 0.5932028443343356, 0.2966014221671678, 0.4341140013118311, 0.21705700065591554, 0.21705700065591554, 0.10852850032795777, 0.8270342619909803, 0.9451541306036226, 0.9451541860378356, 0.7103003874940201, 0.6626153129745818, 0.16398747823184837, 0.16398747823184837, 0.4919624346955451, 0.16398747823184837, 0.6914272325351699, 0.3207696553093338, 0.6415393106186676, 0.6295920991444088, 0.12591841982888177, 0.25183683965776354, 0.449851130638631, 0.449851130638631, 0.8510797411035659, 0.821149700679476, 0.8270339446245012, 0.5882644861120646, 0.2941322430560323, 0.14706612152801615, 0.788003778219009, 0.19700094455475226, 0.5396349249379777, 0.9269074898541305, 0.6090755005345764, 0.4060503336897176, 0.4456752592992169, 0.4456752592992169, 0.4161057495236689, 0.20805287476183446, 0.16644229980946756, 0.16644229980946756, 0.08322114990473378, 0.3814499680639937, 0.3814499680639937, 0.25429997870932913, 0.7103004046183127, 0.3636521466245844, 0.5454782199368766, 0.1818260733122922, 0.7103002741667983, 0.9494503400537068, 0.6918051555674494, 0.23060171852248315, 0.31448299817412995, 0.6289659963482599, 0.5876790724017518, 0.23507162896070072, 0.23507162896070072, 0.11753581448035036, 0.6914268898138238, 0.6914269942239561, 0.3829648391514257, 0.3829648391514257, 0.8464805305372066, 0.2562932028696322, 0.1281466014348161, 0.5125864057392644, 0.7100547160509912, 0.23668490535033043, 0.11652829027867287, 0.23305658055734574, 0.23305658055734574, 0.23305658055734574, 0.34958487083601864, 0.8597324152944673, 0.5396347367821208, 0.9809988132143144, 0.41444367133168986, 0.3315549370653519, 0.16577746853267594, 0.08288873426633797, 0.9575120998750594, 0.5396349222745461, 0.3174994614053364, 0.6349989228106728, 0.9451541860378356, 0.3922249406408391, 0.15688997625633563, 0.15688997625633563, 0.31377995251267127, 0.07844498812816782, 0.8270347541729347, 0.5396347372974298, 0.8464803882875374, 0.23371416202829723, 0.7011424860848917, 0.15700206079057438, 0.6280082431622975, 0.31400412158114877, 0.23790867503542298, 0.7137260251062689, 0.6914270342486689, 0.7170759919888292, 0.8270340606016949, 0.7100381499563259, 0.23667938331877528, 0.3680392835065964, 0.07360785670131928, 0.4416471402079157, 0.14721571340263856, 0.3799420183267027, 0.3799420183267027, 0.3799420183267027, 0.8496148535859044, 0.1416024755976507, 0.9575114221345128, 0.22442981939740617, 0.2693157832768874, 0.1346578916384437, 0.2693157832768874, 0.08977192775896246, 0.9575116321917793, 0.41821225000427004, 0.5576163333390267, 0.313912541406509, 0.1569562707032545, 0.313912541406509, 0.1569562707032545, 0.07847813535162725, 0.7103003098521479, 0.08242227099166362, 0.16484454198332724, 0.3296890839666545, 0.16484454198332724, 0.24726681297499084, 0.827036875408847, 0.7103004156496816, 0.34004574568461243, 0.13601829827384498, 0.06800914913692249, 0.20402744741076748, 0.34004574568461243, 0.6609393821541528, 0.1468754182564784, 0.1468754182564784, 0.0734377091282392, 0.2359173020331896, 0.7077519060995688, 0.5932042822262229, 0.29660214111311145, 0.20029072206276632, 0.8011628882510653, 0.6914269983291799, 0.8464804394778469, 0.258361482082038, 0.129180741041019, 0.516722964164076, 0.2709075306404091, 0.2709075306404091, 0.2709075306404091, 0.2709075306404091, 0.8270340934411656, 0.12630621418493498, 0.25261242836986997, 0.12630621418493498, 0.12630621418493498, 0.378918642554805, 0.8510795321089647, 0.7303920063227982, 0.24346400210759941, 0.5396350009360781, 0.20089124118058546, 0.6026737235417563, 0.20089124118058546, 0.9169536817401887, 0.957511785713986, 0.9451541435792179, 0.8106432131964395, 0.20266080329910988, 0.9446976825853136, 0.9393864880980924, 0.8597322576982638, 0.6626659247634359, 0.9575116932490891, 0.13075526208825147, 0.13075526208825147, 0.26151052417650295, 0.3922657862647544, 0.13075526208825147, 0.717076206649553, 0.2359174573575625, 0.7077523720726875, 0.1375186795208966, 0.2750373590417932, 0.2750373590417932, 0.2750373590417932, 0.28642251103205013, 0.38189668137606686, 0.28642251103205013, 0.09547417034401671, 0.23818104369331844, 0.7145431310799554, 0.6167712435868938, 0.15419281089672346, 0.15419281089672346, 0.15419281089672346, 0.6900563537770683, 0.23001878459235608, 0.11500939229617804, 0.5396347738159567, 0.5022101650485955, 0.10044203300971911, 0.20088406601943823, 0.10044203300971911, 0.10044203300971911, 0.6915818684159731, 0.9575118976324501, 0.13030148541169767, 0.13030148541169767, 0.5212059416467907, 0.13030148541169767, 0.13030148541169767, 0.9169536472038257, 0.08736530219240322, 0.17473060438480645, 0.26209590657720966, 0.5241918131544193, 0.7103003274837749, 0.7103008437038696, 0.37701923310294594, 0.18850961655147297, 0.18850961655147297, 0.2827644248272094, 0.09425480827573648, 0.8597322646133858, 0.9494503400537068, 0.5394387219757865, 0.18741186899571227, 0.09370593449785614, 0.4685296724892807, 0.18741186899571227, 0.2600928848722658, 0.2600928848722658, 0.5201857697445316, 0.1868214728980319, 0.5604644186940957, 0.1868214728980319, 0.9418716966231284, 0.2547169543714018, 0.2547169543714018, 0.5094339087428036, 0.9446976927852224, 0.186358034190552, 0.559074102571656, 0.186358034190552, 0.23371420636551096, 0.7011426190965329, 0.6914269945764653, 0.9169535398597373, 0.9575116143399977, 0.6914270379763707, 0.5778191518113257, 0.3466914910867954, 0.11556383036226514, 0.5396349498866132, 0.31094991976483677, 0.46642487964725515, 0.31094991976483677, 0.8091626243838501, 0.357356104298204, 0.11911870143273467, 0.23823740286546935, 0.23823740286546935, 0.11911870143273467, 0.88456497586626, 0.5396349257755472, 0.7170761481801605, 0.6914270149055718, 0.14222399808671152, 0.28444799617342303, 0.5688959923468461, 0.7367624241691362, 0.24558747472304537, 0.8510795470289548, 0.8106433910951902, 0.20266084777379756, 0.9451541435792179, 0.7170758644189437, 0.5396353734040972, 0.9374809667152456, 0.5318086722975078, 0.42544693783800624, 0.5394371360643521, 0.31862218989596025, 0.4779332848439404, 0.15931109494798013, 0.15931109494798013, 0.2381798905376464, 0.7145396716129393, 0.8270341367407117, 0.22804205895006674, 0.17103154421255007, 0.22804205895006674, 0.2850525736875834, 0.057010514737516685, 0.2798802486465962, 0.5597604972931924, 0.2798802486465962, 0.13022103346793942, 0.26044206693587885, 0.5208841338717577, 0.13022103346793942, 0.13022103346793942, 0.710300297319716, 0.19462691948840025, 0.45412947880626725, 0.1513764929354224, 0.10812606638244458, 0.08650085310595566, 0.9546953642191639], \"Term\": [\"20th\", \"469bn\", \"able\", \"able\", \"able\", \"airport\", \"amateur\", \"area\", \"area\", \"area\", \"area\", \"australia\", \"australian\", \"authority\", \"authority\", \"authority\", \"authority\", \"award\", \"ballot\", \"band\", \"bank\", \"bank\", \"bank\", \"bank\", \"benchmark\", \"big\", \"big\", \"big\", \"big\", \"black\", \"bradford\", \"british\", \"british\", \"british\", \"brunner\", \"business\", \"business\", \"business\", \"business\", \"cancer\", \"car\", \"case\", \"case\", \"case\", \"case\", \"cash\", \"centre\", \"centre\", \"centre\", \"championship\", \"championship\", \"championship\", \"change\", \"change\", \"change\", \"change\", \"character\", \"charge\", \"charge\", \"charge\", \"charge\", \"church\", \"church\", \"clothing\", \"club\", \"club\", \"club\", \"coach\", \"coach\", \"coin\", \"college\", \"company\", \"company\", \"company\", \"company\", \"company\", \"contractor\", \"cornwall\", \"cost\", \"cost\", \"cost\", \"countryside\", \"court\", \"court\", \"court\", \"coutinho\", \"cricket\", \"crime\", \"crime\", \"crime\", \"criticism\", \"cultural\", \"cyber\", \"cybersecurity\", \"datum\", \"datum\", \"datum\", \"daughter\", \"davy\", \"davy\", \"day\", \"day\", \"day\", \"day\", \"deal\", \"deal\", \"deal\", \"deal\", \"death\", \"death\", \"death\", \"death\", \"debt\", \"decision\", \"decision\", \"decision\", \"decision\", \"detainee\", \"detention\", \"device\", \"different\", \"different\", \"different\", \"different\", \"disney\", \"documentary\", \"duffy\", \"dunbartonshire\", \"early\", \"early\", \"early\", \"economic\", \"economic\", \"election\", \"engagement\", \"english\", \"escape\", \"euro\", \"euro\", \"european\", \"event\", \"event\", \"event\", \"event\", \"exam\", \"export\", \"fan\", \"farming\", \"film\", \"film\", \"final\", \"final\", \"final\", \"final\", \"first\", \"first\", \"first\", \"first\", \"flanagan\", \"flat\", \"football\", \"football\", \"fresh\", \"fund\", \"fund\", \"game\", \"game\", \"game\", \"game\", \"gchq\", \"genetic\", \"giant\", \"gile\", \"glasgow\", \"glasgow\", \"glaucoma\", \"glencore\", \"global\", \"golf\", \"good\", \"good\", \"good\", \"good\", \"grandiose\", \"grandparent\", \"great\", \"great\", \"great\", \"half\", \"half\", \"half\", \"half\", \"hand\", \"head\", \"head\", \"head\", \"head\", \"high\", \"high\", \"high\", \"high\", \"high\", \"hivlike\", \"home\", \"home\", \"home\", \"hospital\", \"hospital\", \"hour\", \"hour\", \"hour\", \"hour\", \"hughe\", \"illegal\", \"immune\", \"independence\", \"index\", \"industry\", \"industry\", \"industry\", \"industry\", \"innings\", \"interest\", \"interest\", \"investigation\", \"investigation\", \"investigation\", \"investor\", \"investor\", \"irving\", \"italian\", \"jean\", \"job\", \"job\", \"job\", \"junction\", \"junction\", \"knife\", \"knitting\", \"labour\", \"labour\", \"large\", \"large\", \"last\", \"last\", \"last\", \"last\", \"last\", \"late\", \"late\", \"late\", \"learning\", \"legal\", \"legal\", \"legal\", \"legion\", \"lesson\", \"letter\", \"letter\", \"licence\", \"licence\", \"life\", \"life\", \"life\", \"life\", \"lingerie\", \"liverpools\", \"loan\", \"loan\", \"long\", \"loss\", \"loss\", \"loss\", \"major\", \"major\", \"market\", \"market\", \"market\", \"market\", \"market\", \"marriage\", \"maryam\", \"match\", \"medium\", \"medium\", \"medium\", \"medium\", \"message\", \"mine\", \"mining\", \"mining\", \"monkey\", \"month\", \"month\", \"month\", \"month\", \"month\", \"movie\", \"nawaz\", \"nomination\", \"north\", \"north\", \"officer\", \"officer\", \"officer\", \"origin\", \"origin\", \"outlet\", \"outline\", \"palermo\", \"park\", \"park\", \"part\", \"part\", \"part\", \"part\", \"party\", \"party\", \"party\", \"passenger\", \"passenger\", \"passion\", \"people\", \"people\", \"people\", \"people\", \"people\", \"personal\", \"phone\", \"phone\", \"place\", \"place\", \"place\", \"place\", \"place\", \"plaid\", \"plan\", \"plan\", \"plan\", \"plan\", \"plan\", \"playback\", \"plot\", \"point\", \"point\", \"point\", \"point\", \"point\", \"police\", \"police\", \"police\", \"police\", \"policy\", \"policy\", \"post\", \"post\", \"power\", \"power\", \"powerful\", \"primate\", \"project\", \"project\", \"project\", \"proposal\", \"proposal\", \"proposal\", \"proposal\", \"protester\", \"public\", \"public\", \"public\", \"public\", \"public\", \"rail\", \"rate\", \"rate\", \"reasonable\", \"recent\", \"recent\", \"recent\", \"referee\", \"regeneration\", \"rehabilitation\", \"related\", \"related\", \"remembrance\", \"research\", \"resident\", \"ring\", \"rnib\", \"road\", \"road\", \"road\", \"road\", \"road\", \"rugby\", \"safety\", \"safety\", \"sale\", \"sale\", \"sale\", \"sale\", \"school\", \"school\", \"school\", \"school\", \"scotland\", \"scotland\", \"scottish\", \"scottish\", \"scottish\", \"scottish\", \"season\", \"season\", \"season\", \"seat\", \"second\", \"second\", \"second\", \"second\", \"second\", \"semifinal\", \"seminary\", \"service\", \"service\", \"service\", \"service\", \"service\", \"sewer\", \"share\", \"share\", \"share\", \"share\", \"shortman\", \"shot\", \"side\", \"side\", \"side\", \"side\", \"side\", \"sight\", \"skirt\", \"slowdown\", \"staff\", \"staff\", \"staff\", \"staff\", \"standard\", \"standard\", \"standard\", \"state\", \"state\", \"state\", \"station\", \"stock\", \"stock\", \"stock\", \"strike\", \"student\", \"student\", \"student\", \"study\", \"study\", \"success\", \"suffolk\", \"supermarket\", \"swarbrick\", \"team\", \"team\", \"team\", \"teenager\", \"thousand\", \"thousand\", \"thousand\", \"ticket\", \"time\", \"time\", \"time\", \"time\", \"time\", \"tour\", \"trade\", \"traffic\", \"transfer\", \"trial\", \"trial\", \"trial\", \"tweet\", \"tweet\", \"uniform\", \"union\", \"union\", \"unofficial\", \"vegan\", \"viewer\", \"virus\", \"water\", \"water\", \"weak\", \"website\", \"website\", \"website\", \"website\", \"welsh\", \"welsh\", \"wicket\", \"work\", \"work\", \"work\", \"work\", \"work\", \"worker\", \"worker\", \"worker\", \"world\", \"world\", \"world\", \"world\", \"world\", \"wreath\", \"year\", \"year\", \"year\", \"year\", \"year\", \"yorkshire\"]}, \"R\": 30, \"lambda.step\": 0.01, \"plot.opts\": {\"xlab\": \"PC1\", \"ylab\": \"PC2\"}, \"topic.order\": [4, 5, 2, 3, 1]};\n",
       "\n",
       "function LDAvis_load_lib(url, callback){\n",
       "  var s = document.createElement('script');\n",
       "  s.src = url;\n",
       "  s.async = true;\n",
       "  s.onreadystatechange = s.onload = callback;\n",
       "  s.onerror = function(){console.warn(\"failed to load library \" + url);};\n",
       "  document.getElementsByTagName(\"head\")[0].appendChild(s);\n",
       "}\n",
       "\n",
       "if(typeof(LDAvis) !== \"undefined\"){\n",
       "   // already loaded: just create the visualization\n",
       "   !function(LDAvis){\n",
       "       new LDAvis(\"#\" + \"ldavis_el889851396251843105444678063547\", ldavis_el889851396251843105444678063547_data);\n",
       "   }(LDAvis);\n",
       "}else if(typeof define === \"function\" && define.amd){\n",
       "   // require.js is available: use it to load d3/LDAvis\n",
       "   require.config({paths: {d3: \"https://d3js.org/d3.v5\"}});\n",
       "   require([\"d3\"], function(d3){\n",
       "      window.d3 = d3;\n",
       "      LDAvis_load_lib(\"https://cdn.jsdelivr.net/gh/bmabey/pyLDAvis@3.3.1/pyLDAvis/js/ldavis.v3.0.0.js\", function(){\n",
       "        new LDAvis(\"#\" + \"ldavis_el889851396251843105444678063547\", ldavis_el889851396251843105444678063547_data);\n",
       "      });\n",
       "    });\n",
       "}else{\n",
       "    // require.js not available: dynamically load d3 & LDAvis\n",
       "    LDAvis_load_lib(\"https://d3js.org/d3.v5.js\", function(){\n",
       "         LDAvis_load_lib(\"https://cdn.jsdelivr.net/gh/bmabey/pyLDAvis@3.3.1/pyLDAvis/js/ldavis.v3.0.0.js\", function(){\n",
       "                 new LDAvis(\"#\" + \"ldavis_el889851396251843105444678063547\", ldavis_el889851396251843105444678063547_data);\n",
       "            })\n",
       "         });\n",
       "}\n",
       "</script>"
      ],
      "text/plain": [
       "PreparedData(topic_coordinates=              x         y  topics  cluster       Freq\n",
       "topic                                                \n",
       "3     -0.066398 -0.054633       1        1  24.617391\n",
       "4     -0.109795 -0.003317       2        1  21.634608\n",
       "1      0.095143 -0.095199       3        1  21.339710\n",
       "2      0.058891  0.045524       4        1  20.394899\n",
       "0      0.022159  0.107624       5        1  12.013392, topic_info=         Term       Freq      Total Category  logprob  loglift\n",
       "233   station  10.000000  10.000000  Default  30.0000  30.0000\n",
       "565     share  11.000000  11.000000  Default  29.0000  29.0000\n",
       "125      bank   9.000000   9.000000  Default  28.0000  28.0000\n",
       "826  interest   6.000000   6.000000  Default  27.0000  27.0000\n",
       "698     virus   6.000000   6.000000  Default  26.0000  26.0000\n",
       "..        ...        ...        ...      ...      ...      ...\n",
       "169       big   1.864351   6.033080   Topic5  -5.7574   0.9448\n",
       "105    people   2.446396  22.278679   Topic5  -5.4857  -0.0899\n",
       "240      area   1.865323   6.062599   Topic5  -5.7569   0.9404\n",
       "129   company   1.864490  11.768949   Topic5  -5.7573   0.2767\n",
       "108  proposal   1.864363   7.382593   Topic5  -5.7574   0.7429\n",
       "\n",
       "[317 rows x 6 columns], token_table=      Topic      Freq       Term\n",
       "term                            \n",
       "659       2  0.945154       20th\n",
       "2065      5  0.539635      469bn\n",
       "279       2  0.529794       able\n",
       "279       3  0.353196       able\n",
       "279       4  0.176598       able\n",
       "...     ...       ...        ...\n",
       "121       2  0.454129       year\n",
       "121       3  0.151376       year\n",
       "121       4  0.108126       year\n",
       "121       5  0.086501       year\n",
       "814       4  0.954695  yorkshire\n",
       "\n",
       "[526 rows x 3 columns], R=30, lambda_step=0.01, plot_opts={'xlab': 'PC1', 'ylab': 'PC2'}, topic_order=[4, 5, 2, 3, 1])"
      ]
     },
     "execution_count": 24,
     "metadata": {},
     "output_type": "execute_result"
    }
   ],
   "source": [
    "# Visualize the topics\n",
    "#https://github.com/bmabey/pyLDAvis\n",
    "#https://speakerdeck.com/bmabey/visualizing-topic-models\n",
    "pyLDAvis.enable_notebook()\n",
    "vis = pyLDAvis.gensim_models.prepare(lda_model, doc_term_matrix, dictionary)\n",
    "vis"
   ]
  },
  {
   "cell_type": "code",
   "execution_count": 25,
   "metadata": {},
   "outputs": [
    {
     "name": "stdout",
     "output_type": "stream",
     "text": [
      "\n",
      "Perplexity:  -6.895251485820896\n",
      "\n",
      "Coherence Score:  0.373913358047572\n"
     ]
    }
   ],
   "source": [
    "\n",
    "print('\\nPerplexity: ', lda_model.log_perplexity(doc_term_matrix,total_docs=10000))  # a measure of how good the model is. lower the better.\n",
    "\n",
    "# Compute Coherence Score\n",
    "from gensim.models.coherencemodel import CoherenceModel\n",
    "coherence_model_lda = CoherenceModel(model=lda_model, texts=tokenized_reviews, dictionary=dictionary , coherence='c_v')\n",
    "coherence_lda = coherence_model_lda.get_coherence()\n",
    "print('\\nCoherence Score: ', coherence_lda)\n"
   ]
  },
  {
   "cell_type": "markdown",
   "metadata": {},
   "source": [
    "***\n",
    "Method to find optimal number of topics\n",
    "Code from:https://www.machinelearningplus.com/nlp/topic-modeling-gensim-python/#14computemodelperplexityandcoherencescore\n",
    "***"
   ]
  },
  {
   "cell_type": "code",
   "execution_count": 26,
   "metadata": {},
   "outputs": [],
   "source": [
    "\n",
    "\n",
    "def compute_coherence_values(dictionary, corpus, texts, limit, start=2, step=3):\n",
    "    \"\"\"\n",
    "    Compute c_v coherence for various number of topics\n",
    "\n",
    "    Parameters:\n",
    "    ----------\n",
    "    dictionary : Gensim dictionary\n",
    "    corpus : Gensim corpus\n",
    "    texts : List of input texts\n",
    "    limit : Max num of topics\n",
    "\n",
    "    Returns:\n",
    "    -------\n",
    "    model_list : List of LDA topic models\n",
    "    coherence_values : Coherence values corresponding to the LDA model with respective number of topics\n",
    "    \"\"\"\n",
    "    coherence_values = []\n",
    "    model_list = []\n",
    "    for num_topics in range(start, limit, step):\n",
    "        model = gensim.models.ldamodel.LdaModel(corpus=corpus, num_topics=num_topics, id2word=dictionary)\n",
    "        model_list.append(model)\n",
    "        coherencemodel = CoherenceModel(model=model, texts=texts, dictionary=dictionary, coherence='c_v')\n",
    "        coherence_values.append(coherencemodel.get_coherence())\n",
    "\n",
    "    return model_list, coherence_values"
   ]
  },
  {
   "cell_type": "code",
   "execution_count": 27,
   "metadata": {},
   "outputs": [],
   "source": [
    "model_list, coherence_values = compute_coherence_values(dictionary=dictionary, corpus=doc_term_matrix, texts=tokenized_reviews, start=2, limit=50, step=1)"
   ]
  },
  {
   "cell_type": "code",
   "execution_count": 28,
   "metadata": {},
   "outputs": [
    {
     "data": {
      "image/png": "[encoded data removed]",
      "text/plain": [
       "<Figure size 432x288 with 1 Axes>"
      ]
     },
     "metadata": {
      "needs_background": "light"
     },
     "output_type": "display_data"
    }
   ],
   "source": [
    "# Show graph\n",
    "limit=50; start=2; step=1;\n",
    "x = range(start, limit, step)\n",
    "plt.plot(x, coherence_values)\n",
    "plt.xlabel(\"Num Topics\")\n",
    "plt.ylabel(\"Coherence score\")\n",
    "plt.legend((\"coherence_values\"), loc='best')\n",
    "plt.show()# Print the coherence scores\n"
   ]
  },
  {
   "cell_type": "code",
   "execution_count": 29,
   "metadata": {},
   "outputs": [
    {
     "name": "stdout",
     "output_type": "stream",
     "text": [
      "Num Topics = 2  has Coherence Value of 0.289\n",
      "Num Topics = 3  has Coherence Value of 0.3243\n",
      "Num Topics = 4  has Coherence Value of 0.3644\n",
      "Num Topics = 5  has Coherence Value of 0.3775\n",
      "Num Topics = 6  has Coherence Value of 0.3371\n",
      "Num Topics = 7  has Coherence Value of 0.3579\n",
      "Num Topics = 8  has Coherence Value of 0.3675\n",
      "Num Topics = 9  has Coherence Value of 0.3828\n",
      "Num Topics = 10  has Coherence Value of 0.4156\n",
      "Num Topics = 11  has Coherence Value of 0.361\n",
      "Num Topics = 12  has Coherence Value of 0.3923\n",
      "Num Topics = 13  has Coherence Value of 0.3917\n",
      "Num Topics = 14  has Coherence Value of 0.3839\n",
      "Num Topics = 15  has Coherence Value of 0.3636\n",
      "Num Topics = 16  has Coherence Value of 0.3523\n",
      "Num Topics = 17  has Coherence Value of 0.3648\n",
      "Num Topics = 18  has Coherence Value of 0.3571\n",
      "Num Topics = 19  has Coherence Value of 0.3834\n",
      "Num Topics = 20  has Coherence Value of 0.3718\n",
      "Num Topics = 21  has Coherence Value of 0.4041\n",
      "Num Topics = 22  has Coherence Value of 0.3629\n",
      "Num Topics = 23  has Coherence Value of 0.3926\n",
      "Num Topics = 24  has Coherence Value of 0.4075\n",
      "Num Topics = 25  has Coherence Value of 0.4119\n",
      "Num Topics = 26  has Coherence Value of 0.3922\n",
      "Num Topics = 27  has Coherence Value of 0.3747\n",
      "Num Topics = 28  has Coherence Value of 0.4105\n",
      "Num Topics = 29  has Coherence Value of 0.4287\n",
      "Num Topics = 30  has Coherence Value of 0.4035\n",
      "Num Topics = 31  has Coherence Value of 0.4388\n",
      "Num Topics = 32  has Coherence Value of 0.4067\n",
      "Num Topics = 33  has Coherence Value of 0.4326\n",
      "Num Topics = 34  has Coherence Value of 0.4079\n",
      "Num Topics = 35  has Coherence Value of 0.451\n",
      "Num Topics = 36  has Coherence Value of 0.3988\n",
      "Num Topics = 37  has Coherence Value of 0.3967\n",
      "Num Topics = 38  has Coherence Value of 0.4573\n",
      "Num Topics = 39  has Coherence Value of 0.4387\n",
      "Num Topics = 40  has Coherence Value of 0.4007\n",
      "Num Topics = 41  has Coherence Value of 0.4113\n",
      "Num Topics = 42  has Coherence Value of 0.4936\n",
      "Num Topics = 43  has Coherence Value of 0.5015\n",
      "Num Topics = 44  has Coherence Value of 0.4763\n",
      "Num Topics = 45  has Coherence Value of 0.5174\n",
      "Num Topics = 46  has Coherence Value of 0.4934\n",
      "Num Topics = 47  has Coherence Value of 0.5199\n",
      "Num Topics = 48  has Coherence Value of 0.4933\n",
      "Num Topics = 49  has Coherence Value of 0.4844\n"
     ]
    }
   ],
   "source": [
    "# Print the coherence scores\n",
    "for m, cv in zip(x, coherence_values):\n",
    "    print(\"Num Topics =\", m, \" has Coherence Value of\", round(cv, 4))"
   ]
  },
  {
   "cell_type": "code",
   "execution_count": 30,
   "metadata": {},
   "outputs": [
    {
     "data": {
      "text/plain": [
       "[(0,\n",
       "  '0.007*\"bank\" + 0.007*\"woman\" + 0.006*\"year\" + 0.005*\"last\" + 0.005*\"charge\" + 0.005*\"interest\" + 0.005*\"public\" + 0.004*\"standard\" + 0.004*\"share\" + 0.004*\"point\"'),\n",
       " (1,\n",
       "  '0.010*\"year\" + 0.008*\"club\" + 0.007*\"people\" + 0.006*\"film\" + 0.006*\"worker\" + 0.005*\"detainee\" + 0.005*\"good\" + 0.005*\"fire\" + 0.004*\"country\" + 0.004*\"decision\"'),\n",
       " (2,\n",
       "  '0.009*\"first\" + 0.008*\"police\" + 0.006*\"year\" + 0.006*\"death\" + 0.006*\"coin\" + 0.005*\"protester\" + 0.005*\"last\" + 0.004*\"space\" + 0.004*\"point\" + 0.004*\"trial\"'),\n",
       " (3,\n",
       "  '0.008*\"year\" + 0.008*\"student\" + 0.008*\"m\" + 0.008*\"station\" + 0.007*\"week\" + 0.007*\"school\" + 0.006*\"site\" + 0.006*\"last\" + 0.005*\"park\" + 0.005*\"gchq\"'),\n",
       " (4,\n",
       "  '0.009*\"good\" + 0.008*\"year\" + 0.006*\"share\" + 0.005*\"time\" + 0.005*\"point\" + 0.005*\"people\" + 0.005*\"yorkshire\" + 0.005*\"industry\" + 0.004*\"part\" + 0.004*\"possible\"'),\n",
       " (5,\n",
       "  '0.008*\"school\" + 0.007*\"year\" + 0.007*\"plan\" + 0.007*\"sewer\" + 0.007*\"passenger\" + 0.007*\"scottish\" + 0.006*\"union\" + 0.006*\"water\" + 0.006*\"staff\" + 0.005*\"hour\"'),\n",
       " (6,\n",
       "  '0.009*\"year\" + 0.008*\"club\" + 0.007*\"people\" + 0.007*\"last\" + 0.006*\"coach\" + 0.006*\"month\" + 0.005*\"first\" + 0.005*\"black\" + 0.005*\"championship\" + 0.004*\"game\"'),\n",
       " (7,\n",
       "  '0.015*\"year\" + 0.007*\"virus\" + 0.007*\"duffy\" + 0.005*\"brunner\" + 0.005*\"water\" + 0.005*\"medium\" + 0.005*\"coin\" + 0.004*\"world\" + 0.004*\"people\" + 0.004*\"point\"'),\n",
       " (8,\n",
       "  '0.013*\"year\" + 0.007*\"people\" + 0.006*\"work\" + 0.005*\"staff\" + 0.005*\"last\" + 0.005*\"medium\" + 0.005*\"state\" + 0.004*\"bank\" + 0.004*\"licence\" + 0.004*\"different\"')]"
      ]
     },
     "execution_count": 30,
     "metadata": {},
     "output_type": "execute_result"
    }
   ],
   "source": [
    "# Select the model and print the topics\n",
    "optimal_model = model_list[7]\n",
    "model_topics = optimal_model.show_topics(formatted=False)\n",
    "optimal_model.print_topics(num_words=10)"
   ]
  },
  {
   "cell_type": "code",
   "execution_count": 31,
   "metadata": {},
   "outputs": [
    {
     "name": "stderr",
     "output_type": "stream",
     "text": [
      "/home/pranisaa/thesis/lib/python3.8/site-packages/pyLDAvis/_prepare.py:246: FutureWarning: In a future version of pandas all arguments of DataFrame.drop except for the argument 'labels' will be keyword-only.\n",
      "  default_term_info = default_term_info.sort_values(\n"
     ]
    },
    {
     "data": {
      "text/html": [
       "\n",
       "<link rel=\"stylesheet\" type=\"text/css\" href=\"https://cdn.jsdelivr.net/gh/bmabey/pyLDAvis@3.3.1/pyLDAvis/js/ldavis.v1.0.0.css\">\n",
       "\n",
       "\n",
       "<div id=\"ldavis_el889851396252129677288343666969\"></div>\n",
       "<script type=\"text/javascript\">\n",
       "\n",
       "var ldavis_el889851396252129677288343666969_data = {\"mdsDat\": {\"x\": [0.0740277921707031, 0.016950188173594317, -0.1379610808278188, 0.01595520137276024, 0.014318943322728548, -0.012576730885244336, 0.028980137079035028, 0.024458559500458082, -0.02415300990621601], \"y\": [0.05705276567306086, 0.06078565773646487, 0.003653036184409604, -0.0941204603394004, 0.00868192499429281, 0.01916012535118932, -0.07669033671795905, -0.008027668222988248, 0.029504955340930374], \"topics\": [1, 2, 3, 4, 5, 6, 7, 8, 9], \"cluster\": [1, 1, 1, 1, 1, 1, 1, 1, 1], \"Freq\": [15.03062238008701, 14.831300129715558, 12.858957481251268, 10.809520227490706, 10.37720521044454, 9.71903406769108, 9.652270768774244, 9.110619079095843, 7.61047065544975]}, \"tinfo\": {\"Term\": [\"school\", \"club\", \"virus\", \"sewer\", \"coin\", \"station\", \"film\", \"student\", \"duffy\", \"m\", \"scottish\", \"worker\", \"first\", \"police\", \"bank\", \"passenger\", \"union\", \"death\", \"detainee\", \"gchq\", \"cybersecurity\", \"protester\", \"street\", \"site\", \"week\", \"water\", \"store\", \"coach\", \"park\", \"brunner\", \"flanagan\", \"yorkshire\", \"question\", \"pontypool\", \"libellous\", \"defamatory\", \"boxing\", \"overall\", \"meat\", \"decline\", \"prescription\", \"participation\", \"experienced\", \"population\", \"technological\", \"economist\", \"less\", \"symptom\", \"constituency\", \"food\", \"butter\", \"freezer\", \"tyrone\", \"parliamentary\", \"insurer\", \"payout\", \"twoday\", \"majority\", \"ireland\", \"libel\", \"lawyer\", \"vegan\", \"store\", \"farming\", \"judge\", \"tweet\", \"unaware\", \"rate\", \"labour\", \"industry\", \"economic\", \"possible\", \"good\", \"related\", \"force\", \"post\", \"share\", \"comment\", \"problem\", \"business\", \"point\", \"time\", \"year\", \"part\", \"amateur\", \"trial\", \"people\", \"company\", \"high\", \"last\", \"case\", \"season\", \"side\", \"investigation\", \"work\", \"irving\", \"black\", \"wicket\", \"difficulty\", \"coach\", \"exile\", \"rugby\", \"sight\", \"wonderful\", \"liquidation\", \"twodimensional\", \"defence\", \"sedated\", \"counsel\", \"broken\", \"glaucoma\", \"scared\", \"lifeless\", \"lawrence\", \"facial\", \"balcombe\", \"defendant\", \"alleged\", \"newcastle\", \"deny\", \"nose\", \"footpath\", \"kicking\", \"setup\", \"rnib\", \"walk\", \"lingerie\", \"unable\", \"knitting\", \"opportunity\", \"assistant\", \"championship\", \"clothing\", \"origin\", \"letter\", \"club\", \"firstclass\", \"fresh\", \"risk\", \"amateur\", \"event\", \"game\", \"month\", \"court\", \"wale\", \"decision\", \"people\", \"last\", \"first\", \"condition\", \"year\", \"phone\", \"loss\", \"week\", \"able\", \"point\", \"part\", \"deal\", \"work\", \"time\", \"service\", \"good\", \"glencore\", \"virus\", \"duffy\", \"climate\", \"fairy\", \"innogy\", \"woodland\", \"river\", \"brunner\", \"mine\", \"knife\", \"genetic\", \"primate\", \"hivlike\", \"room\", \"car\", \"teenager\", \"ring\", \"exam\", \"flat\", \"friend\", \"20th\", \"study\", \"user\", \"megawatt\", \"electricity\", \"penmachno\", \"sparrowhawk\", \"minimise\", \"glen\", \"netizen\", \"monkey\", \"consultation\", \"research\", \"scientist\", \"relative\", \"hughe\", \"coin\", \"wood\", \"century\", \"year\", \"world\", \"water\", \"medium\", \"project\", \"point\", \"change\", \"big\", \"people\", \"number\", \"proposal\", \"time\", \"high\", \"last\", \"city\", \"good\", \"work\", \"young\", \"student\", \"sewer\", \"contractor\", \"arrangement\", \"manhole\", \"union\", \"uniform\", \"matter\", \"war\", \"entertainment\", \"backstage\", \"unsupported\", \"device\", \"casualisation\", \"staffing\", \"employer\", \"ticketless\", \"objective\", \"vigilant\", \"adequate\", \"assurance\", \"dispute\", \"permanent\", \"scottish\", \"conductor\", \"clearup\", \"yellow\", \"metre\", \"unwanted\", \"strike\", \"garry\", \"safety\", \"general\", \"passenger\", \"school\", \"skirt\", \"mick\", \"playback\", \"rail\", \"marriage\", \"secretary\", \"train\", \"ground\", \"water\", \"plan\", \"crew\", \"item\", \"hour\", \"staff\", \"large\", \"worker\", \"incident\", \"medium\", \"ticket\", \"station\", \"year\", \"last\", \"work\", \"first\", \"store\", \"party\", \"share\", \"time\", \"favour\", \"llangennech\", \"interclub\", \"passport\", \"nationwide\", \"robust\", \"date\", \"lending\", \"driver\", \"census\", \"figure\", \"selection\", \"provision\", \"barripper\", \"dual\", \"extend\", \"ysgol\", \"bitter\", \"knox\", \"debate\", \"stream\", \"calm\", \"small\", \"threeunder\", \"twoshot\", \"amendment\", \"consecutive\", \"russell\", \"gallery\", \"relief\", \"chaos\", \"cornwall\", \"measure\", \"welsh\", \"winner\", \"licence\", \"competition\", \"day\", \"staff\", \"crew\", \"deal\", \"parent\", \"return\", \"year\", \"different\", \"free\", \"investor\", \"birth\", \"state\", \"executive\", \"half\", \"thing\", \"work\", \"fire\", \"people\", \"medium\", \"bank\", \"last\", \"place\", \"point\", \"good\", \"company\", \"proposal\", \"second\", \"market\", \"time\", \"team\", \"support\", \"decision\", \"gomez\", \"detainee\", \"detention\", \"unofficial\", \"fourth\", \"rehabilitation\", \"red\", \"charlton\", \"midfielder\", \"fiveyear\", \"derby\", \"excited\", \"true\", \"goalkeeper\", \"powerful\", \"easy\", \"criminal\", \"genocide\", \"speculation\", \"justice\", \"offense\", \"incarceration\", \"usbased\", \"tidy\", \"offer\", \"carina\", \"garage\", \"beating\", \"stay\", \"undesirable\", \"street\", \"election\", \"european\", \"sure\", \"award\", \"worker\", \"film\", \"appearance\", \"club\", \"fire\", \"country\", \"nomination\", \"child\", \"centre\", \"former\", \"people\", \"year\", \"critic\", \"thousand\", \"chance\", \"decision\", \"good\", \"great\", \"life\", \"state\", \"young\", \"many\", \"day\", \"area\", \"term\", \"gchq\", \"cybersecurity\", \"cyber\", \"gchqs\", \"cyberthreat\", \"\\u00a3\", \"math\", \"exposure\", \"commuter\", \"park\", \"success\", \"m\", \"development\", \"ride\", \"leisure\", \"outlet\", \"site\", \"unlock\", \"expansion\", \"green\", \"alevel\", \"skill\", \"wide\", \"bristol\", \"horden\", \"combat\", \"computer\", \"cyberskill\", \"science\", \"physics\", \"employment\", \"minute\", \"range\", \"junction\", \"student\", \"station\", \"course\", \"week\", \"school\", \"county\", \"murder\", \"expert\", \"rail\", \"road\", \"potential\", \"case\", \"year\", \"company\", \"film\", \"late\", \"last\", \"police\", \"work\", \"high\", \"part\", \"project\", \"people\", \"place\", \"reasonable\", \"drummy\", \"yard\", \"recover\", \"doyle\", \"custom\", \"pearson\", \"ammunition\", \"cannabi\", \"dermot\", \"pompey\", \"promotion\", \"ecstasy\", \"merseyside\", \"farnborough\", \"handgun\", \"location\", \"seizure\", \"parcel\", \"unlucky\", \"herbal\", \"northend\", \"sixth\", \"automatic\", \"basingstoke\", \"magistrate\", \"terrorism\", \"act\", \"matt\", \"albion\", \"guilty\", \"standard\", \"newspaper\", \"woman\", \"count\", \"victim\", \"goal\", \"bank\", \"address\", \"sexual\", \"charge\", \"interest\", \"limit\", \"allegation\", \"euro\", \"public\", \"violent\", \"detail\", \"cost\", \"investor\", \"bradford\", \"fund\", \"loss\", \"davy\", \"office\", \"result\", \"share\", \"last\", \"side\", \"year\", \"plan\", \"point\", \"number\", \"account\", \"datum\", \"time\", \"life\", \"elliot\", \"protester\", \"standoff\", \"protest\", \"corruption\", \"hib\", \"75th\", \"tottenham\", \"chelsea\", \"leg\", \"crazy\", \"blue\", \"spoil\", \"fishmonger\", \"evening\", \"tunisian\", \"rabat\", \"alhoceima\", \"seller\", \"zefzafi\", \"arab\", \"riot\", \"injustice\", \"advance\", \"morocco\", \"truck\", \"fruit\", \"movie\", \"special\", \"marche\", \"innings\", \"space\", \"goal\", \"coin\", \"abell\", \"street\", \"death\", \"police\", \"first\", \"mass\", \"trial\", \"film\", \"plot\", \"final\", \"award\", \"remembrance\", \"owner\", \"place\", \"team\", \"news\", \"point\", \"half\", \"last\", \"year\", \"month\", \"time\"], \"Freq\": [10.0, 13.0, 6.0, 4.0, 5.0, 9.0, 8.0, 10.0, 5.0, 6.0, 6.0, 7.0, 15.0, 12.0, 10.0, 7.0, 5.0, 8.0, 3.0, 3.0, 3.0, 3.0, 4.0, 5.0, 9.0, 9.0, 5.0, 6.0, 3.0, 4.0, 2.378396849566704, 3.4134542384256013, 2.2127426502202048, 1.613857373265349, 1.6137659225525485, 1.6137158997002459, 1.5160465384292918, 1.96156931381735, 1.9916914939954473, 1.9724526362399561, 1.487819210144428, 1.4870001074254535, 1.4907810443202794, 1.4833147468394943, 1.474808111550685, 1.463236845984042, 1.4534999235683281, 1.3833108998445036, 1.3636313768591928, 1.300738125978751, 0.8494792249601655, 0.8494794828099197, 0.8494663324724586, 0.8494609176276218, 0.8494390863484382, 0.8494351326522082, 0.8494344450528637, 0.84940470638122, 0.8493870006981026, 0.8493860552490041, 1.2506591483797278, 1.6892318414947827, 2.9641273196648448, 2.4780458093500846, 1.613968420559464, 2.378153611298635, 1.6138951912292891, 2.388048509663717, 2.7198048793295686, 3.3342888631108485, 2.614402775831888, 3.2114856830053276, 6.4645463727683286, 2.477564489809029, 1.9496143678165514, 1.9369912471528663, 4.1696856237488324, 2.372080905789041, 2.3019266917820254, 2.662735852745651, 3.697426923053838, 3.8063007156412163, 6.03319192567058, 3.2336009407181328, 2.1499612201831404, 2.3888717379787576, 3.6327685187064938, 2.785040695226343, 2.751178662214246, 2.9538219244911774, 2.3730277300862315, 2.262712729273064, 2.2828449504767216, 2.195643429724541, 2.2089379911479985, 3.155118650659152, 3.712206538239366, 2.4462855958167102, 1.441127814292044, 4.219395877262078, 1.413758482967748, 1.8391163090397715, 2.277688995061527, 1.3384384373303866, 1.2931951167816425, 1.271431819828033, 0.8525517066377911, 0.8524540901787261, 0.8521043332046302, 0.851733204077898, 1.264830284157168, 0.8462930583205317, 0.8461984102159994, 0.8452457380312228, 0.8450289633401974, 1.28608514438437, 0.8442573607819228, 0.8441602531836349, 0.8440697607754485, 0.8429584936484897, 0.8377895706852938, 0.8375534592847402, 0.8324738413879174, 0.8307186109475955, 1.2378392060104828, 1.2463821303559426, 1.5962999892674785, 1.6394388312625818, 1.2076776707923562, 2.3269628322050653, 2.327524614502934, 3.3569457259788815, 1.1904123638673956, 2.217593555012876, 2.1142239160024254, 5.539776287386981, 1.1670502263522788, 1.8339808860777316, 1.451338105783654, 2.25584394114307, 2.8311156293508297, 3.2685036874836007, 4.058927309698794, 3.0410039074804067, 2.26536659210462, 3.1298452320654166, 5.1104351839623, 5.0171528617556715, 3.8208842736355373, 2.163045545535421, 6.397230782801568, 2.3831822797148874, 2.5209062971261393, 2.6299088553183303, 2.1072194474062624, 2.948166329592924, 2.7913381520286933, 2.207135278702581, 2.8225399682953793, 2.6570143423297234, 2.2561897968512086, 2.4035580829497265, 2.1769742591518817, 4.731334669654281, 4.202916290699133, 1.517662645725817, 1.5175977908177036, 1.5175748489454457, 1.5174989642910546, 1.5173852843727513, 3.0703813546412975, 1.4917836255658523, 1.379410805728202, 1.8139825149470301, 2.2279897769523895, 1.7771622806060532, 1.8091639864564677, 1.3338531005125178, 1.3183227765635215, 2.142660130228505, 1.7483400829493196, 1.7543714423405892, 1.6813248151982323, 1.2054186170818486, 2.3899889548126794, 1.2068285863143609, 0.7987593720467607, 0.7987540777685473, 0.7987484893637666, 0.7987302535165873, 0.7987068704544784, 0.7986848109619228, 1.2038237893017203, 1.1699357762428761, 1.5176374979043037, 2.190745559164494, 1.8011587436713228, 1.1447794985906747, 1.7590179067892178, 2.9003591393385344, 1.7926687803030894, 1.970299902841415, 9.443518170251489, 2.8397143589109377, 3.0199610019499397, 2.9109515194106006, 2.239633365376372, 2.6487244488707895, 2.0633030175824083, 2.0152033235079, 2.698557724933601, 2.137422471379386, 2.04247297407857, 2.4558928653288157, 2.2219338579927412, 2.418287018926292, 2.0163652705124457, 2.2140428833790344, 1.950271795423615, 1.8318361446519824, 1.840521260997691, 3.7649742424603914, 2.351923001607692, 1.593379485242424, 1.5398105950086016, 3.2922367197559383, 2.2461156691395496, 1.3134021444603066, 0.8530417935884295, 0.8530380848502781, 0.8529722547480912, 0.8529471589532669, 2.5694624993653994, 0.84191873156174, 0.8415921771675117, 0.8414582917202471, 0.839526286392592, 0.8382878769115462, 0.8369944544812549, 0.8366549195034967, 0.8318288621717205, 1.2473969898326962, 0.8258409808017242, 3.678281993673634, 1.2258961985231382, 0.8151549317538714, 0.8148021071310709, 0.8132627953613436, 0.8126797817239478, 2.3914245244087526, 0.8108465524557243, 2.380209794737422, 1.184061384926444, 3.68132365345618, 4.511565732009836, 1.1287878350136458, 1.1514284451817256, 1.7421537854402696, 1.594400995353917, 1.6269064781308333, 1.125497813399563, 1.5884798712706456, 1.8203922128601826, 3.1505856693008294, 3.7963232170571044, 1.5343289563962677, 1.5263709933202623, 2.9082737786856327, 3.0246052737813205, 1.8767938372940236, 2.293408509049014, 1.6387842065590246, 2.614704159827945, 1.7220898829151583, 2.2568697735324803, 3.900177280765524, 2.5976048989564355, 2.2800486452309294, 2.1709974031263863, 1.699788622287929, 1.6725989975279802, 1.6904694286857647, 1.6432172612713603, 1.2799914432626536, 1.279923914130255, 1.2239892607996206, 1.2137738476691968, 1.1693481048574088, 1.1600348999246903, 1.8601395603159845, 1.1334955948509133, 1.121439805171974, 0.6737304990569418, 0.6737252177803307, 0.6737340594681404, 0.6737117475579629, 0.6737160793915878, 0.6736965564701826, 0.6736909784926383, 0.673687714782373, 0.6736798818777362, 0.6736800005581095, 0.6736621985021168, 0.6736611303787573, 0.6736662336348086, 0.6736480161975095, 0.6736538315358004, 0.6736546029582267, 0.673630036120957, 0.6736198889490411, 0.6736228559583732, 0.6736141922911235, 0.6735994165846496, 0.9820475705031502, 1.2840369011467867, 1.512885416621442, 1.7751214507494832, 1.1758617584647302, 2.0682200785892926, 1.8560532763834419, 1.9847475435240691, 2.637758644992523, 1.2799820675131641, 1.988053029280776, 1.3897099055188957, 1.2488112608719775, 6.398372714649553, 2.0537795254895834, 1.3758412731380427, 1.4873697297672397, 0.857665139344492, 2.3125141325646257, 1.3470930889567032, 1.9920927905069916, 1.2082707574403893, 3.006222751598523, 1.8862786751710479, 3.3579787978928493, 2.3250714655010634, 2.145777227808919, 2.4903872914670666, 1.9691593512147036, 2.046213651692726, 1.9793486546630048, 1.768230986956985, 1.5987239636084558, 1.6849191451171883, 1.6405278196136528, 1.7151204517890177, 1.533663620334892, 1.4178263540732443, 1.4481309126698307, 1.580798021494533, 2.5537455011578665, 1.8363995907140875, 1.3548466544631874, 1.3237203390268202, 1.2954083090821786, 0.8320665865711108, 0.8320598618081956, 0.8320367419621402, 0.8320036183365415, 0.8320039517958595, 0.8319708281702608, 0.8319693276033293, 0.8319524323312119, 1.5563550088647924, 1.1482165872416559, 1.8460654648149781, 0.7109987346298052, 0.7090965159496581, 0.6994674335268655, 0.6923425750065109, 0.6897077462044804, 0.6868914043802933, 0.6905744625487962, 0.6842973131916251, 0.6828727194081147, 0.6815632246659046, 0.6785111271038151, 0.678245360027283, 0.6757501951029868, 1.8427220905385213, 1.5458917223811994, 1.273978879463286, 1.2223698254121347, 1.8778448047493068, 2.6921662425541943, 3.0105436403165946, 1.2033832076045954, 3.985012250236031, 2.2989445677610894, 2.0399418246499392, 1.3014790471214408, 1.6210402254631247, 1.8090246926064353, 1.6229014842236975, 3.457912883796501, 4.69870277963471, 1.2899811475268648, 1.6921914405457832, 1.4795375418957366, 1.945623745747939, 2.402642412669043, 1.7103833136451652, 1.6999957224267828, 1.7850866485374162, 1.5225626861801516, 1.5138640664079863, 1.4441252738437271, 1.402677169827751, 1.3989993358552317, 2.429533096737541, 2.42922797999885, 1.838282318163617, 1.2476012600992379, 1.2475766432277735, 1.2475541237579135, 1.2475374549346347, 1.2474580848423344, 1.247270753762176, 2.4296490057735842, 1.5895375527896811, 3.8251571504067834, 2.219586507803743, 1.458629777092335, 1.064395216949403, 1.3721466232238064, 3.0780245040608576, 0.6566722670872834, 0.6566579716395047, 0.6566573093021558, 0.6566539424206327, 0.6566416339849004, 0.6566344034688425, 0.6566333547680402, 0.6566329684045866, 0.6566310917820983, 0.6566282768483659, 0.656626013862424, 0.6566254067198543, 0.656620383994959, 1.2475877925731453, 1.83840716875387, 1.247487558854357, 2.1056636006900127, 3.8882787828659193, 3.7916583350945645, 2.2092580191862234, 3.247335151190654, 3.1691437985920192, 1.6538529379305094, 1.1267338562726743, 1.2473578511235461, 1.2678344518205895, 2.06089445305025, 1.5270640174263668, 2.101651823368202, 4.001130911265722, 2.2244802976950675, 1.9607123965751665, 1.852357980332093, 2.6579507288761506, 2.0295636886598394, 2.188958704119548, 1.9908207069987693, 1.8215281637565077, 1.577309370266184, 1.7639281066058206, 1.6400703600388866, 1.257558977626224, 0.7252138318749858, 0.7251591816593382, 0.7251299549949166, 0.7251268291484544, 0.7251246410559308, 0.7251109394289381, 0.7251153156139852, 0.7251090639210608, 0.7251053650027472, 0.7250931221041036, 0.7250943724426885, 0.7250877039702357, 0.7250833277851887, 0.7250989049200587, 0.7250707202044577, 0.7250584773058141, 0.725051183664069, 0.7250515483461561, 0.7250359191138451, 0.7250333663392343, 0.725058321013491, 0.7250116938037631, 0.7250053379159566, 0.7250258122102841, 0.7250275835232792, 0.7250282086925717, 0.7250254996256378, 0.7249659522505327, 0.7249090097474795, 1.7201211119344602, 1.989325156757849, 1.678066390411443, 2.941418603480959, 1.7570426725921215, 1.6805570648725303, 1.3777201624543691, 3.1383350523835016, 1.373542260267864, 1.1911412003869941, 2.190551731152248, 2.152566028163969, 1.2852775253247348, 1.1608757129910763, 1.318990612978704, 2.068150668944167, 1.2670459216390249, 1.2343359181147784, 1.5797104853343678, 1.3878821851081249, 0.8923319511353878, 1.2512479978139082, 1.6624387210236344, 1.3275387611040217, 1.3454492361631807, 1.1895416005574002, 1.8712363039392654, 2.2972958452106584, 1.6526365874925608, 2.770792398833462, 1.7426787829289836, 1.8117979166808535, 1.5181299554954049, 1.3650801771151388, 1.2935789399693025, 1.3080436902782875, 1.2891462812961274, 1.2339445390223533, 2.0362153531308076, 1.0736767076278486, 1.072724248356689, 1.0263760466085696, 0.6495923675817232, 0.6495681709558088, 0.6495538531681723, 0.6495524605566089, 0.6495411891067674, 0.6495357492178477, 0.6495009774478735, 0.6494971042469627, 0.9554445081224279, 1.1633797796067284, 0.579399827125535, 0.5690011530623313, 0.5673878996043266, 0.5665665634156856, 0.5596804038683298, 0.5591371983203716, 0.5594413533896457, 0.559463809251106, 0.5536516578529302, 0.550829878672541, 0.5485751099940223, 0.5448874310549623, 1.3633810818995302, 0.5405860456075456, 0.5373260289757912, 1.0814919566835655, 1.672794043169689, 1.234065435113703, 2.096116102461285, 0.8094559934699439, 1.3635018039144347, 2.2603124910762107, 3.091052463375756, 3.405083585704899, 0.740445649673769, 1.6230946957706338, 1.6005147178048202, 0.8416614414474808, 1.5375155818221682, 1.1181501060587073, 1.0523576523944935, 1.1516876740348827, 1.6043374365464211, 1.3591261313439316, 1.1679958517483677, 1.6350603624764697, 1.2780385378404016, 1.888482592495134, 2.34390278163566, 1.391924657771042, 1.239280591342283], \"Total\": [10.0, 13.0, 6.0, 4.0, 5.0, 9.0, 8.0, 10.0, 5.0, 6.0, 6.0, 7.0, 15.0, 12.0, 10.0, 7.0, 5.0, 8.0, 3.0, 3.0, 3.0, 3.0, 4.0, 5.0, 9.0, 9.0, 5.0, 6.0, 3.0, 4.0, 2.9860231100190706, 4.535242830044912, 2.9836507271041213, 2.2214907731872966, 2.2213868888752337, 2.2213379192943385, 2.215468540027911, 2.917554689043346, 2.963562681786176, 2.936907431999078, 2.2194737854672493, 2.2185559212859003, 2.2265614605444806, 2.218006513984287, 2.2177633636677165, 2.2173445824710836, 2.2179824029432997, 2.2160976481968206, 2.207656322166876, 2.203065153669959, 1.4570933230610383, 1.457094086588469, 1.4570765371057333, 1.4570702461080518, 1.4570497055167442, 1.4570461498444094, 1.4570450761515223, 1.4570218049156283, 1.456999210716037, 1.4569978176941278, 2.1585893198616457, 2.948318443438288, 5.284276821952219, 4.444139117808059, 2.8467919479123442, 4.2849285927365255, 2.870081360783737, 4.380237652086135, 5.115633249498221, 6.488978708419093, 5.1916087104480795, 6.649162941638077, 17.980413603527698, 5.0543515126156064, 3.68388743441964, 3.661987636014521, 12.89321933685011, 5.138228127526095, 5.175291012954486, 6.944568469242218, 15.34716429745289, 16.82730296405007, 45.98701974550828, 13.301412767759446, 5.30039927519634, 6.927571108250258, 22.71229893874348, 11.500847110807676, 13.270556615359466, 23.617436643916825, 8.900544827250286, 8.41480822678556, 10.500334766381647, 7.726850206614785, 17.24122629561659, 3.8732117008891684, 5.2773054420811, 3.7594352155458037, 2.2348117734677393, 6.636210575786632, 2.234825179961807, 2.9414563340321336, 3.7186787043752343, 2.2662599541966126, 2.1926130551597933, 2.1988243370381593, 1.4875479643581841, 1.487632424719769, 1.4875462603210226, 1.4875349161281626, 2.2126250327273613, 1.4873252323310893, 1.4873433155039986, 1.4872063325704568, 1.4872573545175982, 2.263705828433581, 1.4871800179060253, 1.4872242890944, 1.4872394372857125, 1.4872062710753313, 1.4869445559374066, 1.4868800415969308, 1.4866794892990023, 1.4856450397087015, 2.2180708697199547, 2.245698898233719, 2.892132725336994, 2.9888250675878005, 2.1843327881788364, 4.379307202006663, 4.457505968449118, 6.658273702768475, 2.181832891840356, 4.422882010223695, 4.309984221708518, 13.289315312464971, 2.188114177847489, 3.799721287637449, 2.9699014893848483, 5.30039927519634, 7.185923756900683, 9.297718013989712, 12.758873488990623, 8.591693420364942, 5.9486200940272855, 10.15667841120626, 22.71229893874348, 23.617436643916825, 15.79342257124098, 5.754137241164451, 45.98701974550828, 6.990828160862648, 7.958692880199013, 9.463941657249137, 5.864293874912995, 15.34716429745289, 13.301412767759446, 6.864520170656521, 17.24122629561659, 16.82730296405007, 7.759965005987097, 17.980413603527698, 2.8527895092209374, 6.291859925569051, 5.82219656785117, 2.130348291496112, 2.130284324119626, 2.1302623695107754, 2.1302088900346354, 2.1300774236986886, 4.3517617030651605, 2.1319025940187664, 2.1175020710174777, 2.798145334802747, 3.4707902025617567, 2.7841304420801642, 2.854964893900503, 2.1131305538092957, 2.1118901961868515, 3.4472660028863484, 2.849341770804382, 2.901125234042671, 2.854361767692974, 2.0867782483922976, 4.1986550655659975, 2.1257826848378447, 1.4114396485725256, 1.4114352894247228, 1.4114293805215075, 1.4114291243609949, 1.4113885976178835, 1.4113676501600534, 2.129181636835323, 2.084886805371209, 2.777686114206995, 4.1867718007896855, 3.384611368296381, 2.0806669638754904, 3.3551345573640243, 5.909121754804209, 3.6930003232919044, 4.21247923488705, 45.98701974550828, 7.899506446804799, 9.593269705399933, 11.712181355229868, 7.636032169419561, 15.34716429745289, 6.970695812395308, 6.389924338767372, 22.71229893874348, 8.880276405718071, 7.548949494676772, 16.82730296405007, 13.270556615359466, 23.617436643916825, 8.479323409837967, 17.980413603527698, 17.24122629561659, 6.414245291772411, 10.110208739379695, 4.530811217736327, 2.9873995754154192, 2.2217549163035932, 2.227636269145658, 5.128374646653519, 3.5617795568411594, 2.170396009161614, 1.4603128226478594, 1.4603068179105871, 1.4602451394001386, 1.460223108152572, 4.432030334033396, 1.4577654027255815, 1.457641526943939, 1.4576747123944849, 1.4571645921556708, 1.4568360896252808, 1.4565928163007658, 1.4564246482834553, 1.455214906652165, 2.186163469360042, 1.4539609541553906, 6.54072030658648, 2.181451539690628, 1.4601698329655945, 1.460082655829327, 1.4601235984767387, 1.4601386056436336, 4.3044359285659075, 1.460099503222237, 4.3249270632042025, 2.177530636000791, 7.297945297099413, 10.070872966026698, 2.11778735672124, 2.1746705101519663, 3.6614284835960182, 3.4038126686142536, 3.523479048341433, 2.167551424077122, 3.517653821382339, 4.374291963810234, 9.593269705399933, 12.69951056186118, 3.4402671515413217, 3.463288668966611, 9.205561051595552, 10.439809228299792, 4.962292057819751, 7.528411893813714, 4.126983971625844, 11.712181355229868, 4.981960811267631, 9.841842854627444, 45.98701974550828, 23.617436643916825, 17.24122629561659, 15.79342257124098, 5.284276821952219, 5.633466272869011, 12.89321933685011, 16.82730296405007, 1.9051962598338987, 1.9051287991020756, 1.9094985538741347, 1.9102192606666242, 1.933528774716587, 1.9359777463057037, 3.1635270827701367, 1.942667075093396, 1.9437491329389762, 1.2989228184977064, 1.298917383053766, 1.298934925719716, 1.2989040904431401, 1.298916732759859, 1.298890349338074, 1.2988857130138103, 1.2988809536902857, 1.2988737686141818, 1.2988914223344061, 1.2988572511031158, 1.2988565781223373, 1.2988730339709496, 1.298852828956749, 1.2988661171897922, 1.298868006140518, 1.2988257541512973, 1.29883174458872, 1.2988384812994842, 1.298824662331182, 1.2987976701998147, 1.9393352829761514, 2.671137711000274, 3.3009341071263627, 4.114256439489346, 2.690588966809316, 6.286988751755436, 5.424737854393263, 6.155431422656491, 10.439809228299792, 3.4402671515413217, 6.864520170656521, 3.9614096796673515, 3.3657744676640826, 45.98701974550828, 7.576848900215241, 4.09170339079063, 4.679385218476255, 1.9204837638856775, 10.035461981902802, 4.084259755200155, 7.895951167938275, 3.43911741378115, 17.24122629561659, 7.516259808479529, 22.71229893874348, 11.712181355229868, 10.19425140891738, 23.617436643916825, 12.036551076342581, 15.34716429745289, 17.980413603527698, 11.500847110807676, 7.548949494676772, 9.665620510463622, 8.909898586139125, 16.82730296405007, 8.207428942950713, 5.401313069854812, 10.15667841120626, 2.1901632671561413, 3.6415446780566754, 2.8857308390017433, 2.17398265228204, 2.1846669822339546, 2.1665062008063223, 1.4414177414258176, 1.4414123452236804, 1.4413905213321205, 1.4413569241395379, 1.44135863971148, 1.4413266480027684, 1.441325161393773, 1.4413088607584317, 2.8173969378540415, 2.1374439608854785, 3.642630802332113, 1.4272838408607245, 1.428874087341467, 1.4250000490347, 1.4252384158065674, 1.4286676699490197, 1.4235332140882475, 1.431931706124767, 1.4280373502250596, 1.426874374425677, 1.426194142013737, 1.4210283063802167, 1.428158993763947, 1.4274898071455446, 4.0574359400840265, 3.5614305102735737, 2.909573442620085, 2.869767711663419, 4.814855793358055, 7.528411893813714, 8.725948946392334, 2.864694593377162, 13.289315312464971, 7.516259808479529, 6.426629019169041, 3.4770074830293867, 4.851900778892549, 5.772607870398297, 5.029743522642159, 22.71229893874348, 45.98701974550828, 3.5155568504173713, 6.3347471782000575, 5.025477044893285, 10.15667841120626, 17.980413603527698, 7.754877596582814, 8.238226881773407, 10.035461981902802, 6.414245291772411, 7.763149312229635, 6.155431422656491, 6.15703882744362, 6.371724811620855, 3.0564439835937907, 3.056143345700406, 2.4651919728466463, 1.874501867832941, 1.8744771696494802, 1.8744588971283624, 1.874439454467113, 1.874360317214924, 1.8741820692275788, 3.768782331970005, 2.517547960643715, 6.304409160966913, 3.822137058116536, 2.574305785584564, 1.9034680263102712, 2.5353124351194367, 5.731511785473241, 1.2835682012874203, 1.2835527301434277, 1.2835534351687812, 1.2835487646120904, 1.283536595115646, 1.283530147615349, 1.2835303577474444, 1.2835302036484826, 1.2835269611395468, 1.2835240208638807, 1.2835213687865232, 1.2835209901617186, 1.2835161204686507, 2.4941903173538096, 3.7892972031877683, 2.527001586750953, 4.501697615743158, 10.110208739379695, 9.841842854627444, 5.336960470068009, 9.463941657249137, 10.070872966026698, 4.581886185151695, 2.7106409719876767, 3.299768341725407, 3.4038126686142536, 7.291106766530857, 4.616687336194358, 8.900544827250286, 45.98701974550828, 11.500847110807676, 8.725948946392334, 7.571156816546244, 23.617436643916825, 12.60626636248044, 17.24122629561659, 13.270556615359466, 13.301412767759446, 7.636032169419561, 22.71229893874348, 12.036551076342581, 1.9864599075277645, 1.345264683634452, 1.3452123417323998, 1.3451852747030126, 1.3451799399118631, 1.345186226617252, 1.3451648937373548, 1.34517638323504, 1.3451682443707471, 1.3451655489701937, 1.3451495925052581, 1.3451533778029618, 1.3451503029850367, 1.3451455494482802, 1.3451786574066569, 1.345133853078102, 1.3451210887108984, 1.3451137471038543, 1.3451155406690605, 1.3450983474145197, 1.3450992837673137, 1.3451484152078221, 1.3450729561474777, 1.3450656182880854, 1.3451164873573758, 1.3451211436526076, 1.3451395355835079, 1.3451375203687128, 1.3450315143030591, 1.345133179484667, 3.425519588798335, 4.092389573309687, 3.4483691654021813, 7.604327297624089, 4.110945676242651, 4.125661114354258, 3.166897789846507, 10.19425140891738, 3.414377965732613, 2.7717444201928103, 7.067038648749678, 6.968427165101455, 3.206293168383009, 2.751304607801622, 3.4386404553249106, 8.21307132886888, 3.522482449759493, 3.4231442702901718, 5.375753369124167, 4.679385218476255, 2.0360482556251287, 4.070794688553337, 7.958692880199013, 5.13123045383233, 5.604817158605185, 4.294811711533137, 12.89321933685011, 23.617436643916825, 10.500334766381647, 45.98701974550828, 12.69951056186118, 15.34716429745289, 8.880276405718071, 7.401259567322318, 7.592353730151922, 16.82730296405007, 8.238226881773407, 1.8615824754630759, 3.07787174073915, 1.8844115153591905, 1.8845572819186505, 1.9012635503001818, 1.2772002981106478, 1.2771775978868938, 1.2771640855531483, 1.2771657626783257, 1.277153085936408, 1.2771484954236376, 1.2771162895845325, 1.2771121736081834, 1.9057853541127066, 2.520651047727517, 1.2889999331116662, 1.2878885436312593, 1.2924302109858758, 1.2931529892410683, 1.289681256931844, 1.288807989839859, 1.290592793886077, 1.2924561003388995, 1.2944396611960154, 1.2917666292154801, 1.2935993205969858, 1.291512456111201, 3.2340400508054574, 1.2898758448636602, 1.2956135441893566, 2.7117864585537785, 4.374164054663403, 3.166897789846507, 5.909121754804209, 2.0143890045120205, 4.0574359400840265, 8.058584759517366, 12.60626636248044, 15.79342257124098, 1.9142558710866195, 6.927571108250258, 8.725948946392334, 2.6663887702854914, 8.98846462180626, 4.814855793358055, 4.268623306146407, 5.277239976521718, 12.036551076342581, 8.207428942950713, 6.0847591257238935, 15.34716429745289, 7.895951167938275, 23.617436643916825, 45.98701974550828, 12.758873488990623, 16.82730296405007], \"Category\": [\"Default\", \"Default\", \"Default\", \"Default\", \"Default\", \"Default\", \"Default\", \"Default\", \"Default\", \"Default\", \"Default\", \"Default\", \"Default\", \"Default\", \"Default\", \"Default\", \"Default\", \"Default\", \"Default\", \"Default\", \"Default\", \"Default\", \"Default\", \"Default\", \"Default\", \"Default\", \"Default\", \"Default\", \"Default\", \"Default\", \"Topic1\", \"Topic1\", \"Topic1\", \"Topic1\", \"Topic1\", \"Topic1\", \"Topic1\", \"Topic1\", \"Topic1\", \"Topic1\", \"Topic1\", \"Topic1\", \"Topic1\", \"Topic1\", \"Topic1\", \"Topic1\", \"Topic1\", \"Topic1\", \"Topic1\", \"Topic1\", \"Topic1\", \"Topic1\", \"Topic1\", \"Topic1\", \"Topic1\", \"Topic1\", \"Topic1\", \"Topic1\", \"Topic1\", \"Topic1\", \"Topic1\", \"Topic1\", \"Topic1\", \"Topic1\", \"Topic1\", \"Topic1\", \"Topic1\", \"Topic1\", \"Topic1\", \"Topic1\", \"Topic1\", \"Topic1\", \"Topic1\", \"Topic1\", \"Topic1\", \"Topic1\", \"Topic1\", \"Topic1\", \"Topic1\", \"Topic1\", \"Topic1\", \"Topic1\", \"Topic1\", \"Topic1\", \"Topic1\", \"Topic1\", \"Topic1\", \"Topic1\", \"Topic1\", \"Topic1\", \"Topic1\", \"Topic1\", \"Topic1\", \"Topic1\", \"Topic1\", \"Topic2\", \"Topic2\", \"Topic2\", \"Topic2\", \"Topic2\", \"Topic2\", \"Topic2\", \"Topic2\", \"Topic2\", \"Topic2\", \"Topic2\", \"Topic2\", \"Topic2\", \"Topic2\", \"Topic2\", \"Topic2\", \"Topic2\", \"Topic2\", \"Topic2\", \"Topic2\", \"Topic2\", \"Topic2\", \"Topic2\", \"Topic2\", \"Topic2\", \"Topic2\", \"Topic2\", \"Topic2\", \"Topic2\", \"Topic2\", \"Topic2\", \"Topic2\", \"Topic2\", \"Topic2\", \"Topic2\", \"Topic2\", \"Topic2\", \"Topic2\", \"Topic2\", \"Topic2\", \"Topic2\", \"Topic2\", \"Topic2\", \"Topic2\", \"Topic2\", \"Topic2\", \"Topic2\", \"Topic2\", \"Topic2\", \"Topic2\", \"Topic2\", \"Topic2\", \"Topic2\", \"Topic2\", \"Topic2\", \"Topic2\", \"Topic2\", \"Topic2\", \"Topic2\", \"Topic2\", \"Topic2\", \"Topic2\", \"Topic2\", \"Topic2\", \"Topic2\", \"Topic2\", \"Topic2\", \"Topic3\", \"Topic3\", \"Topic3\", \"Topic3\", \"Topic3\", \"Topic3\", \"Topic3\", \"Topic3\", \"Topic3\", \"Topic3\", \"Topic3\", \"Topic3\", \"Topic3\", \"Topic3\", \"Topic3\", \"Topic3\", \"Topic3\", \"Topic3\", \"Topic3\", \"Topic3\", \"Topic3\", \"Topic3\", \"Topic3\", \"Topic3\", \"Topic3\", \"Topic3\", \"Topic3\", \"Topic3\", \"Topic3\", \"Topic3\", \"Topic3\", \"Topic3\", \"Topic3\", \"Topic3\", \"Topic3\", \"Topic3\", \"Topic3\", \"Topic3\", \"Topic3\", \"Topic3\", \"Topic3\", \"Topic3\", \"Topic3\", \"Topic3\", \"Topic3\", \"Topic3\", \"Topic3\", \"Topic3\", \"Topic3\", \"Topic3\", \"Topic3\", \"Topic3\", \"Topic3\", \"Topic3\", \"Topic3\", \"Topic3\", \"Topic3\", \"Topic3\", \"Topic3\", \"Topic4\", \"Topic4\", \"Topic4\", \"Topic4\", \"Topic4\", \"Topic4\", \"Topic4\", \"Topic4\", \"Topic4\", \"Topic4\", \"Topic4\", \"Topic4\", \"Topic4\", \"Topic4\", \"Topic4\", \"Topic4\", \"Topic4\", \"Topic4\", \"Topic4\", \"Topic4\", \"Topic4\", \"Topic4\", \"Topic4\", \"Topic4\", \"Topic4\", \"Topic4\", \"Topic4\", \"Topic4\", \"Topic4\", \"Topic4\", \"Topic4\", \"Topic4\", \"Topic4\", \"Topic4\", \"Topic4\", \"Topic4\", \"Topic4\", \"Topic4\", \"Topic4\", \"Topic4\", \"Topic4\", \"Topic4\", \"Topic4\", \"Topic4\", \"Topic4\", \"Topic4\", \"Topic4\", \"Topic4\", \"Topic4\", \"Topic4\", \"Topic4\", \"Topic4\", \"Topic4\", \"Topic4\", \"Topic4\", \"Topic4\", \"Topic4\", \"Topic4\", \"Topic4\", \"Topic4\", \"Topic4\", \"Topic4\", \"Topic5\", \"Topic5\", \"Topic5\", \"Topic5\", \"Topic5\", \"Topic5\", \"Topic5\", \"Topic5\", \"Topic5\", \"Topic5\", \"Topic5\", \"Topic5\", \"Topic5\", \"Topic5\", \"Topic5\", \"Topic5\", \"Topic5\", \"Topic5\", \"Topic5\", \"Topic5\", \"Topic5\", \"Topic5\", \"Topic5\", \"Topic5\", \"Topic5\", \"Topic5\", \"Topic5\", \"Topic5\", \"Topic5\", \"Topic5\", \"Topic5\", \"Topic5\", \"Topic5\", \"Topic5\", \"Topic5\", \"Topic5\", \"Topic5\", \"Topic5\", \"Topic5\", \"Topic5\", \"Topic5\", \"Topic5\", \"Topic5\", \"Topic5\", \"Topic5\", \"Topic5\", \"Topic5\", \"Topic5\", \"Topic5\", \"Topic5\", \"Topic5\", \"Topic5\", \"Topic5\", \"Topic5\", \"Topic5\", \"Topic5\", \"Topic5\", \"Topic5\", \"Topic5\", \"Topic5\", \"Topic5\", \"Topic5\", \"Topic5\", \"Topic5\", \"Topic5\", \"Topic5\", \"Topic5\", \"Topic5\", \"Topic5\", \"Topic6\", \"Topic6\", \"Topic6\", \"Topic6\", \"Topic6\", \"Topic6\", \"Topic6\", \"Topic6\", \"Topic6\", \"Topic6\", \"Topic6\", \"Topic6\", \"Topic6\", \"Topic6\", \"Topic6\", \"Topic6\", \"Topic6\", \"Topic6\", \"Topic6\", \"Topic6\", \"Topic6\", \"Topic6\", \"Topic6\", \"Topic6\", \"Topic6\", \"Topic6\", \"Topic6\", \"Topic6\", \"Topic6\", \"Topic6\", \"Topic6\", \"Topic6\", \"Topic6\", \"Topic6\", \"Topic6\", \"Topic6\", \"Topic6\", \"Topic6\", \"Topic6\", \"Topic6\", \"Topic6\", \"Topic6\", \"Topic6\", \"Topic6\", \"Topic6\", \"Topic6\", \"Topic6\", \"Topic6\", \"Topic6\", \"Topic6\", \"Topic6\", \"Topic6\", \"Topic6\", \"Topic6\", \"Topic6\", \"Topic6\", \"Topic6\", \"Topic6\", \"Topic6\", \"Topic6\", \"Topic7\", \"Topic7\", \"Topic7\", \"Topic7\", \"Topic7\", \"Topic7\", \"Topic7\", \"Topic7\", \"Topic7\", \"Topic7\", \"Topic7\", \"Topic7\", \"Topic7\", \"Topic7\", \"Topic7\", \"Topic7\", \"Topic7\", \"Topic7\", \"Topic7\", \"Topic7\", \"Topic7\", \"Topic7\", \"Topic7\", \"Topic7\", \"Topic7\", \"Topic7\", \"Topic7\", \"Topic7\", \"Topic7\", \"Topic7\", \"Topic7\", \"Topic7\", \"Topic7\", \"Topic7\", \"Topic7\", \"Topic7\", \"Topic7\", \"Topic7\", \"Topic7\", \"Topic7\", \"Topic7\", \"Topic7\", \"Topic7\", \"Topic7\", \"Topic7\", \"Topic7\", \"Topic7\", \"Topic7\", \"Topic7\", \"Topic7\", \"Topic7\", \"Topic7\", \"Topic7\", \"Topic7\", \"Topic7\", \"Topic7\", \"Topic7\", \"Topic7\", \"Topic8\", \"Topic8\", \"Topic8\", \"Topic8\", \"Topic8\", \"Topic8\", \"Topic8\", \"Topic8\", \"Topic8\", \"Topic8\", \"Topic8\", \"Topic8\", \"Topic8\", \"Topic8\", \"Topic8\", \"Topic8\", \"Topic8\", \"Topic8\", \"Topic8\", \"Topic8\", \"Topic8\", \"Topic8\", \"Topic8\", \"Topic8\", \"Topic8\", \"Topic8\", \"Topic8\", \"Topic8\", \"Topic8\", \"Topic8\", \"Topic8\", \"Topic8\", \"Topic8\", \"Topic8\", \"Topic8\", \"Topic8\", \"Topic8\", \"Topic8\", \"Topic8\", \"Topic8\", \"Topic8\", \"Topic8\", \"Topic8\", \"Topic8\", \"Topic8\", \"Topic8\", \"Topic8\", \"Topic8\", \"Topic8\", \"Topic8\", \"Topic8\", \"Topic8\", \"Topic8\", \"Topic8\", \"Topic8\", \"Topic8\", \"Topic8\", \"Topic8\", \"Topic8\", \"Topic8\", \"Topic8\", \"Topic8\", \"Topic8\", \"Topic8\", \"Topic8\", \"Topic8\", \"Topic8\", \"Topic9\", \"Topic9\", \"Topic9\", \"Topic9\", \"Topic9\", \"Topic9\", \"Topic9\", \"Topic9\", \"Topic9\", \"Topic9\", \"Topic9\", \"Topic9\", \"Topic9\", \"Topic9\", \"Topic9\", \"Topic9\", \"Topic9\", \"Topic9\", \"Topic9\", \"Topic9\", \"Topic9\", \"Topic9\", \"Topic9\", \"Topic9\", \"Topic9\", \"Topic9\", \"Topic9\", \"Topic9\", \"Topic9\", \"Topic9\", \"Topic9\", \"Topic9\", \"Topic9\", \"Topic9\", \"Topic9\", \"Topic9\", \"Topic9\", \"Topic9\", \"Topic9\", \"Topic9\", \"Topic9\", \"Topic9\", \"Topic9\", \"Topic9\", \"Topic9\", \"Topic9\", \"Topic9\", \"Topic9\", \"Topic9\", \"Topic9\", \"Topic9\", \"Topic9\", \"Topic9\", \"Topic9\", \"Topic9\", \"Topic9\"], \"logprob\": [30.0, 29.0, 28.0, 27.0, 26.0, 25.0, 24.0, 23.0, 22.0, 21.0, 20.0, 19.0, 18.0, 17.0, 16.0, 15.0, 14.0, 13.0, 12.0, 11.0, 10.0, 9.0, 8.0, 7.0, 6.0, 5.0, 4.0, 3.0, 2.0, 1.0, -5.7379, -5.3766, -5.8101, -6.1257, -6.1258, -6.1258, -6.1882, -5.9306, -5.9154, -5.9251, -6.207, -6.2076, -6.2051, -6.2101, -6.2158, -6.2237, -6.2304, -6.2799, -6.2942, -6.3414, -6.7675, -6.7675, -6.7675, -6.7675, -6.7675, -6.7675, -6.7675, -6.7676, -6.7676, -6.7676, -6.3807, -6.0801, -5.5178, -5.6969, -6.1257, -5.738, -6.1257, -5.7339, -5.6038, -5.4001, -5.6433, -5.4376, -4.738, -5.6971, -5.9367, -5.9432, -5.1765, -5.7406, -5.7706, -5.625, -5.2967, -5.2677, -4.8071, -5.4308, -5.8389, -5.7335, -5.3144, -5.5801, -5.5923, -5.5213, -5.7402, -5.7878, -5.7789, -5.8179, -5.8118, -5.442, -5.2794, -5.6964, -6.2256, -5.1513, -6.2448, -5.9817, -5.7678, -6.2995, -6.3339, -6.3509, -6.7505, -6.7506, -6.7511, -6.7515, -6.3561, -6.7579, -6.758, -6.7591, -6.7594, -6.3394, -6.7603, -6.7604, -6.7605, -6.7618, -6.768, -6.7683, -6.7744, -6.7765, -6.3776, -6.3708, -6.1233, -6.0967, -6.4023, -5.7464, -5.7462, -5.38, -6.4167, -5.7946, -5.8423, -4.8791, -6.4365, -5.9845, -6.2185, -5.7775, -5.5503, -5.4067, -5.1901, -5.4788, -5.7733, -5.45, -4.9597, -4.9781, -5.2505, -5.8195, -4.7351, -5.7226, -5.6664, -5.6241, -5.8456, -5.5098, -5.5645, -5.7993, -5.5534, -5.6138, -5.7773, -5.7141, -5.6704, -4.8941, -5.0125, -6.0311, -6.0312, -6.0312, -6.0312, -6.0313, -5.3265, -6.0483, -6.1267, -5.8528, -5.6472, -5.8733, -5.8554, -6.1602, -6.1719, -5.6863, -5.8896, -5.8862, -5.9287, -6.2615, -5.577, -6.2603, -6.673, -6.673, -6.673, -6.673, -6.6731, -6.6731, -6.2628, -6.2914, -6.0312, -5.6641, -5.8599, -6.3131, -5.8836, -5.3835, -5.8646, -5.7701, -4.203, -5.4046, -5.3431, -5.3798, -5.642, -5.4742, -5.724, -5.7476, -5.4556, -5.6887, -5.7341, -5.5498, -5.6499, -5.5652, -5.747, -5.6535, -5.7803, -5.843, -5.8383, -4.949, -5.4195, -5.8088, -5.843, -5.0831, -5.4655, -6.0021, -6.4336, -6.4336, -6.4337, -6.4338, -5.331, -6.4468, -6.4472, -6.4473, -6.4496, -6.4511, -6.4526, -6.453, -6.4588, -6.0536, -6.466, -4.9722, -6.071, -6.4791, -6.4795, -6.4814, -6.4821, -5.4028, -6.4844, -5.4075, -6.1057, -4.9714, -4.768, -6.1535, -6.1337, -5.7196, -5.8082, -5.788, -6.1565, -5.8119, -5.6756, -5.1271, -4.9407, -5.8466, -5.8518, -5.2071, -5.1679, -5.6451, -5.4447, -5.7807, -5.3135, -5.7312, -5.4607, -4.9137, -5.3201, -5.4505, -5.4995, -5.7442, -5.7603, -5.7497, -5.778, -5.987, -5.9871, -6.0318, -6.0401, -6.0774, -6.0854, -5.6132, -6.1086, -6.1193, -6.6288, -6.6288, -6.6288, -6.6288, -6.6288, -6.6289, -6.6289, -6.6289, -6.6289, -6.6289, -6.6289, -6.6289, -6.6289, -6.6289, -6.6289, -6.6289, -6.629, -6.629, -6.629, -6.629, -6.629, -6.252, -5.9839, -5.8199, -5.66, -6.0719, -5.5072, -5.6154, -5.5484, -5.2639, -5.987, -5.5467, -5.9048, -6.0117, -4.3778, -5.5142, -5.9148, -5.8369, -6.3874, -5.3955, -5.9359, -5.5447, -6.0447, -5.1332, -5.5993, -5.0225, -5.3901, -5.4704, -5.3214, -5.5563, -5.5179, -5.5511, -5.6639, -5.7647, -5.7122, -5.7389, -5.6944, -5.8062, -5.8848, -5.8636, -5.7104, -5.2308, -5.5605, -5.8647, -5.8879, -5.9095, -6.3522, -6.3522, -6.3522, -6.3523, -6.3523, -6.3523, -6.3523, -6.3523, -5.726, -6.0301, -5.5553, -6.5094, -6.5121, -6.5258, -6.536, -6.5398, -6.5439, -6.5386, -6.5477, -6.5498, -6.5517, -6.5562, -6.5566, -6.5603, -5.5571, -5.7328, -5.9262, -5.9676, -5.5382, -5.178, -5.0662, -5.9832, -4.7858, -5.3359, -5.4554, -5.9049, -5.6853, -5.5756, -5.6841, -4.9277, -4.6211, -5.9137, -5.6423, -5.7766, -5.5028, -5.2918, -5.6316, -5.6377, -5.5889, -5.748, -5.7537, -5.8008, -5.83, -5.8326, -5.2738, -5.2739, -5.5526, -5.9402, -5.9403, -5.9403, -5.9403, -5.9404, -5.9405, -5.2737, -5.698, -4.8199, -5.3641, -5.784, -6.0991, -5.8451, -5.0372, -6.582, -6.5821, -6.5821, -6.5821, -6.5821, -6.5821, -6.5821, -6.5821, -6.5821, -6.5821, -6.5821, -6.5821, -6.5821, -5.9402, -5.5526, -5.9403, -5.4168, -4.8035, -4.8287, -5.3688, -4.9836, -5.008, -5.6584, -6.0421, -5.9404, -5.9241, -5.4383, -5.7381, -5.4187, -4.7749, -5.3619, -5.4882, -5.545, -5.1839, -5.4536, -5.378, -5.4729, -5.5618, -5.7057, -5.5939, -5.6667, -5.8745, -6.425, -6.4251, -6.4251, -6.4251, -6.4251, -6.4251, -6.4251, -6.4251, -6.4251, -6.4252, -6.4252, -6.4252, -6.4252, -6.4252, -6.4252, -6.4252, -6.4252, -6.4252, -6.4252, -6.4252, -6.4252, -6.4253, -6.4253, -6.4253, -6.4253, -6.4253, -6.4253, -6.4253, -6.4254, -5.5613, -5.4159, -5.5861, -5.0248, -5.5401, -5.5846, -5.7833, -4.96, -5.7863, -5.9288, -5.3196, -5.337, -5.8527, -5.9545, -5.8268, -5.3771, -5.867, -5.8932, -5.6465, -5.7759, -6.2176, -5.8796, -5.5954, -5.8204, -5.807, -5.9301, -5.4771, -5.272, -5.6013, -5.0846, -5.5483, -5.5094, -5.6862, -5.7925, -5.8463, -5.8352, -5.8497, -5.7136, -5.2127, -5.8527, -5.8536, -5.8978, -6.3552, -6.3552, -6.3553, -6.3553, -6.3553, -6.3553, -6.3553, -6.3553, -5.9694, -5.7725, -6.4696, -6.4877, -6.4905, -6.492, -6.5042, -6.5052, -6.5046, -6.5046, -6.515, -6.5201, -6.5242, -6.531, -5.6138, -6.5389, -6.5449, -5.8454, -5.4093, -5.7135, -5.1837, -6.1352, -5.6137, -5.1083, -4.7953, -4.6985, -6.2243, -5.4395, -5.4535, -6.0962, -5.4936, -5.8121, -5.8728, -5.7826, -5.4511, -5.6169, -5.7685, -5.4321, -5.6785, -5.288, -5.072, -5.5931, -5.7093], \"loglift\": [30.0, 29.0, 28.0, 27.0, 26.0, 25.0, 24.0, 23.0, 22.0, 21.0, 20.0, 19.0, 18.0, 17.0, 16.0, 15.0, 14.0, 13.0, 12.0, 11.0, 10.0, 9.0, 8.0, 7.0, 6.0, 5.0, 4.0, 3.0, 2.0, 1.0, 1.6676, 1.6109, 1.5962, 1.5755, 1.5755, 1.5755, 1.5157, 1.4981, 1.4977, 1.497, 1.4951, 1.495, 1.4939, 1.4928, 1.4871, 1.4794, 1.4725, 1.4238, 1.4133, 1.3682, 1.3555, 1.3555, 1.3555, 1.3555, 1.3555, 1.3555, 1.3555, 1.3555, 1.3555, 1.3555, 1.3493, 1.3381, 1.3169, 1.311, 1.3276, 1.3063, 1.3194, 1.2885, 1.2633, 1.2292, 1.2091, 1.1673, 0.8721, 1.1821, 1.2587, 1.2582, 0.7662, 1.1221, 1.0849, 0.9365, 0.4718, 0.4087, -0.136, 0.4808, 0.9927, 0.8304, 0.0622, 0.4769, 0.3216, -0.1838, 0.5731, 0.5817, 0.3691, 0.6369, -0.1597, 1.7034, 1.5566, 1.4787, 1.4697, 1.4556, 1.4505, 1.4388, 1.4182, 1.3818, 1.3805, 1.3607, 1.3518, 1.3516, 1.3513, 1.3508, 1.3492, 1.3446, 1.3444, 1.3434, 1.3431, 1.343, 1.3423, 1.3421, 1.342, 1.3407, 1.3347, 1.3345, 1.3285, 1.3271, 1.3252, 1.3197, 1.3141, 1.3079, 1.3158, 1.2761, 1.2586, 1.2236, 1.3026, 1.2181, 1.1962, 1.0334, 1.2799, 1.18, 1.1924, 1.0542, 0.977, 0.863, 0.7631, 0.8698, 0.943, 0.7313, 0.4168, 0.3593, 0.4893, 0.93, -0.0641, 0.8323, 0.7588, 0.6279, 0.8849, 0.2587, 0.3471, 0.7738, 0.0988, 0.0626, 0.6731, -0.1039, 1.7808, 1.7661, 1.7252, 1.712, 1.712, 1.712, 1.712, 1.712, 1.7024, 1.6941, 1.6225, 1.6177, 1.6078, 1.6022, 1.5949, 1.591, 1.5799, 1.5756, 1.5627, 1.5481, 1.5219, 1.5023, 1.4877, 1.485, 1.4818, 1.4818, 1.4818, 1.4818, 1.4818, 1.4818, 1.4809, 1.4734, 1.4467, 1.4034, 1.4203, 1.4537, 1.4054, 1.3395, 1.3284, 1.2913, 0.4681, 1.028, 0.8953, 0.659, 0.8246, 0.2943, 0.8337, 0.8971, -0.0791, 0.6269, 0.7439, 0.1266, 0.264, -0.2278, 0.6148, -0.0433, -0.1282, 0.7979, 0.3476, 2.0396, 1.9856, 1.8923, 1.8555, 1.7815, 1.7637, 1.7225, 1.6871, 1.6871, 1.6871, 1.6871, 1.6796, 1.6758, 1.6755, 1.6753, 1.6733, 1.6721, 1.6707, 1.6704, 1.6655, 1.6637, 1.6591, 1.6491, 1.6484, 1.6418, 1.6414, 1.6395, 1.6388, 1.637, 1.6366, 1.6275, 1.6155, 1.5404, 1.4217, 1.5955, 1.5889, 1.482, 1.4663, 1.452, 1.5694, 1.4297, 1.3481, 1.1113, 1.0172, 1.4173, 1.4054, 1.0725, 0.9859, 1.2524, 1.0361, 1.3012, 0.7253, 1.1625, 0.7521, -0.2426, 0.0173, 0.2016, 0.2403, 1.0905, 1.0104, 0.193, -0.1016, 1.8678, 1.8678, 1.8208, 1.8121, 1.7627, 1.7534, 1.7345, 1.7268, 1.7156, 1.6091, 1.6091, 1.6091, 1.6091, 1.6091, 1.6091, 1.6091, 1.6091, 1.6091, 1.609, 1.609, 1.609, 1.609, 1.609, 1.609, 1.609, 1.609, 1.609, 1.609, 1.609, 1.609, 1.5851, 1.5331, 1.4854, 1.425, 1.4378, 1.1538, 1.193, 1.1337, 0.8899, 1.2769, 1.0263, 1.2181, 1.2741, 0.2932, 0.9601, 1.1757, 1.1194, 1.4594, 0.7978, 1.1564, 0.8884, 1.2195, 0.5189, 0.8831, 0.354, 0.6487, 0.7072, 0.016, 0.4552, 0.2506, 0.059, 0.3931, 0.7134, 0.5187, 0.5734, -0.018, 0.5882, 0.928, 0.3177, 2.005, 1.9762, 1.8791, 1.8582, 1.8301, 1.8168, 1.7816, 1.7816, 1.7816, 1.7816, 1.7816, 1.7816, 1.7816, 1.7816, 1.7376, 1.7097, 1.6514, 1.6342, 1.6304, 1.6195, 1.6091, 1.6029, 1.6024, 1.6018, 1.5954, 1.5942, 1.5927, 1.5918, 1.5865, 1.5832, 1.5418, 1.4965, 1.5052, 1.4776, 1.3895, 1.3027, 1.2669, 1.4638, 1.1267, 1.1465, 1.1836, 1.3484, 1.2348, 1.1707, 1.1999, 0.4488, 0.05, 1.3285, 1.0111, 1.1083, 0.6785, 0.3184, 0.8195, 0.7529, 0.6044, 0.893, 0.6964, 0.8813, 0.8519, 0.815, 2.1084, 2.1084, 2.0445, 1.9309, 1.9309, 1.9308, 1.9308, 1.9308, 1.9308, 1.899, 1.8781, 1.8383, 1.7945, 1.7699, 1.7567, 1.724, 1.7163, 1.6678, 1.6678, 1.6678, 1.6678, 1.6677, 1.6677, 1.6677, 1.6677, 1.6677, 1.6677, 1.6677, 1.6677, 1.6677, 1.6452, 1.6147, 1.6321, 1.5782, 1.3824, 1.3841, 1.456, 1.2683, 1.1818, 1.319, 1.4601, 1.3652, 1.3504, 1.0745, 1.2316, 0.8946, -0.1038, 0.6951, 0.845, 0.9301, 0.1535, 0.5116, 0.2741, 0.441, 0.3498, 0.7608, -0.2174, 0.3448, 1.9385, 1.7779, 1.7778, 1.7778, 1.7778, 1.7778, 1.7778, 1.7778, 1.7778, 1.7778, 1.7778, 1.7778, 1.7778, 1.7778, 1.7778, 1.7777, 1.7777, 1.7777, 1.7777, 1.7777, 1.7777, 1.7777, 1.7777, 1.7777, 1.7777, 1.7777, 1.7777, 1.7777, 1.7777, 1.7775, 1.7069, 1.6744, 1.6755, 1.4459, 1.5457, 1.4976, 1.5634, 1.2176, 1.4851, 1.5512, 1.2244, 1.221, 1.4816, 1.5328, 1.4375, 1.0167, 1.3733, 1.3757, 1.1711, 1.1803, 1.5708, 1.216, 0.8298, 1.0437, 0.9688, 1.1119, 0.4656, 0.0655, 0.5467, -0.4135, 0.4096, 0.2591, 0.6294, 0.7053, 0.626, -0.1587, 0.5409, 2.1644, 2.1625, 2.0131, 2.0122, 1.9592, 1.8996, 1.8995, 1.8995, 1.8995, 1.8995, 1.8995, 1.8995, 1.8995, 1.8852, 1.8025, 1.776, 1.7588, 1.7524, 1.7504, 1.7409, 1.7406, 1.7397, 1.7383, 1.7263, 1.7233, 1.7178, 1.7127, 1.7119, 1.706, 1.6955, 1.6564, 1.6144, 1.6332, 1.5392, 1.6639, 1.4852, 1.3044, 1.17, 1.0413, 1.6258, 1.1245, 0.8797, 1.4225, 0.8099, 1.1156, 1.1754, 1.0535, 0.5604, 0.7774, 0.9251, 0.3364, 0.7546, 0.0494, -0.4009, 0.3601, -0.0328]}, \"token.table\": {\"Topic\": [3, 9, 2, 9, 2, 3, 6, 1, 2, 4, 5, 7, 8, 8, 2, 8, 4, 9, 8, 7, 9, 6, 8, 2, 1, 2, 5, 8, 2, 6, 9, 1, 4, 6, 7, 8, 4, 1, 2, 4, 8, 3, 6, 9, 4, 2, 1, 2, 3, 5, 8, 5, 8, 6, 1, 3, 5, 6, 5, 5, 2, 9, 1, 8, 7, 2, 2, 3, 1, 4, 7, 9, 1, 5, 8, 3, 6, 1, 2, 3, 7, 8, 4, 5, 2, 3, 6, 9, 2, 3, 9, 1, 2, 6, 1, 2, 6, 7, 1, 3, 5, 5, 1, 2, 4, 6, 8, 6, 9, 4, 5, 6, 1, 2, 3, 4, 7, 9, 4, 3, 2, 1, 2, 5, 6, 8, 2, 5, 8, 3, 9, 7, 1, 4, 7, 1, 3, 4, 5, 6, 7, 8, 9, 1, 2, 5, 6, 8, 7, 1, 2, 5, 6, 4, 5, 1, 3, 8, 4, 5, 9, 3, 5, 6, 7, 8, 2, 3, 4, 8, 1, 2, 3, 4, 5, 6, 2, 5, 7, 2, 3, 7, 1, 2, 3, 5, 7, 9, 4, 5, 1, 6, 1, 6, 9, 8, 7, 7, 7, 7, 5, 1, 2, 3, 5, 8, 1, 2, 4, 8, 2, 3, 5, 6, 1, 2, 5, 7, 1, 2, 5, 7, 9, 5, 1, 2, 3, 4, 5, 6, 8, 1, 1, 2, 2, 2, 6, 8, 2, 8, 6, 6, 7, 3, 4, 1, 2, 5, 6, 8, 2, 4, 8, 5, 8, 5, 2, 3, 6, 1, 2, 4, 1, 8, 4, 6, 8, 3, 9, 4, 5, 7, 4, 1, 3, 8, 3, 6, 8, 9, 1, 2, 3, 5, 6, 3, 6, 2, 5, 2, 7, 1, 3, 7, 7, 5, 2, 3, 1, 6, 8, 5, 5, 3, 4, 6, 7, 9, 1, 3, 4, 5, 6, 8, 9, 4, 5, 6, 7, 8, 1, 2, 3, 4, 5, 7, 9, 2, 9, 6, 1, 2, 3, 1, 2, 1, 2, 2, 4, 6, 6, 2, 4, 5, 1, 1, 2, 3, 9, 1, 5, 6, 8, 5, 1, 2, 3, 7, 8, 9, 6, 4, 7, 7, 4, 3, 6, 2, 3, 3, 8, 9, 6, 6, 1, 2, 3, 4, 5, 6, 7, 9, 1, 2, 4, 5, 6, 7, 7, 1, 3, 4, 4, 8, 1, 2, 3, 5, 7, 9, 8, 8, 9, 1, 2, 3, 4, 5, 6, 7, 8, 9, 3, 7, 1, 2, 3, 4, 5, 7, 8, 3, 7, 6, 4, 5, 9, 1, 6, 7, 8, 9, 2, 9, 3, 1, 5, 1, 2, 3, 4, 5, 8, 1, 2, 3, 4, 5, 6, 8, 9, 1, 5, 8, 1, 2, 4, 5, 1, 7, 3, 5, 6, 7, 6, 2, 3, 2, 5, 1, 2, 5, 6, 3, 4, 5, 8, 1, 2, 3, 4, 5, 6, 7, 8, 9, 1, 2, 4, 5, 6, 7, 2, 1, 9, 7, 5, 1, 2, 7, 1, 1, 1, 2, 4, 5, 2, 3, 4, 5, 6, 7, 8, 2, 5, 7, 8, 2, 2, 5, 8, 1, 2, 4, 6, 8, 3, 7, 8, 1, 4, 1, 2, 3, 4, 5, 6, 8, 9, 1, 2, 3, 4, 5, 7, 8, 4, 5, 9, 7, 8, 4, 1, 5, 1, 1, 2, 3, 4, 5, 7, 9, 3, 8, 4, 4, 6, 3, 3, 7, 9, 3, 1, 2, 3, 4, 5, 6, 8, 9, 9, 3, 8, 9, 2, 7, 5, 3, 2, 1, 3, 5, 7, 9, 2, 8, 3, 6, 9, 8, 2, 2, 3, 4, 6, 7, 8, 9, 4, 6, 6, 1, 2, 4, 5, 6, 8, 1, 2, 7, 2, 3, 7, 1, 1, 3, 5, 9, 8, 4, 5, 7, 2, 7, 1, 1, 2, 3, 4, 5, 6, 7, 8, 9, 1, 1, 4, 6, 8, 1, 2, 4, 8, 5, 1, 8, 3, 1, 2, 3, 4, 5, 6, 7, 8, 9, 4, 1, 2, 7, 9, 7, 1, 2, 3, 5, 6, 7, 8, 9, 1, 2, 3, 4, 5, 6, 7, 8, 9, 3, 4, 1, 9, 1, 2, 3, 5, 8, 9, 1, 2, 3, 4, 5, 7, 8, 9, 8, 1, 1, 1, 4, 8, 1, 6, 2, 7, 8, 6, 8, 1, 3, 9, 1, 3, 4, 1, 2, 3, 7, 8, 1, 3, 5, 8, 9, 9, 5, 2, 3, 5, 6, 8, 9, 1, 9, 4, 7, 7, 8, 1, 4, 5, 8, 8, 6, 6, 1, 2, 7, 3, 5, 1, 2, 9, 3, 6, 9, 2, 3, 8, 1, 2, 5, 4, 7, 3, 5, 9, 2, 4, 3, 2, 1, 3, 4, 5, 7, 5, 3, 2, 5, 5, 4, 5, 2, 4, 5, 7, 7, 3, 9, 1, 4, 9, 1, 2, 5, 6, 8, 9, 1, 2, 3, 4, 5, 6, 7, 4, 2, 8, 5, 9, 1, 2, 4, 5, 8, 9, 2, 4, 4, 8, 1, 2, 3, 4, 5, 8, 9, 1, 2, 4, 5, 6, 7, 8, 9, 2, 1, 3, 7, 8, 7, 4, 5, 5, 7, 8, 9, 3, 9, 6, 9, 1, 2, 3, 4, 5, 8, 4, 1, 4, 8, 9, 2, 3, 4, 5, 6, 7, 8, 9, 2, 4, 5, 7, 8, 6, 1, 4, 5, 6, 9, 4, 5, 2, 3, 4, 7, 3, 9, 7, 1, 2, 5, 7, 3, 6, 1, 1, 2, 3, 5, 6, 8, 9, 1, 3, 1, 4, 5, 6, 8, 1, 5, 2, 3, 5, 6, 9, 5, 2, 4, 8, 4, 6, 1, 2, 3, 4, 5, 6, 7, 8, 9, 9, 4, 7, 1, 2, 8, 9, 9, 6, 9, 1, 1, 2, 5, 1, 2, 1, 6, 4, 4, 7, 8, 6, 4, 4, 6, 3, 1, 6, 2, 4, 8, 4, 1, 8, 3, 9, 1, 2, 2, 4, 1, 2, 3, 4, 6, 2, 3, 4, 5, 7, 2, 5, 2, 7, 5, 1, 3, 4, 8, 2, 2, 3, 3, 1, 2, 3, 4, 5, 6, 7, 8, 9, 1, 2, 4, 6, 1, 2, 3, 6, 9, 8, 1, 2, 3, 4, 5, 6, 7, 8, 9, 4, 1, 2, 1, 3, 6, 5, 9, 7], \"Freq\": [0.47920760184769184, 0.7829764643965823, 0.49642844443655354, 0.49642844443655354, 0.34104702845057755, 0.17052351422528877, 0.17052351422528877, 0.13511213745497477, 0.13511213745497477, 0.13511213745497477, 0.13511213745497477, 0.13511213745497477, 0.13511213745497477, 0.7434184125098913, 0.29287911591399723, 0.29287911591399723, 0.6866129333766782, 0.77253504352303, 0.7434208115980823, 0.7790899945295156, 0.7737361688854303, 0.36346393531432025, 0.36346393531432025, 0.6723935369620136, 0.377330064427253, 0.377330064427253, 0.7699262174343304, 0.743396934753702, 0.34907735097203124, 0.34907735097203124, 0.7759107701716337, 0.16241573717916544, 0.16241573717916544, 0.16241573717916544, 0.16241573717916544, 0.16241573717916544, 0.9001892987042269, 0.22434069793246425, 0.4486813958649285, 0.6871837248427985, 0.7434581528243484, 0.2076905400530311, 0.4153810801060622, 0.2076905400530311, 0.6848165236220509, 0.44175351206829333, 0.19618900101389575, 0.09809450050694787, 0.09809450050694787, 0.19618900101389575, 0.29428350152084365, 0.769872290331699, 0.7434300370257197, 0.7037157497216213, 0.15649637569776012, 0.31299275139552024, 0.15649637569776012, 0.15649637569776012, 0.5207021370369305, 0.7698977561668201, 0.7579625708423282, 0.7830140513870643, 0.9027435794573746, 0.4911474947792775, 0.7791011673108914, 0.6722531277469808, 0.2297919941929841, 0.6893759825789523, 0.4319922848031702, 0.1439974282677234, 0.1439974282677234, 0.1439974282677234, 0.6862978397973961, 0.7698981916213729, 0.7434014326347612, 0.4732315276012271, 0.7008325455438249, 0.22470534543871012, 0.11235267271935506, 0.11235267271935506, 0.22470534543871012, 0.11235267271935506, 0.6859814330414905, 0.7698686833114293, 0.17323192956305938, 0.17323192956305938, 0.34646385912611877, 0.17323192956305938, 0.23738989422622356, 0.4747797884524471, 0.23738989422622356, 0.15018907972860973, 0.4505672391858292, 0.15018907972860973, 0.19898608451831756, 0.19898608451831756, 0.19898608451831756, 0.19898608451831756, 0.28691540325767695, 0.28691540325767695, 0.14345770162883847, 0.515640595403068, 0.1415019854429299, 0.1415019854429299, 0.1415019854429299, 0.1415019854429299, 0.2830039708858598, 0.6937640039740457, 0.7829837200638032, 0.20610479182722508, 0.20610479182722508, 0.41220958365445015, 0.23586787569389553, 0.11793393784694776, 0.23586787569389553, 0.11793393784694776, 0.11793393784694776, 0.11793393784694776, 0.6848518421785273, 0.9388136240367672, 0.45833024322798127, 0.0752484214940728, 0.4514905289644368, 0.0752484214940728, 0.3009936859762912, 0.0752484214940728, 0.6027536278903951, 0.15068840697259878, 0.15068840697259878, 0.507689657530064, 0.3384597716867094, 0.7791032290526841, 0.3892392377998485, 0.19461961889992424, 0.53356609073319, 0.26085035050859984, 0.08695011683619994, 0.08695011683619994, 0.17390023367239987, 0.08695011683619994, 0.17390023367239987, 0.08695011683619994, 0.08695011683619994, 0.18434070490431953, 0.18434070490431953, 0.36868140980863906, 0.18434070490431953, 0.18434070490431953, 0.7791050138095166, 0.17378799950166507, 0.34757599900333014, 0.17378799950166507, 0.17378799950166507, 0.4584103665863782, 0.7699226664009923, 0.4529690558983711, 0.7200237599815998, 0.3600118799907999, 0.6694785714167097, 0.37437231179875224, 0.5259660081539536, 0.18602043868744722, 0.18602043868744722, 0.18602043868744722, 0.18602043868744722, 0.37204087737489444, 0.672248001070026, 0.24325303196757064, 0.24325303196757064, 0.4865060639351413, 0.15560257127294075, 0.15560257127294075, 0.15560257127294075, 0.15560257127294075, 0.15560257127294075, 0.3112051425458815, 0.2182507289772176, 0.2182507289772176, 0.4365014579544352, 0.1873725701377093, 0.1873725701377093, 0.3747451402754186, 0.23278298027480684, 0.3491744704122102, 0.11639149013740342, 0.11639149013740342, 0.11639149013740342, 0.7829943061306228, 0.5813502009877205, 0.29067510049386025, 0.27452686101478424, 0.5490537220295685, 0.28444995844151366, 0.28444995844151366, 0.28444995844151366, 0.7433914949565801, 0.8112958430943322, 0.6544195653694511, 0.7791066236360582, 0.5334820910019384, 0.6322057462042346, 0.13171146070666417, 0.13171146070666417, 0.13171146070666417, 0.13171146070666417, 0.13171146070666417, 0.19488502981836184, 0.3897700596367237, 0.19488502981836184, 0.19488502981836184, 0.16245814977635334, 0.16245814977635334, 0.3249162995527067, 0.16245814977635334, 0.1456766059592422, 0.2913532119184844, 0.2913532119184844, 0.1456766059592422, 0.24818253572849203, 0.24818253572849203, 0.12409126786424601, 0.12409126786424601, 0.24818253572849203, 0.7699075469230378, 0.09845738532950507, 0.2953721559885152, 0.09845738532950507, 0.09845738532950507, 0.09845738532950507, 0.19691477065901014, 0.09845738532950507, 0.6809884364106944, 0.9003582852605101, 0.6722472309869073, 0.6724135531406729, 0.6724016832425979, 0.6937898538563395, 0.7434029222392449, 0.29212908397671256, 0.29212908397671256, 0.8238262235466961, 0.693065331308535, 0.5232674730365519, 0.225630224667245, 0.676890674001735, 0.13198098750149184, 0.13198098750149184, 0.2639619750029837, 0.13198098750149184, 0.13198098750149184, 0.4474649775306616, 0.4574223355276955, 0.7433949692005669, 0.5144696828689954, 0.7433481397120579, 0.769887928191636, 0.17175648199886792, 0.6870259279954717, 0.4678485229553013, 0.5778555679596036, 0.19261852265320117, 0.19261852265320117, 0.4509898948072231, 0.7434113479964951, 0.28078604850363464, 0.5615720970072693, 0.28078604850363464, 0.7084986520406352, 0.5371773817065215, 0.6860241118934729, 0.40093171440940467, 0.40093171440940467, 0.6847875992463036, 0.29081260835265543, 0.29081260835265543, 0.29081260835265543, 0.3436929913339789, 0.3436929913339789, 0.39672290256183856, 0.39672290256183856, 0.13916095325109654, 0.41748285975328964, 0.13916095325109654, 0.13916095325109654, 0.13916095325109654, 0.7019164989236764, 0.6938052532267337, 0.24484240962558307, 0.24484240962558307, 0.4474622932327485, 0.7790875875339046, 0.4491230166875615, 0.30305157709256425, 0.30305157709256425, 0.5335153496451956, 0.7698906762779734, 0.672378587984429, 0.9388418143791825, 0.45003091644584725, 0.22501545822292363, 0.7433956779598928, 0.5248803081773755, 0.769871904900519, 0.11460071633967571, 0.11460071633967571, 0.3438021490190271, 0.22920143267935142, 0.22920143267935142, 0.2225074119052486, 0.1112537059526243, 0.1112537059526243, 0.1112537059526243, 0.1112537059526243, 0.1112537059526243, 0.2225074119052486, 0.13304489539755424, 0.26608979079510847, 0.26608979079510847, 0.13304489539755424, 0.13304489539755424, 0.12663499573815612, 0.25326999147631224, 0.06331749786907806, 0.12663499573815612, 0.06331749786907806, 0.06331749786907806, 0.18995249360723418, 0.4570145425334837, 0.5247180632603712, 0.6937906796382032, 0.6697871805778579, 0.3446938409502978, 0.6893876819005956, 0.45391303944604533, 0.6725492117884544, 0.542904753634276, 0.271452376817138, 0.19881729465893186, 0.19881729465893186, 0.3976345893178637, 0.4577356677846796, 0.2443969917884914, 0.2443969917884914, 0.2443969917884914, 0.6862974801725571, 0.26317719756276375, 0.5263543951255275, 0.7006820307912447, 0.7742859894755042, 0.24565228082170265, 0.24565228082170265, 0.24565228082170265, 0.24565228082170265, 0.7699268646509686, 0.21510654517492586, 0.3226598177623888, 0.10755327258746293, 0.10755327258746293, 0.10755327258746293, 0.10755327258746293, 0.7011668121059833, 0.6848848299675048, 0.65435519536281, 0.5334750619139537, 0.45923578913983953, 0.7147591567615941, 0.7006314871448059, 0.4519518604412443, 0.7085326065724951, 0.701068197823742, 0.31576642707135427, 0.31576642707135427, 0.693813815502244, 0.913173930908328, 0.3336964394869548, 0.11123214649565162, 0.11123214649565162, 0.05561607324782581, 0.11123214649565162, 0.11123214649565162, 0.05561607324782581, 0.05561607324782581, 0.25790220091691707, 0.12895110045845853, 0.12895110045845853, 0.12895110045845853, 0.25790220091691707, 0.12895110045845853, 0.779087159599635, 0.22860842583743507, 0.22860842583743507, 0.45721685167487014, 0.2919265162780161, 0.5838530325560322, 0.12664718647963874, 0.12664718647963874, 0.2532943729592775, 0.2532943729592775, 0.12664718647963874, 0.12664718647963874, 0.7434204393203516, 0.7434395453688966, 0.7829625482230876, 0.22606436843257743, 0.15070957895505163, 0.15070957895505163, 0.15070957895505163, 0.07535478947752582, 0.07535478947752582, 0.15070957895505163, 0.07535478947752582, 0.07535478947752582, 0.7183571465515456, 0.7791012608487612, 0.108629989459108, 0.217259978918216, 0.108629989459108, 0.325889968377324, 0.108629989459108, 0.108629989459108, 0.108629989459108, 0.5961012787431418, 0.2980506393715709, 0.6999528449017705, 0.4846154028584926, 0.2423077014292463, 0.2423077014292463, 0.46232236763354845, 0.15410745587784946, 0.15410745587784946, 0.15410745587784946, 0.7737206700775264, 0.3687605994364724, 0.3687605994364724, 0.9388514901379539, 0.6863183844818451, 0.5236976995720288, 0.14350440584470694, 0.14350440584470694, 0.14350440584470694, 0.14350440584470694, 0.14350440584470694, 0.2870088116894139, 0.25883768243466715, 0.12941884121733357, 0.12941884121733357, 0.12941884121733357, 0.12941884121733357, 0.12941884121733357, 0.12941884121733357, 0.12941884121733357, 0.21370328650258663, 0.21370328650258663, 0.21370328650258663, 0.6863421700198132, 0.774551000997775, 0.5774857920222883, 0.28874289601114417, 0.7025451935350149, 0.35127259676750744, 0.22213842095987074, 0.22213842095987074, 0.22213842095987074, 0.4442768419197415, 0.7017543618173231, 0.6726399383309708, 0.4722545558217525, 0.4578056994848935, 0.7698872921978116, 0.5864376615141952, 0.1954792205047317, 0.1954792205047317, 0.1954792205047317, 0.20151977923672698, 0.40303955847345396, 0.20151977923672698, 0.20151977923672698, 0.1270247929625637, 0.2117079882709395, 0.0846831953083758, 0.1270247929625637, 0.0846831953083758, 0.0423415976541879, 0.1270247929625637, 0.0846831953083758, 0.0846831953083758, 0.13208021234147052, 0.13208021234147052, 0.13208021234147052, 0.13208021234147052, 0.13208021234147052, 0.26416042468294104, 0.6724016554391754, 0.46326551827102286, 0.7829914917887862, 0.525356867663506, 0.5147562404391518, 0.45086020460441134, 0.46403882174937083, 0.23201941087468542, 0.6863428262251063, 0.9003384372240849, 0.15905865899963362, 0.31811731799926724, 0.15905865899963362, 0.31811731799926724, 0.1213853435151733, 0.1213853435151733, 0.1213853435151733, 0.1213853435151733, 0.2427706870303466, 0.1213853435151733, 0.1213853435151733, 0.6723397278732125, 0.31188663902007374, 0.31188663902007374, 0.31188663902007374, 0.6915311951207074, 0.45607682470317223, 0.5248988942224376, 0.7434274939205314, 0.12564877361808616, 0.3769463208542585, 0.12564877361808616, 0.12564877361808616, 0.2512975472361723, 0.1586191464525169, 0.6344765858100676, 0.7434274635551049, 0.6863315268352534, 0.8978126401071028, 0.12881370173115894, 0.12881370173115894, 0.12881370173115894, 0.12881370173115894, 0.12881370173115894, 0.2576274034623179, 0.12881370173115894, 0.7718350927133005, 0.2244694460508611, 0.11223472302543056, 0.11223472302543056, 0.11223472302543056, 0.2244694460508611, 0.11223472302543056, 0.11223472302543056, 0.567620801077684, 0.283810400538842, 0.5223962037177162, 0.533492825077293, 0.7434770035988038, 0.46074541041304373, 0.30294455070796694, 0.6058891014159339, 0.6748634042032731, 0.08538119157055808, 0.08538119157055808, 0.25614357471167426, 0.25614357471167426, 0.17076238314111616, 0.08538119157055808, 0.08538119157055808, 0.7084964638844888, 0.7434139750974578, 0.6848735278597246, 0.4598397758794825, 0.6937745081574483, 0.4690645824089641, 0.7085220907181637, 0.5278023582625001, 0.26390117913125005, 0.47964234673256156, 0.15675365083961057, 0.31350730167922114, 0.07837682541980528, 0.07837682541980528, 0.07837682541980528, 0.07837682541980528, 0.07837682541980528, 0.07837682541980528, 0.7741336379058834, 0.3092107655719798, 0.3092107655719798, 0.3092107655719798, 0.3689164335425482, 0.3689164335425482, 0.517189096472887, 0.4696640167751657, 0.6723866883365135, 0.16434504297341954, 0.16434504297341954, 0.16434504297341954, 0.16434504297341954, 0.16434504297341954, 0.2899921534019895, 0.579984306803979, 0.28760363757651086, 0.28760363757651086, 0.28760363757651086, 0.7434123912977308, 0.6725200317705022, 0.11260910745481899, 0.22521821490963798, 0.11260910745481899, 0.11260910745481899, 0.11260910745481899, 0.22521821490963798, 0.11260910745481899, 0.6864190193539305, 0.7016369955437122, 0.7002617962635217, 0.17841795221895518, 0.17841795221895518, 0.17841795221895518, 0.17841795221895518, 0.17841795221895518, 0.17841795221895518, 0.22834662056632732, 0.45669324113265464, 0.22834662056632732, 0.45219383998417956, 0.22609691999208978, 0.39442870478126724, 0.685505573386798, 0.18949299339218414, 0.3789859867843683, 0.18949299339218414, 0.18949299339218414, 0.7434305602495679, 0.25243539064709214, 0.25243539064709214, 0.25243539064709214, 0.2653376905100495, 0.530675381020099, 0.6863087093234371, 0.22553995221255993, 0.22553995221255993, 0.07517998407085331, 0.07517998407085331, 0.07517998407085331, 0.07517998407085331, 0.15035996814170663, 0.07517998407085331, 0.07517998407085331, 0.4507436528444091, 0.17751060387385972, 0.35502120774771945, 0.17751060387385972, 0.17751060387385972, 0.13702486923236498, 0.13702486923236498, 0.5480994769294599, 0.13702486923236498, 0.5235001136209998, 0.686320059324672, 0.7434032843524768, 0.7085016181472085, 0.17611603346663654, 0.22014504183329567, 0.13208702509997738, 0.044029008366659135, 0.13208702509997738, 0.13208702509997738, 0.08805801673331827, 0.044029008366659135, 0.044029008366659135, 0.6877763788236682, 0.2860891376499241, 0.2860891376499241, 0.14304456882496205, 0.14304456882496205, 0.7791098094154592, 0.1661605544075603, 0.08308027720378015, 0.08308027720378015, 0.1661605544075603, 0.08308027720378015, 0.1661605544075603, 0.08308027720378015, 0.1661605544075603, 0.1574863842395899, 0.07874319211979496, 0.07874319211979496, 0.3149727684791798, 0.07874319211979496, 0.07874319211979496, 0.07874319211979496, 0.1574863842395899, 0.07874319211979496, 0.2731174470511205, 0.546234894102241, 0.3750390832515131, 0.3750390832515131, 0.2606344678712969, 0.19547585090347266, 0.19547585090347266, 0.13031723393564845, 0.13031723393564845, 0.13031723393564845, 0.15865125664427696, 0.15865125664427696, 0.07932562832213848, 0.07932562832213848, 0.07932562832213848, 0.15865125664427696, 0.07932562832213848, 0.23797688496641542, 0.7434117406507641, 0.9002963343982242, 0.45085530348766334, 0.4511846117070677, 0.15039487056902257, 0.15039487056902257, 0.5461514889702564, 0.2730757444851282, 0.21660552841863512, 0.43321105683727024, 0.21660552841863512, 0.7098751237812314, 0.3549375618906157, 0.45055724764484095, 0.5762376528906354, 0.2881188264453177, 0.38645169807721286, 0.19322584903860643, 0.19322584903860643, 0.1309580653686551, 0.1309580653686551, 0.2619161307373102, 0.2619161307373102, 0.7434096486701757, 0.2649375256001279, 0.2649375256001279, 0.2649375256001279, 0.13246876280006395, 0.5306286041790723, 0.6497996565378974, 0.769879783548018, 0.24351426158567696, 0.12175713079283848, 0.12175713079283848, 0.12175713079283848, 0.24351426158567696, 0.12175713079283848, 0.6703197468227673, 0.7764647064725456, 0.5875764017337158, 0.2937882008668579, 0.39572590901525, 0.39572590901525, 0.4565962303546427, 0.22829811517732135, 0.22829811517732135, 0.5034080960861391, 0.7433920210141893, 0.6937614067458493, 0.46157264614697324, 0.3956986361174172, 0.1978493180587086, 0.1978493180587086, 0.48061511878738183, 0.7699428655782499, 0.2342675678502941, 0.4685351357005882, 0.2342675678502941, 0.47769501065779874, 0.23884750532889937, 0.23884750532889937, 0.23283907821025893, 0.23283907821025893, 0.23283907821025893, 0.29710843956042626, 0.29710843956042626, 0.29710843956042626, 0.38845424098401105, 0.38845424098401105, 0.5801699080736524, 0.2900849540368262, 0.7748377371524916, 0.3367115049351784, 0.3367115049351784, 0.9389330067294828, 0.4508422222443489, 0.13715338864469884, 0.13715338864469884, 0.13715338864469884, 0.13715338864469884, 0.2743067772893977, 0.5165348630211442, 0.7005340080618523, 0.6799353017280423, 0.33996765086402114, 0.7699186730281526, 0.46243554417730753, 0.23121777208865377, 0.6723479023029126, 0.4964812898412192, 0.09929625796824385, 0.2978887739047315, 0.7791068534640824, 0.5909097921061126, 0.2954548960530563, 0.15288835986351593, 0.6115534394540637, 0.15288835986351593, 0.2376762424167563, 0.2376762424167563, 0.11883812120837815, 0.11883812120837815, 0.11883812120837815, 0.11883812120837815, 0.20691894512461753, 0.10345947256230877, 0.20691894512461753, 0.10345947256230877, 0.20691894512461753, 0.10345947256230877, 0.10345947256230877, 0.46135006943411727, 0.6722090641365079, 0.7434315515346461, 0.7698615074545927, 0.7733037067693628, 0.128866560510062, 0.257733121020124, 0.257733121020124, 0.128866560510062, 0.128866560510062, 0.128866560510062, 0.6731082952332109, 0.882844110639964, 0.3607836251837524, 0.3607836251837524, 0.3102405920116165, 0.15512029600580826, 0.15512029600580826, 0.15512029600580826, 0.07756014800290413, 0.15512029600580826, 0.07756014800290413, 0.19047011781027132, 0.19047011781027132, 0.09523505890513566, 0.09523505890513566, 0.09523505890513566, 0.09523505890513566, 0.19047011781027132, 0.09523505890513566, 0.5378254372035121, 0.17447403711784074, 0.17447403711784074, 0.5234221113535222, 0.7434540969912692, 0.7790973812553434, 0.4721909387296564, 0.7699101681929658, 0.22861511079674196, 0.22861511079674196, 0.22861511079674196, 0.4572302215934839, 0.7085017467332879, 0.7752684136089857, 0.6998517286156256, 0.783016574945592, 0.09578719094686543, 0.09578719094686543, 0.09578719094686543, 0.28736157284059627, 0.28736157284059627, 0.09578719094686543, 0.686039730287171, 0.24435601305455829, 0.24435601305455829, 0.48871202610911657, 0.5306696503652965, 0.09964663328936174, 0.09964663328936174, 0.09964663328936174, 0.19929326657872348, 0.19929326657872348, 0.09964663328936174, 0.09964663328936174, 0.09964663328936174, 0.10160698710301184, 0.2032139742060237, 0.10160698710301184, 0.4064279484120474, 0.10160698710301184, 0.7002021514176627, 0.5677219610330108, 0.3784813073553405, 0.7699079458377363, 0.4929221383982174, 0.2464610691991087, 0.4646369543398762, 0.2323184771699381, 0.19781985234487934, 0.19781985234487934, 0.09890992617243967, 0.3956397046897587, 0.47634301193312983, 0.23817150596656492, 0.7944237930182737, 0.1851401663016138, 0.1851401663016138, 0.1851401663016138, 0.1851401663016138, 0.34846025897349187, 0.34846025897349187, 0.4512436538225981, 0.24368167106920638, 0.12184083553460319, 0.12184083553460319, 0.24368167106920638, 0.12184083553460319, 0.12184083553460319, 0.12184083553460319, 0.4509047341940978, 0.4735094664512208, 0.15694337554820065, 0.3138867510964013, 0.15694337554820065, 0.15694337554820065, 0.7434172987609127, 0.2907722766291211, 0.2907722766291211, 0.15785949649913858, 0.15785949649913858, 0.15785949649913858, 0.31571899299827716, 0.15785949649913858, 0.7699022915183787, 0.20072418027422337, 0.40144836054844674, 0.20072418027422337, 0.6862642733588799, 0.6983573278828341, 0.23770891916224596, 0.17828168937168448, 0.11885445958112298, 0.11885445958112298, 0.11885445958112298, 0.05942722979056149, 0.05942722979056149, 0.05942722979056149, 0.05942722979056149, 0.7829847482493946, 0.5685607798706174, 0.2842803899353087, 0.2887014754158407, 0.14435073770792034, 0.14435073770792034, 0.2887014754158407, 0.7730368933237441, 0.6938059688300952, 0.7757952303271143, 0.4667522355892331, 0.6863205650722141, 0.4547884899923434, 0.7699011718453361, 0.6863057461527394, 0.6691592698712694, 0.6968443568630602, 0.7005303960801182, 0.5615170641761286, 0.5849806628222114, 0.7790781970112682, 0.7434400628936535, 0.45998527124873567, 0.6848268558529855, 0.6848664887941901, 0.7024774624879305, 0.47041497098104373, 0.6783527757834829, 0.3391763878917414, 0.24238539528143443, 0.24238539528143443, 0.48477079056286887, 0.6865336618504332, 0.283890697615336, 0.283890697615336, 0.794677576924567, 0.1589355153849134, 0.336212427148962, 0.336212427148962, 0.44529567200060405, 0.6847847834320774, 0.10423974627098333, 0.10423974627098333, 0.31271923881295, 0.31271923881295, 0.10423974627098333, 0.3169926557717182, 0.10566421859057273, 0.10566421859057273, 0.10566421859057273, 0.3169926557717182, 0.24305728500582188, 0.48611457001164377, 0.531994803828435, 0.7791012948608061, 0.3716658368616847, 0.1315040714137123, 0.1315040714137123, 0.1315040714137123, 0.39451221424113686, 0.4412556459589823, 0.27078253789823925, 0.5415650757964785, 0.9388750602611003, 0.1160010294922282, 0.17400154423834227, 0.1160010294922282, 0.1160010294922282, 0.17400154423834227, 0.0580005147461141, 0.1160010294922282, 0.0580005147461141, 0.0580005147461141, 0.13283013922520967, 0.13283013922520967, 0.26566027845041934, 0.398490417675629, 0.12659018721409881, 0.25318037442819763, 0.37977056164229644, 0.12659018721409881, 0.12659018721409881, 0.7433770632167809, 0.13047159901215477, 0.13047159901215477, 0.19570739851823216, 0.08698106600810318, 0.13047159901215477, 0.10872633251012898, 0.08698106600810318, 0.06523579950607739, 0.04349053300405159, 0.6848927326186202, 0.6614860796704664, 0.22049535989015545, 0.15590298694730395, 0.3118059738946079, 0.3118059738946079, 0.7698934972900119, 0.7753853866024255, 0.5334872914695447], \"Term\": [\"20th\", \"75th\", \"abell\", \"abell\", \"able\", \"able\", \"able\", \"account\", \"account\", \"account\", \"account\", \"account\", \"account\", \"act\", \"address\", \"address\", \"adequate\", \"advance\", \"albion\", \"alevel\", \"alhoceima\", \"allegation\", \"allegation\", \"alleged\", \"amateur\", \"amateur\", \"amendment\", \"ammunition\", \"appearance\", \"appearance\", \"arab\", \"area\", \"area\", \"area\", \"area\", \"area\", \"arrangement\", \"assistant\", \"assistant\", \"assurance\", \"automatic\", \"award\", \"award\", \"award\", \"backstage\", \"balcombe\", \"bank\", \"bank\", \"bank\", \"bank\", \"bank\", \"barripper\", \"basingstoke\", \"beating\", \"big\", \"big\", \"big\", \"big\", \"birth\", \"bitter\", \"black\", \"blue\", \"boxing\", \"bradford\", \"bristol\", \"broken\", \"brunner\", \"brunner\", \"business\", \"business\", \"business\", \"business\", \"butter\", \"calm\", \"cannabi\", \"car\", \"carina\", \"case\", \"case\", \"case\", \"case\", \"case\", \"casualisation\", \"census\", \"centre\", \"centre\", \"centre\", \"centre\", \"century\", \"century\", \"century\", \"championship\", \"championship\", \"championship\", \"chance\", \"chance\", \"chance\", \"chance\", \"change\", \"change\", \"change\", \"chaos\", \"charge\", \"charge\", \"charge\", \"charge\", \"charge\", \"charlton\", \"chelsea\", \"child\", \"child\", \"child\", \"city\", \"city\", \"city\", \"city\", \"city\", \"city\", \"clearup\", \"climate\", \"clothing\", \"club\", \"club\", \"club\", \"club\", \"club\", \"coach\", \"coach\", \"coach\", \"coin\", \"coin\", \"combat\", \"comment\", \"comment\", \"commuter\", \"company\", \"company\", \"company\", \"company\", \"company\", \"company\", \"company\", \"company\", \"competition\", \"competition\", \"competition\", \"competition\", \"competition\", \"computer\", \"condition\", \"condition\", \"condition\", \"condition\", \"conductor\", \"consecutive\", \"constituency\", \"consultation\", \"consultation\", \"contractor\", \"cornwall\", \"corruption\", \"cost\", \"cost\", \"cost\", \"cost\", \"cost\", \"counsel\", \"count\", \"count\", \"count\", \"country\", \"country\", \"country\", \"country\", \"country\", \"country\", \"county\", \"county\", \"county\", \"course\", \"course\", \"course\", \"court\", \"court\", \"court\", \"court\", \"court\", \"crazy\", \"crew\", \"crew\", \"criminal\", \"criminal\", \"critic\", \"critic\", \"critic\", \"custom\", \"cyber\", \"cybersecurity\", \"cyberskill\", \"cyberthreat\", \"date\", \"datum\", \"datum\", \"datum\", \"datum\", \"datum\", \"davy\", \"davy\", \"davy\", \"davy\", \"day\", \"day\", \"day\", \"day\", \"deal\", \"deal\", \"deal\", \"deal\", \"death\", \"death\", \"death\", \"death\", \"death\", \"debate\", \"decision\", \"decision\", \"decision\", \"decision\", \"decision\", \"decision\", \"decision\", \"decline\", \"defamatory\", \"defence\", \"defendant\", \"deny\", \"derby\", \"dermot\", \"detail\", \"detail\", \"detainee\", \"detention\", \"development\", \"device\", \"device\", \"different\", \"different\", \"different\", \"different\", \"different\", \"difficulty\", \"dispute\", \"doyle\", \"driver\", \"drummy\", \"dual\", \"duffy\", \"duffy\", \"easy\", \"economic\", \"economic\", \"economic\", \"economist\", \"ecstasy\", \"election\", \"election\", \"election\", \"electricity\", \"elliot\", \"employer\", \"employment\", \"employment\", \"entertainment\", \"euro\", \"euro\", \"euro\", \"european\", \"european\", \"evening\", \"evening\", \"event\", \"event\", \"event\", \"event\", \"event\", \"exam\", \"excited\", \"executive\", \"executive\", \"exile\", \"expansion\", \"experienced\", \"expert\", \"expert\", \"exposure\", \"extend\", \"facial\", \"fairy\", \"farming\", \"farming\", \"farnborough\", \"favour\", \"figure\", \"film\", \"film\", \"film\", \"film\", \"film\", \"final\", \"final\", \"final\", \"final\", \"final\", \"final\", \"final\", \"fire\", \"fire\", \"fire\", \"fire\", \"fire\", \"first\", \"first\", \"first\", \"first\", \"first\", \"first\", \"first\", \"firstclass\", \"fishmonger\", \"fiveyear\", \"flanagan\", \"flat\", \"flat\", \"food\", \"footpath\", \"force\", \"force\", \"former\", \"former\", \"former\", \"fourth\", \"free\", \"free\", \"free\", \"freezer\", \"fresh\", \"fresh\", \"friend\", \"fruit\", \"fund\", \"fund\", \"fund\", \"fund\", \"gallery\", \"game\", \"game\", \"game\", \"game\", \"game\", \"game\", \"garage\", \"garry\", \"gchq\", \"gchqs\", \"general\", \"genetic\", \"genocide\", \"glaucoma\", \"glen\", \"glencore\", \"goal\", \"goal\", \"goalkeeper\", \"gomez\", \"good\", \"good\", \"good\", \"good\", \"good\", \"good\", \"good\", \"good\", \"great\", \"great\", \"great\", \"great\", \"great\", \"great\", \"green\", \"ground\", \"ground\", \"ground\", \"guilty\", \"guilty\", \"half\", \"half\", \"half\", \"half\", \"half\", \"half\", \"handgun\", \"herbal\", \"hib\", \"high\", \"high\", \"high\", \"high\", \"high\", \"high\", \"high\", \"high\", \"high\", \"hivlike\", \"horden\", \"hour\", \"hour\", \"hour\", \"hour\", \"hour\", \"hour\", \"hour\", \"hughe\", \"hughe\", \"incarceration\", \"incident\", \"incident\", \"incident\", \"industry\", \"industry\", \"industry\", \"industry\", \"injustice\", \"innings\", \"innings\", \"innogy\", \"insurer\", \"interclub\", \"interest\", \"interest\", \"interest\", \"interest\", \"interest\", \"interest\", \"investigation\", \"investigation\", \"investigation\", \"investigation\", \"investigation\", \"investigation\", \"investigation\", \"investigation\", \"investor\", \"investor\", \"investor\", \"ireland\", \"irving\", \"item\", \"item\", \"judge\", \"judge\", \"junction\", \"junction\", \"junction\", \"junction\", \"justice\", \"kicking\", \"knife\", \"knitting\", \"knox\", \"labour\", \"labour\", \"labour\", \"labour\", \"large\", \"large\", \"large\", \"large\", \"last\", \"last\", \"last\", \"last\", \"last\", \"last\", \"last\", \"last\", \"last\", \"late\", \"late\", \"late\", \"late\", \"late\", \"late\", \"lawrence\", \"lawyer\", \"leg\", \"leisure\", \"lending\", \"less\", \"letter\", \"letter\", \"libel\", \"libellous\", \"licence\", \"licence\", \"licence\", \"licence\", \"life\", \"life\", \"life\", \"life\", \"life\", \"life\", \"life\", \"lifeless\", \"limit\", \"limit\", \"limit\", \"lingerie\", \"liquidation\", \"llangennech\", \"location\", \"loss\", \"loss\", \"loss\", \"loss\", \"loss\", \"m\", \"m\", \"magistrate\", \"majority\", \"manhole\", \"many\", \"many\", \"many\", \"many\", \"many\", \"many\", \"many\", \"marche\", \"market\", \"market\", \"market\", \"market\", \"market\", \"market\", \"market\", \"marriage\", \"marriage\", \"mass\", \"math\", \"matt\", \"matter\", \"measure\", \"measure\", \"meat\", \"medium\", \"medium\", \"medium\", \"medium\", \"medium\", \"medium\", \"medium\", \"megawatt\", \"merseyside\", \"metre\", \"mick\", \"midfielder\", \"mine\", \"minimise\", \"minute\", \"minute\", \"monkey\", \"month\", \"month\", \"month\", \"month\", \"month\", \"month\", \"month\", \"month\", \"morocco\", \"movie\", \"movie\", \"movie\", \"murder\", \"murder\", \"nationwide\", \"netizen\", \"newcastle\", \"news\", \"news\", \"news\", \"news\", \"news\", \"newspaper\", \"newspaper\", \"nomination\", \"nomination\", \"nomination\", \"northend\", \"nose\", \"number\", \"number\", \"number\", \"number\", \"number\", \"number\", \"number\", \"objective\", \"offense\", \"offer\", \"office\", \"office\", \"office\", \"office\", \"office\", \"office\", \"opportunity\", \"opportunity\", \"opportunity\", \"origin\", \"origin\", \"outlet\", \"overall\", \"owner\", \"owner\", \"owner\", \"owner\", \"parcel\", \"parent\", \"parent\", \"parent\", \"park\", \"park\", \"parliamentary\", \"part\", \"part\", \"part\", \"part\", \"part\", \"part\", \"part\", \"part\", \"part\", \"participation\", \"party\", \"party\", \"party\", \"party\", \"passenger\", \"passenger\", \"passenger\", \"passenger\", \"passport\", \"payout\", \"pearson\", \"penmachno\", \"people\", \"people\", \"people\", \"people\", \"people\", \"people\", \"people\", \"people\", \"people\", \"permanent\", \"phone\", \"phone\", \"phone\", \"phone\", \"physics\", \"place\", \"place\", \"place\", \"place\", \"place\", \"place\", \"place\", \"place\", \"plan\", \"plan\", \"plan\", \"plan\", \"plan\", \"plan\", \"plan\", \"plan\", \"plan\", \"playback\", \"playback\", \"plot\", \"plot\", \"point\", \"point\", \"point\", \"point\", \"point\", \"point\", \"police\", \"police\", \"police\", \"police\", \"police\", \"police\", \"police\", \"police\", \"pompey\", \"pontypool\", \"population\", \"possible\", \"possible\", \"possible\", \"post\", \"post\", \"potential\", \"potential\", \"potential\", \"powerful\", \"powerful\", \"prescription\", \"primate\", \"primate\", \"problem\", \"problem\", \"problem\", \"project\", \"project\", \"project\", \"project\", \"promotion\", \"proposal\", \"proposal\", \"proposal\", \"proposal\", \"protest\", \"protester\", \"provision\", \"public\", \"public\", \"public\", \"public\", \"public\", \"public\", \"question\", \"rabat\", \"rail\", \"rail\", \"range\", \"range\", \"rate\", \"rate\", \"rate\", \"reasonable\", \"recover\", \"red\", \"rehabilitation\", \"related\", \"related\", \"related\", \"relative\", \"relief\", \"remembrance\", \"remembrance\", \"remembrance\", \"research\", \"research\", \"research\", \"result\", \"result\", \"result\", \"return\", \"return\", \"return\", \"ride\", \"ride\", \"ring\", \"ring\", \"riot\", \"risk\", \"risk\", \"river\", \"rnib\", \"road\", \"road\", \"road\", \"road\", \"road\", \"robust\", \"room\", \"rugby\", \"rugby\", \"russell\", \"safety\", \"safety\", \"scared\", \"school\", \"school\", \"school\", \"science\", \"scientist\", \"scientist\", \"scottish\", \"scottish\", \"scottish\", \"season\", \"season\", \"season\", \"season\", \"season\", \"season\", \"second\", \"second\", \"second\", \"second\", \"second\", \"second\", \"second\", \"secretary\", \"sedated\", \"seizure\", \"selection\", \"seller\", \"service\", \"service\", \"service\", \"service\", \"service\", \"service\", \"setup\", \"sewer\", \"sexual\", \"sexual\", \"share\", \"share\", \"share\", \"share\", \"share\", \"share\", \"share\", \"side\", \"side\", \"side\", \"side\", \"side\", \"side\", \"side\", \"side\", \"sight\", \"site\", \"site\", \"site\", \"sixth\", \"skill\", \"skirt\", \"small\", \"space\", \"space\", \"space\", \"space\", \"sparrowhawk\", \"special\", \"speculation\", \"spoil\", \"staff\", \"staff\", \"staff\", \"staff\", \"staff\", \"staff\", \"staffing\", \"standard\", \"standard\", \"standard\", \"standoff\", \"state\", \"state\", \"state\", \"state\", \"state\", \"state\", \"state\", \"state\", \"station\", \"station\", \"station\", \"station\", \"station\", \"stay\", \"store\", \"store\", \"stream\", \"street\", \"street\", \"strike\", \"strike\", \"student\", \"student\", \"student\", \"student\", \"study\", \"study\", \"success\", \"support\", \"support\", \"support\", \"support\", \"sure\", \"sure\", \"symptom\", \"team\", \"team\", \"team\", \"team\", \"team\", \"team\", \"team\", \"technological\", \"teenager\", \"term\", \"term\", \"term\", \"term\", \"terrorism\", \"thing\", \"thing\", \"thousand\", \"thousand\", \"thousand\", \"thousand\", \"thousand\", \"threeunder\", \"ticket\", \"ticket\", \"ticket\", \"ticketless\", \"tidy\", \"time\", \"time\", \"time\", \"time\", \"time\", \"time\", \"time\", \"time\", \"time\", \"tottenham\", \"train\", \"train\", \"trial\", \"trial\", \"trial\", \"trial\", \"truck\", \"true\", \"tunisian\", \"tweet\", \"twoday\", \"twodimensional\", \"twoshot\", \"tyrone\", \"unable\", \"unaware\", \"undesirable\", \"uniform\", \"union\", \"unlock\", \"unlucky\", \"unofficial\", \"unsupported\", \"unwanted\", \"usbased\", \"user\", \"vegan\", \"vegan\", \"victim\", \"victim\", \"victim\", \"vigilant\", \"violent\", \"violent\", \"virus\", \"virus\", \"wale\", \"wale\", \"walk\", \"war\", \"water\", \"water\", \"water\", \"water\", \"water\", \"week\", \"week\", \"week\", \"week\", \"week\", \"welsh\", \"welsh\", \"wicket\", \"wide\", \"winner\", \"woman\", \"woman\", \"woman\", \"woman\", \"wonderful\", \"wood\", \"wood\", \"woodland\", \"work\", \"work\", \"work\", \"work\", \"work\", \"work\", \"work\", \"work\", \"work\", \"worker\", \"worker\", \"worker\", \"worker\", \"world\", \"world\", \"world\", \"world\", \"world\", \"yard\", \"year\", \"year\", \"year\", \"year\", \"year\", \"year\", \"year\", \"year\", \"year\", \"yellow\", \"yorkshire\", \"yorkshire\", \"young\", \"young\", \"young\", \"ysgol\", \"zefzafi\", \"\\u00a3\"]}, \"R\": 30, \"lambda.step\": 0.01, \"plot.opts\": {\"xlab\": \"PC1\", \"ylab\": \"PC2\"}, \"topic.order\": [5, 7, 8, 6, 9, 2, 4, 1, 3]};\n",
       "\n",
       "function LDAvis_load_lib(url, callback){\n",
       "  var s = document.createElement('script');\n",
       "  s.src = url;\n",
       "  s.async = true;\n",
       "  s.onreadystatechange = s.onload = callback;\n",
       "  s.onerror = function(){console.warn(\"failed to load library \" + url);};\n",
       "  document.getElementsByTagName(\"head\")[0].appendChild(s);\n",
       "}\n",
       "\n",
       "if(typeof(LDAvis) !== \"undefined\"){\n",
       "   // already loaded: just create the visualization\n",
       "   !function(LDAvis){\n",
       "       new LDAvis(\"#\" + \"ldavis_el889851396252129677288343666969\", ldavis_el889851396252129677288343666969_data);\n",
       "   }(LDAvis);\n",
       "}else if(typeof define === \"function\" && define.amd){\n",
       "   // require.js is available: use it to load d3/LDAvis\n",
       "   require.config({paths: {d3: \"https://d3js.org/d3.v5\"}});\n",
       "   require([\"d3\"], function(d3){\n",
       "      window.d3 = d3;\n",
       "      LDAvis_load_lib(\"https://cdn.jsdelivr.net/gh/bmabey/pyLDAvis@3.3.1/pyLDAvis/js/ldavis.v3.0.0.js\", function(){\n",
       "        new LDAvis(\"#\" + \"ldavis_el889851396252129677288343666969\", ldavis_el889851396252129677288343666969_data);\n",
       "      });\n",
       "    });\n",
       "}else{\n",
       "    // require.js not available: dynamically load d3 & LDAvis\n",
       "    LDAvis_load_lib(\"https://d3js.org/d3.v5.js\", function(){\n",
       "         LDAvis_load_lib(\"https://cdn.jsdelivr.net/gh/bmabey/pyLDAvis@3.3.1/pyLDAvis/js/ldavis.v3.0.0.js\", function(){\n",
       "                 new LDAvis(\"#\" + \"ldavis_el889851396252129677288343666969\", ldavis_el889851396252129677288343666969_data);\n",
       "            })\n",
       "         });\n",
       "}\n",
       "</script>"
      ],
      "text/plain": [
       "PreparedData(topic_coordinates=              x         y  topics  cluster       Freq\n",
       "topic                                                \n",
       "4      0.074028  0.057053       1        1  15.030622\n",
       "6      0.016950  0.060786       2        1  14.831300\n",
       "7     -0.137961  0.003653       3        1  12.858957\n",
       "5      0.015955 -0.094120       4        1  10.809520\n",
       "8      0.014319  0.008682       5        1  10.377205\n",
       "1     -0.012577  0.019160       6        1   9.719034\n",
       "3      0.028980 -0.076690       7        1   9.652271\n",
       "0      0.024459 -0.008028       8        1   9.110619\n",
       "2     -0.024153  0.029505       9        1   7.610471, topic_info=        Term       Freq      Total Category  logprob  loglift\n",
       "268   school  10.000000  10.000000  Default  30.0000  30.0000\n",
       "49      club  13.000000  13.000000  Default  29.0000  29.0000\n",
       "698    virus   6.000000   6.000000  Default  28.0000  28.0000\n",
       "506    sewer   4.000000   4.000000  Default  27.0000  27.0000\n",
       "1613    coin   5.000000   5.000000  Default  26.0000  26.0000\n",
       "...      ...        ...        ...      ...      ...      ...\n",
       "211     half   1.278039   7.895951   Topic9  -5.6785   0.7546\n",
       "57      last   1.888483  23.617437   Topic9  -5.2880   0.0494\n",
       "121     year   2.343903  45.987020   Topic9  -5.0720  -0.4009\n",
       "58     month   1.391925  12.758873   Topic9  -5.5931   0.3601\n",
       "79      time   1.239281  16.827303   Topic9  -5.7093  -0.0328\n",
       "\n",
       "[593 rows x 6 columns], token_table=      Topic      Freq     Term\n",
       "term                          \n",
       "659       3  0.479208     20th\n",
       "202       9  0.782976     75th\n",
       "1633      2  0.496428    abell\n",
       "1633      9  0.496428    abell\n",
       "279       2  0.341047     able\n",
       "...     ...       ...      ...\n",
       "379       3  0.311806    young\n",
       "379       6  0.311806    young\n",
       "1295      5  0.769893    ysgol\n",
       "1179      9  0.775385  zefzafi\n",
       "1999      7  0.533487        £\n",
       "\n",
       "[1047 rows x 3 columns], R=30, lambda_step=0.01, plot_opts={'xlab': 'PC1', 'ylab': 'PC2'}, topic_order=[5, 7, 8, 6, 9, 2, 4, 1, 3])"
      ]
     },
     "execution_count": 31,
     "metadata": {},
     "output_type": "execute_result"
    },
    {
     "name": "stderr",
     "output_type": "stream",
     "text": [
      "/home/pranisaa/thesis/lib/python3.8/site-packages/past/builtins/misc.py:45: DeprecationWarning: the imp module is deprecated in favour of importlib; see the module's documentation for alternative uses\n",
      "  from imp import reload\n",
      "/home/pranisaa/thesis/lib/python3.8/site-packages/past/builtins/misc.py:45: DeprecationWarning: the imp module is deprecated in favour of importlib; see the module's documentation for alternative uses\n",
      "  from imp import reload\n",
      "/home/pranisaa/thesis/lib/python3.8/site-packages/past/builtins/misc.py:45: DeprecationWarning: the imp module is deprecated in favour of importlib; see the module's documentation for alternative uses\n",
      "  from imp import reload\n",
      "/home/pranisaa/thesis/lib/python3.8/site-packages/past/builtins/misc.py:45: DeprecationWarning: the imp module is deprecated in favour of importlib; see the module's documentation for alternative uses\n",
      "  from imp import reload\n"
     ]
    }
   ],
   "source": [
    "# Visualize the topics\n",
    "pyLDAvis.enable_notebook()\n",
    "vis = pyLDAvis.gensim_models.prepare(optimal_model, doc_term_matrix, dictionary)\n",
    "vis"
   ]
  },
  {
   "cell_type": "code",
   "execution_count": null,
   "metadata": {},
   "outputs": [],
   "source": []
  }
 ],
 "metadata": {
  "kernelspec": {
   "display_name": "thesis",
   "language": "python",
   "name": "thesis"
  },
  "language_info": {
   "codemirror_mode": {
    "name": "ipython",
    "version": 3
   },
   "file_extension": ".py",
   "mimetype": "text/x-python",
   "name": "python",
   "nbconvert_exporter": "python",
   "pygments_lexer": "ipython3",
   "version": "3.8.10"
  }
 },
 "nbformat": 4,
 "nbformat_minor": 4
}
