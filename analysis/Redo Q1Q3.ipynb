{
 "cells": [
  {
   "cell_type": "markdown",
   "metadata": {},
   "source": [
    "### Q1 Q3 of Epoch 30"
   ]
  },
  {
   "cell_type": "code",
   "execution_count": 2,
   "metadata": {},
   "outputs": [],
   "source": [
    "import os\n",
    "os.environ['http_proxy'] = 'http://192.41.170.23:3128'\n",
    "os.environ['https_proxy'] = 'http://192.41.170.23:3128'"
   ]
  },
  {
   "cell_type": "code",
   "execution_count": 3,
   "metadata": {},
   "outputs": [],
   "source": [
    "import pandas as pd\n",
    "pd.set_option('display.max_colwidth', None)\n",
    "import matplotlib.pyplot as plt\n",
    "import sys         \n",
    "sys.path.append('/home/pranisaa/working_dir/Text-Summarization')        \n",
    "from config import *"
   ]
  },
  {
   "cell_type": "code",
   "execution_count": 4,
   "metadata": {},
   "outputs": [
    {
     "name": "stdout",
     "output_type": "stream",
     "text": [
      "{'MODEL': 't5-small', 'TRAIN_BATCH_SIZE': 16, 'VALID_BATCH_SIZE': 16, 'TRAIN_EPOCHS': 30, 'VAL_EPOCHS': 1, 'LEARNING_RATE': 2e-05, 'SCHEDULER': 'linear', 'MAX_SOURCE_TEXT_LENGTH': 512, 'MAX_TARGET_TEXT_LENGTH': 36, 'SEED': 42}\n",
      "xsum\n"
     ]
    }
   ],
   "source": [
    "model_params = model_params\n",
    "EPOCH = model_params['TRAIN_EPOCHS']\n",
    "model = model_params['MODEL']\n",
    "data = data\n",
    "print(model_params)\n",
    "print(data)"
   ]
  },
  {
   "cell_type": "code",
   "execution_count": 41,
   "metadata": {},
   "outputs": [
    {
     "data": {
      "text/plain": [
       "(0.0, 3000.0)"
      ]
     },
     "execution_count": 41,
     "metadata": {},
     "output_type": "execute_result"
    },
    {
     "data": {
      "image/png": "[encoded data removed]",
      "text/plain": [
       "<Figure size 432x288 with 1 Axes>"
      ]
     },
     "metadata": {
      "needs_background": "light"
     },
     "output_type": "display_data"
    }
   ],
   "source": [
    "path_len = f\"\"\"../datalength/train_data_length_info.csv\"\"\"\n",
    "df_len = pd.read_csv(path_len)\n",
    "train_len = df_len['length']\n",
    "plt.hist(train_len, edgecolor = 'black',\n",
    "         bins = 500)\n",
    "plt.title(f'Histogram of source lengths')\n",
    "plt.xlim([0,3000])"
   ]
  },
  {
   "cell_type": "code",
   "execution_count": 39,
   "metadata": {},
   "outputs": [
    {
     "data": {
      "text/plain": [
       "(0.0, 3000.0)"
      ]
     },
     "execution_count": 39,
     "metadata": {},
     "output_type": "execute_result"
    },
    {
     "data": {
      "image/png": "[encoded data removed]",
      "text/plain": [
       "<Figure size 432x288 with 1 Axes>"
      ]
     },
     "metadata": {
      "needs_background": "light"
     },
     "output_type": "display_data"
    }
   ],
   "source": [
    "path_len = f\"\"\"../datalength/val_data_length_info.csv\"\"\"\n",
    "df_len = pd.read_csv(path_len)\n",
    "val_len = df_len['length']\n",
    "plt.hist(val_len, edgecolor = 'black',\n",
    "         bins = 300)\n",
    "plt.title(f'Histogram of source lengths')\n",
    "plt.xlim([0,3000])"
   ]
  },
  {
   "cell_type": "markdown",
   "metadata": {},
   "source": [
    "#### no len restriction"
   ]
  },
  {
   "cell_type": "code",
   "execution_count": 100,
   "metadata": {},
   "outputs": [
    {
     "name": "stdout",
     "output_type": "stream",
     "text": [
      "Min Rouge1:  0.0\n",
      "Q1 Rouge1:  9.523809523809526\n",
      "Mean Rouge1:  22.857142857142858\n",
      "Q3 Rouge1:  38.0952380952381\n",
      "Max Rouge1:  73.68421052631578\n"
     ]
    }
   ],
   "source": [
    "path = f\"\"\"../model/{model_params[\"MODEL\"]}_{data}_nolenrestriction_30epoch\"\"\"\n",
    "path_df = os.path.join(path, f\"result_eval/predictions_{model}_epoch{EPOCH-1}.csv\")\n",
    "df = pd.read_csv(path_df)\n",
    "doc_id = df['ids']\n",
    "rouge1 = df['RougeScore1']\n",
    "rouge1_max = max(rouge1)\n",
    "rouge1_min = min(rouge1)\n",
    "rouge1_q1,rouge1_mean,rouge1_q3 = rouge1.quantile([0.10,0.5,0.90])\n",
    "print(\"Min Rouge1: \", rouge1_min)\n",
    "print(\"Q1 Rouge1: \", rouge1_q1)\n",
    "print(\"Mean Rouge1: \", rouge1_mean)\n",
    "print(\"Q3 Rouge1: \", rouge1_q3)\n",
    "print(\"Max Rouge1: \", rouge1_max)"
   ]
  },
  {
   "cell_type": "code",
   "execution_count": 101,
   "metadata": {},
   "outputs": [],
   "source": [
    "data_q1 = doc_id[rouge1<=rouge1_q1]\n",
    "data_q3 = doc_id[rouge1>=rouge1_q3]"
   ]
  },
  {
   "cell_type": "code",
   "execution_count": 102,
   "metadata": {},
   "outputs": [],
   "source": [
    "path_len = f\"\"\"../datalength/val_data_length_info.csv\"\"\"\n",
    "df_len = pd.read_csv(path_len)\n",
    "val_len_q1 = {'ids': [], 'length': []}\n",
    "for idx in data_q1:\n",
    "    val_len_q1['ids'].append(idx)\n",
    "    length = int(df_len['length'][df_len['ids'] == idx])\n",
    "    val_len_q1['length'].append(length)"
   ]
  },
  {
   "cell_type": "code",
   "execution_count": 103,
   "metadata": {},
   "outputs": [],
   "source": [
    "val_len_q3 = {'ids': [], 'length': []}\n",
    "for idx in data_q3:\n",
    "    val_len_q3['ids'].append(idx)\n",
    "    length = int(df_len['length'][df_len['ids'] == idx])\n",
    "    val_len_q3['length'].append(length)"
   ]
  },
  {
   "cell_type": "code",
   "execution_count": 106,
   "metadata": {},
   "outputs": [
    {
     "data": {
      "text/plain": [
       "Text(0.5, 1.0, 'Histogram of source lengths')"
      ]
     },
     "execution_count": 106,
     "metadata": {},
     "output_type": "execute_result"
    },
    {
     "data": {
      "image/png": "[encoded data removed]",
      "text/plain": [
       "<Figure size 432x288 with 1 Axes>"
      ]
     },
     "metadata": {
      "needs_background": "light"
     },
     "output_type": "display_data"
    }
   ],
   "source": [
    "# matplotlib histogram\n",
    "plt.hist(val_len_q1['length'], edgecolor = 'black',\n",
    "         bins = 25, label = \"topq1\")\n",
    "plt.hist(val_len_q3['length'], edgecolor = 'black',\n",
    "         bins = 25, label = \"topq3\")\n",
    "plt.xlim([0,3000])\n",
    "plt.ylim([0,20])\n",
    "plt.legend()\n",
    "plt.xlabel(\"length of doc\")\n",
    "plt.title(f'Histogram of source lengths')"
   ]
  },
  {
   "cell_type": "markdown",
   "metadata": {},
   "source": [
    "#### Max 512"
   ]
  },
  {
   "cell_type": "code",
   "execution_count": 108,
   "metadata": {},
   "outputs": [
    {
     "name": "stdout",
     "output_type": "stream",
     "text": [
      "Min Rouge1:  0.0\n",
      "Q1 Rouge1:  10.499325236167342\n",
      "Mean Rouge1:  23.431372549019606\n",
      "Q3 Rouge1:  37.83783783783783\n",
      "Max Rouge1:  63.15789473684211\n"
     ]
    }
   ],
   "source": [
    "path = f\"\"\"../model/{model_params[\"MODEL\"]}_{data}_lenrestriction_30epoch\"\"\"\n",
    "path_df = os.path.join(path, f\"result_eval/predictions_{model}_epoch{EPOCH-1}.csv\")\n",
    "df = pd.read_csv(path_df)\n",
    "doc_id = df['ids']\n",
    "rouge1 = df['RougeScore1']\n",
    "rouge1_max = max(rouge1)\n",
    "rouge1_min = min(rouge1)\n",
    "rouge1_q1,rouge1_mean,rouge1_q3 = rouge1.quantile([0.10,0.5,0.90])\n",
    "print(\"Min Rouge1: \", rouge1_min)\n",
    "print(\"Q1 Rouge1: \", rouge1_q1)\n",
    "print(\"Mean Rouge1: \", rouge1_mean)\n",
    "print(\"Q3 Rouge1: \", rouge1_q3)\n",
    "print(\"Max Rouge1: \", rouge1_max)"
   ]
  },
  {
   "cell_type": "code",
   "execution_count": 109,
   "metadata": {},
   "outputs": [],
   "source": [
    "data_q1 = doc_id[rouge1<=rouge1_q1]\n",
    "data_q3 = doc_id[rouge1>=rouge1_q3]"
   ]
  },
  {
   "cell_type": "code",
   "execution_count": 110,
   "metadata": {},
   "outputs": [],
   "source": [
    "path_len = f\"\"\"../datalength/val_data_length_info.csv\"\"\"\n",
    "df_len = pd.read_csv(path_len)\n",
    "val_len_q1 = {'ids': [], 'length': []}\n",
    "for idx in data_q1:\n",
    "    val_len_q1['ids'].append(idx)\n",
    "    length = int(df_len['length'][df_len['ids'] == idx])\n",
    "    val_len_q1['length'].append(length)"
   ]
  },
  {
   "cell_type": "code",
   "execution_count": 111,
   "metadata": {},
   "outputs": [],
   "source": [
    "val_len_q3 = {'ids': [], 'length': []}\n",
    "for idx in data_q3:\n",
    "    val_len_q3['ids'].append(idx)\n",
    "    length = int(df_len['length'][df_len['ids'] == idx])\n",
    "    val_len_q3['length'].append(length)"
   ]
  },
  {
   "cell_type": "code",
   "execution_count": 112,
   "metadata": {},
   "outputs": [
    {
     "data": {
      "text/plain": [
       "Text(0.5, 1.0, 'Histogram of source lengths')"
      ]
     },
     "execution_count": 112,
     "metadata": {},
     "output_type": "execute_result"
    },
    {
     "data": {
      "image/png": "[encoded data removed]",
      "text/plain": [
       "<Figure size 432x288 with 1 Axes>"
      ]
     },
     "metadata": {
      "needs_background": "light"
     },
     "output_type": "display_data"
    }
   ],
   "source": [
    "# matplotlib histogram\n",
    "plt.hist(val_len_q1['length'], edgecolor = 'black',\n",
    "         bins = 25, label = \"topq1\")\n",
    "plt.hist(val_len_q3['length'], edgecolor = 'black',\n",
    "         bins = 25, label = \"topq3\")\n",
    "plt.xlim([0,3000])\n",
    "plt.ylim([0,20])\n",
    "plt.xlabel(\"length of doc\")\n",
    "plt.legend()\n",
    "plt.title(f'Histogram of source lengths')"
   ]
  },
  {
   "cell_type": "code",
   "execution_count": 122,
   "metadata": {},
   "outputs": [],
   "source": [
    "# max512 = {'q1': val_len_q1} #, 'q3': val_len_q3}\n",
    "# max_512_df = pd.DataFrame.from_dict(val_len_q1)\n",
    "# max_512_df.to_csv('max_512_q1.csv')"
   ]
  },
  {
   "cell_type": "code",
   "execution_count": 124,
   "metadata": {},
   "outputs": [],
   "source": [
    "import pickle\n",
    "f = open(\"max_512_q1.pkl\",\"wb\")\n",
    "\n",
    "# write the python object (dict) to pickle file\n",
    "pickle.dump(val_len_q1,f)"
   ]
  },
  {
   "cell_type": "code",
   "execution_count": 128,
   "metadata": {},
   "outputs": [],
   "source": [
    "with open('val_len_q3_max512.pickle', 'wb') as f:\n",
    "    pickle.dump(val_len_q3, f)"
   ]
  },
  {
   "cell_type": "code",
   "execution_count": null,
   "metadata": {},
   "outputs": [],
   "source": []
  }
 ],
 "metadata": {
  "kernelspec": {
   "display_name": "thesis",
   "language": "python",
   "name": "thesis"
  },
  "language_info": {
   "codemirror_mode": {
    "name": "ipython",
    "version": 3
   },
   "file_extension": ".py",
   "mimetype": "text/x-python",
   "name": "python",
   "nbconvert_exporter": "python",
   "pygments_lexer": "ipython3",
   "version": "3.8.10"
  }
 },
 "nbformat": 4,
 "nbformat_minor": 4
}
