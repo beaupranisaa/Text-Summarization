{
 "cells": [
  {
   "cell_type": "code",
   "execution_count": 1,
   "metadata": {},
   "outputs": [],
   "source": [
    "import pandas as pd\n",
    "import numpy as np"
   ]
  },
  {
   "cell_type": "code",
   "execution_count": 2,
   "metadata": {},
   "outputs": [],
   "source": [
    "gps_data = pd.read_csv(r'/root/thesis_update/thesis_update_final/topic_selection/gps_topic_selection.csv')"
   ]
  },
  {
   "cell_type": "code",
   "execution_count": 5,
   "metadata": {},
   "outputs": [
    {
     "data": {
      "text/html": [
       "<div>\n",
       "<style scoped>\n",
       "    .dataframe tbody tr th:only-of-type {\n",
       "        vertical-align: middle;\n",
       "    }\n",
       "\n",
       "    .dataframe tbody tr th {\n",
       "        vertical-align: top;\n",
       "    }\n",
       "\n",
       "    .dataframe thead th {\n",
       "        text-align: right;\n",
       "    }\n",
       "</style>\n",
       "<table border=\"1\" class=\"dataframe\">\n",
       "  <thead>\n",
       "    <tr style=\"text-align: right;\">\n",
       "      <th></th>\n",
       "      <th>Unnamed: 0</th>\n",
       "      <th>Date</th>\n",
       "      <th>text_headlines</th>\n",
       "    </tr>\n",
       "  </thead>\n",
       "  <tbody>\n",
       "    <tr>\n",
       "      <th>0</th>\n",
       "      <td>0</td>\n",
       "      <td>2022-02-14 05:12:00</td>\n",
       "      <td>appaloosa lp reports new stakes in gap dick's ...</td>\n",
       "    </tr>\n",
       "    <tr>\n",
       "      <th>1</th>\n",
       "      <td>1</td>\n",
       "      <td>2022-02-14 04:56:00</td>\n",
       "      <td>gap inc stock falls monday underperforms market</td>\n",
       "    </tr>\n",
       "    <tr>\n",
       "      <th>2</th>\n",
       "      <td>2</td>\n",
       "      <td>2022-02-11 04:56:00</td>\n",
       "      <td>gap inc stock falls friday underperforms market</td>\n",
       "    </tr>\n",
       "    <tr>\n",
       "      <th>3</th>\n",
       "      <td>3</td>\n",
       "      <td>2022-02-10 04:57:00</td>\n",
       "      <td>gap inc stock underperforms thursday when comp...</td>\n",
       "    </tr>\n",
       "    <tr>\n",
       "      <th>4</th>\n",
       "      <td>4</td>\n",
       "      <td>2022-02-09 04:56:00</td>\n",
       "      <td>gap inc stock falls wednesday underperforms ma...</td>\n",
       "    </tr>\n",
       "  </tbody>\n",
       "</table>\n",
       "</div>"
      ],
      "text/plain": [
       "   Unnamed: 0                 Date  \\\n",
       "0           0  2022-02-14 05:12:00   \n",
       "1           1  2022-02-14 04:56:00   \n",
       "2           2  2022-02-11 04:56:00   \n",
       "3           3  2022-02-10 04:57:00   \n",
       "4           4  2022-02-09 04:56:00   \n",
       "\n",
       "                                      text_headlines  \n",
       "0  appaloosa lp reports new stakes in gap dick's ...  \n",
       "1    gap inc stock falls monday underperforms market  \n",
       "2    gap inc stock falls friday underperforms market  \n",
       "3  gap inc stock underperforms thursday when comp...  \n",
       "4  gap inc stock falls wednesday underperforms ma...  "
      ]
     },
     "execution_count": 5,
     "metadata": {},
     "output_type": "execute_result"
    }
   ],
   "source": [
    "gps_data.head()"
   ]
  },
  {
   "cell_type": "code",
   "execution_count": 20,
   "metadata": {},
   "outputs": [],
   "source": [
    "\n",
    "gps_stockprice_topic = gps_data[gps_data[\"text_headlines\"].str.contains(\"underperforms|outperforms|stock market|trading|rises|dow jones\")]\n"
   ]
  },
  {
   "cell_type": "code",
   "execution_count": 21,
   "metadata": {},
   "outputs": [
    {
     "data": {
      "text/plain": [
       "507"
      ]
     },
     "execution_count": 21,
     "metadata": {},
     "output_type": "execute_result"
    }
   ],
   "source": [
    "len(gps_stockprice_topic)"
   ]
  },
  {
   "cell_type": "code",
   "execution_count": 22,
   "metadata": {},
   "outputs": [],
   "source": [
    "\n",
    "gps_sales_topic = gps_data[gps_data[\"text_headlines\"].str.contains(\"sales|sector|store|retail|retailers|competitors\")]"
   ]
  },
  {
   "cell_type": "code",
   "execution_count": 25,
   "metadata": {},
   "outputs": [
    {
     "data": {
      "text/plain": [
       "1153"
      ]
     },
     "execution_count": 25,
     "metadata": {},
     "output_type": "execute_result"
    }
   ],
   "source": [
    "len(gps_sales_topic)"
   ]
  },
  {
   "cell_type": "code",
   "execution_count": 26,
   "metadata": {},
   "outputs": [],
   "source": [
    "gps_performance_topic = gps_data[gps_data[\"text_headlines\"].str.contains(\"eps|earning per share|q1|q2|q3|q4|profit|income\")]\n"
   ]
  },
  {
   "cell_type": "code",
   "execution_count": 27,
   "metadata": {},
   "outputs": [
    {
     "data": {
      "text/html": [
       "<div>\n",
       "<style scoped>\n",
       "    .dataframe tbody tr th:only-of-type {\n",
       "        vertical-align: middle;\n",
       "    }\n",
       "\n",
       "    .dataframe tbody tr th {\n",
       "        vertical-align: top;\n",
       "    }\n",
       "\n",
       "    .dataframe thead th {\n",
       "        text-align: right;\n",
       "    }\n",
       "</style>\n",
       "<table border=\"1\" class=\"dataframe\">\n",
       "  <thead>\n",
       "    <tr style=\"text-align: right;\">\n",
       "      <th></th>\n",
       "      <th>Unnamed: 0</th>\n",
       "      <th>Date</th>\n",
       "      <th>text_headlines</th>\n",
       "    </tr>\n",
       "  </thead>\n",
       "  <tbody>\n",
       "    <tr>\n",
       "      <th>76</th>\n",
       "      <td>76</td>\n",
       "      <td>2021-11-24 06:41:00</td>\n",
       "      <td>gap stock plunges 209percent premarket toward ...</td>\n",
       "    </tr>\n",
       "    <tr>\n",
       "      <th>236</th>\n",
       "      <td>236</td>\n",
       "      <td>2021-05-28 09:56:00</td>\n",
       "      <td>old navy athleta lead gap to surprise profit</td>\n",
       "    </tr>\n",
       "    <tr>\n",
       "      <th>237</th>\n",
       "      <td>237</td>\n",
       "      <td>2021-05-28 07:44:00</td>\n",
       "      <td>gap surprises wall street with quarterly profi...</td>\n",
       "    </tr>\n",
       "    <tr>\n",
       "      <th>508</th>\n",
       "      <td>508</td>\n",
       "      <td>2020-11-15 10:31:00</td>\n",
       "      <td>jerome dodson titan of sustainable investing s...</td>\n",
       "    </tr>\n",
       "    <tr>\n",
       "      <th>517</th>\n",
       "      <td>517</td>\n",
       "      <td>2020-10-06 00:38:00</td>\n",
       "      <td>charting a bullish q4 start  s&amp;p 500 extends r...</td>\n",
       "    </tr>\n",
       "  </tbody>\n",
       "</table>\n",
       "</div>"
      ],
      "text/plain": [
       "     Unnamed: 0                 Date  \\\n",
       "76           76  2021-11-24 06:41:00   \n",
       "236         236  2021-05-28 09:56:00   \n",
       "237         237  2021-05-28 07:44:00   \n",
       "508         508  2020-11-15 10:31:00   \n",
       "517         517  2020-10-06 00:38:00   \n",
       "\n",
       "                                        text_headlines  \n",
       "76   gap stock plunges 209percent premarket toward ...  \n",
       "236       old navy athleta lead gap to surprise profit  \n",
       "237  gap surprises wall street with quarterly profi...  \n",
       "508  jerome dodson titan of sustainable investing s...  \n",
       "517  charting a bullish q4 start  s&p 500 extends r...  "
      ]
     },
     "execution_count": 27,
     "metadata": {},
     "output_type": "execute_result"
    }
   ],
   "source": [
    "gps_performance_topic.head()"
   ]
  },
  {
   "cell_type": "code",
   "execution_count": 28,
   "metadata": {},
   "outputs": [
    {
     "data": {
      "text/plain": [
       "262"
      ]
     },
     "execution_count": 28,
     "metadata": {},
     "output_type": "execute_result"
    }
   ],
   "source": [
    "len(gps_performance_topic)"
   ]
  },
  {
   "cell_type": "code",
   "execution_count": 31,
   "metadata": {},
   "outputs": [],
   "source": [
    "gps_management_topic = gps_data[gps_data[\"text_headlines\"].str.contains(\"ceo|updates|suprise|advisories|sears\")]\n"
   ]
  },
  {
   "cell_type": "code",
   "execution_count": 32,
   "metadata": {},
   "outputs": [
    {
     "data": {
      "text/html": [
       "<div>\n",
       "<style scoped>\n",
       "    .dataframe tbody tr th:only-of-type {\n",
       "        vertical-align: middle;\n",
       "    }\n",
       "\n",
       "    .dataframe tbody tr th {\n",
       "        vertical-align: top;\n",
       "    }\n",
       "\n",
       "    .dataframe thead th {\n",
       "        text-align: right;\n",
       "    }\n",
       "</style>\n",
       "<table border=\"1\" class=\"dataframe\">\n",
       "  <thead>\n",
       "    <tr style=\"text-align: right;\">\n",
       "      <th></th>\n",
       "      <th>Unnamed: 0</th>\n",
       "      <th>Date</th>\n",
       "      <th>text_headlines</th>\n",
       "    </tr>\n",
       "  </thead>\n",
       "  <tbody>\n",
       "    <tr>\n",
       "      <th>202</th>\n",
       "      <td>202</td>\n",
       "      <td>2021-07-08 03:05:00</td>\n",
       "      <td>how to get people to use store credit cards mo...</td>\n",
       "    </tr>\n",
       "    <tr>\n",
       "      <th>362</th>\n",
       "      <td>362</td>\n",
       "      <td>2021-02-09 06:27:00</td>\n",
       "      <td>biden and yellen discuss $19 trillion covid re...</td>\n",
       "    </tr>\n",
       "    <tr>\n",
       "      <th>625</th>\n",
       "      <td>625</td>\n",
       "      <td>2020-03-05 04:30:00</td>\n",
       "      <td>gap chooses old navy leader as new ceo</td>\n",
       "    </tr>\n",
       "    <tr>\n",
       "      <th>659</th>\n",
       "      <td>659</td>\n",
       "      <td>2019-11-09 10:26:00</td>\n",
       "      <td>old navy spinoff thrown into question by the d...</td>\n",
       "    </tr>\n",
       "    <tr>\n",
       "      <th>662</th>\n",
       "      <td>662</td>\n",
       "      <td>2019-11-08 07:45:00</td>\n",
       "      <td>gap ceo departure the latest spot of bad news ...</td>\n",
       "    </tr>\n",
       "    <tr>\n",
       "      <th>...</th>\n",
       "      <td>...</td>\n",
       "      <td>...</td>\n",
       "      <td>...</td>\n",
       "    </tr>\n",
       "    <tr>\n",
       "      <th>2880</th>\n",
       "      <td>2880</td>\n",
       "      <td>2007-01-23 11:14:00</td>\n",
       "      <td>ceo pressler's out at gap inc</td>\n",
       "    </tr>\n",
       "    <tr>\n",
       "      <th>2883</th>\n",
       "      <td>2883</td>\n",
       "      <td>2007-01-22 07:31:00</td>\n",
       "      <td>ti shares rise after results; gap ceo resigns</td>\n",
       "    </tr>\n",
       "    <tr>\n",
       "      <th>2885</th>\n",
       "      <td>2885</td>\n",
       "      <td>2007-01-22 05:28:00</td>\n",
       "      <td>ceo pressler is out at gap inc</td>\n",
       "    </tr>\n",
       "    <tr>\n",
       "      <th>2897</th>\n",
       "      <td>2897</td>\n",
       "      <td>2007-01-04 06:01:00</td>\n",
       "      <td>updates advisories and surprises</td>\n",
       "    </tr>\n",
       "    <tr>\n",
       "      <th>2914</th>\n",
       "      <td>2914</td>\n",
       "      <td>2006-12-06 10:38:00</td>\n",
       "      <td>worst ceo of 2006 goes to ilia lekach of parlux</td>\n",
       "    </tr>\n",
       "  </tbody>\n",
       "</table>\n",
       "<p>120 rows × 3 columns</p>\n",
       "</div>"
      ],
      "text/plain": [
       "      Unnamed: 0                 Date  \\\n",
       "202          202  2021-07-08 03:05:00   \n",
       "362          362  2021-02-09 06:27:00   \n",
       "625          625  2020-03-05 04:30:00   \n",
       "659          659  2019-11-09 10:26:00   \n",
       "662          662  2019-11-08 07:45:00   \n",
       "...          ...                  ...   \n",
       "2880        2880  2007-01-23 11:14:00   \n",
       "2883        2883  2007-01-22 07:31:00   \n",
       "2885        2885  2007-01-22 05:28:00   \n",
       "2897        2897  2007-01-04 06:01:00   \n",
       "2914        2914  2006-12-06 10:38:00   \n",
       "\n",
       "                                         text_headlines  \n",
       "202   how to get people to use store credit cards mo...  \n",
       "362   biden and yellen discuss $19 trillion covid re...  \n",
       "625              gap chooses old navy leader as new ceo  \n",
       "659   old navy spinoff thrown into question by the d...  \n",
       "662   gap ceo departure the latest spot of bad news ...  \n",
       "...                                                 ...  \n",
       "2880                      ceo pressler's out at gap inc  \n",
       "2883      ti shares rise after results; gap ceo resigns  \n",
       "2885                     ceo pressler is out at gap inc  \n",
       "2897                   updates advisories and surprises  \n",
       "2914    worst ceo of 2006 goes to ilia lekach of parlux  \n",
       "\n",
       "[120 rows x 3 columns]"
      ]
     },
     "execution_count": 32,
     "metadata": {},
     "output_type": "execute_result"
    }
   ],
   "source": [
    "gps_management_topic"
   ]
  },
  {
   "cell_type": "code",
   "execution_count": 33,
   "metadata": {},
   "outputs": [
    {
     "data": {
      "text/plain": [
       "120"
      ]
     },
     "execution_count": 33,
     "metadata": {},
     "output_type": "execute_result"
    }
   ],
   "source": [
    "len(gps_management_topic)"
   ]
  },
  {
   "cell_type": "code",
   "execution_count": 34,
   "metadata": {},
   "outputs": [],
   "source": [
    "gps_management_topic.to_csv('management_gps.csv', index=False)\n",
    "gps_stockprice_topic.to_csv('stock_gps.csv', index=False)\n",
    "gps_performance_topic.to_csv('performance_gps.csv', index=False)\n",
    "gps_sales_topic.to_csv('sales_gps.csv', index=False)\n"
   ]
  },
  {
   "cell_type": "code",
   "execution_count": null,
   "metadata": {},
   "outputs": [],
   "source": []
  }
 ],
 "metadata": {
  "interpreter": {
   "hash": "31f2aee4e71d21fbe5cf8b01ff0e069b9275f58929596ceb00d14d90e3e16cd6"
  },
  "kernelspec": {
   "display_name": "Python 3",
   "language": "python",
   "name": "python3"
  },
  "language_info": {
   "codemirror_mode": {
    "name": "ipython",
    "version": 3
   },
   "file_extension": ".py",
   "mimetype": "text/x-python",
   "name": "python",
   "nbconvert_exporter": "python",
   "pygments_lexer": "ipython3",
   "version": "3.8.10"
  }
 },
 "nbformat": 4,
 "nbformat_minor": 4
}
