{
 "cells": [
  {
   "cell_type": "markdown",
   "metadata": {},
   "source": [
    "## TF-IDF"
   ]
  },
  {
   "cell_type": "code",
   "execution_count": 2,
   "metadata": {},
   "outputs": [],
   "source": [
    "import os\n",
    "os.environ['http_proxy'] = 'http://192.41.170.23:3128'\n",
    "os.environ['https_proxy'] = 'http://192.41.170.23:3128'"
   ]
  },
  {
   "cell_type": "code",
   "execution_count": 3,
   "metadata": {},
   "outputs": [],
   "source": [
    "import sys         \n",
    "sys.path.append('/home/pranisaa/working_dir/Text-Summarization')\n",
    "from config import *\n",
    "import pandas as pd\n",
    "from datasets import load_dataset\n",
    "from dataset import Dataset\n",
    "from transformers import T5Tokenizer, BartTokenizer\n",
    "pd.set_option('display.max_colwidth', None)\n",
    "import pickle"
   ]
  },
  {
   "cell_type": "markdown",
   "metadata": {},
   "source": [
    "#### TEST TFIDF"
   ]
  },
  {
   "cell_type": "code",
   "execution_count": 4,
   "metadata": {},
   "outputs": [
    {
     "name": "stdout",
     "output_type": "stream",
     "text": [
      "(3, 5)\n"
     ]
    },
    {
     "name": "stderr",
     "output_type": "stream",
     "text": [
      "/home/pranisaa/thesis/lib/python3.8/site-packages/sklearn/utils/deprecation.py:87: FutureWarning: Function get_feature_names is deprecated; get_feature_names is deprecated in 1.0 and will be removed in 1.2. Please use get_feature_names_out instead.\n",
      "  warnings.warn(msg, category=FutureWarning)\n"
     ]
    },
    {
     "data": {
      "text/html": [
       "<div>\n",
       "<style scoped>\n",
       "    .dataframe tbody tr th:only-of-type {\n",
       "        vertical-align: middle;\n",
       "    }\n",
       "\n",
       "    .dataframe tbody tr th {\n",
       "        vertical-align: top;\n",
       "    }\n",
       "\n",
       "    .dataframe thead th {\n",
       "        text-align: right;\n",
       "    }\n",
       "</style>\n",
       "<table border=\"1\" class=\"dataframe\">\n",
       "  <thead>\n",
       "    <tr style=\"text-align: right;\">\n",
       "      <th></th>\n",
       "      <th>beau</th>\n",
       "      <th>deep</th>\n",
       "      <th>fabby</th>\n",
       "      <th>learning</th>\n",
       "      <th>love</th>\n",
       "    </tr>\n",
       "  </thead>\n",
       "  <tbody>\n",
       "    <tr>\n",
       "      <th>my name is beau</th>\n",
       "      <td>1.0</td>\n",
       "      <td>0.00000</td>\n",
       "      <td>0.0</td>\n",
       "      <td>0.00000</td>\n",
       "      <td>0.00000</td>\n",
       "    </tr>\n",
       "    <tr>\n",
       "      <th>my name is fabby</th>\n",
       "      <td>0.0</td>\n",
       "      <td>0.00000</td>\n",
       "      <td>1.0</td>\n",
       "      <td>0.00000</td>\n",
       "      <td>0.00000</td>\n",
       "    </tr>\n",
       "    <tr>\n",
       "      <th>i love deep learning</th>\n",
       "      <td>0.0</td>\n",
       "      <td>0.57735</td>\n",
       "      <td>0.0</td>\n",
       "      <td>0.57735</td>\n",
       "      <td>0.57735</td>\n",
       "    </tr>\n",
       "  </tbody>\n",
       "</table>\n",
       "</div>"
      ],
      "text/plain": [
       "                      beau     deep  fabby  learning     love\n",
       "my name is beau        1.0  0.00000    0.0   0.00000  0.00000\n",
       "my name is fabby       0.0  0.00000    1.0   0.00000  0.00000\n",
       "i love deep learning   0.0  0.57735    0.0   0.57735  0.57735"
      ]
     },
     "execution_count": 4,
     "metadata": {},
     "output_type": "execute_result"
    }
   ],
   "source": [
    "from sklearn.feature_extraction.text import TfidfVectorizer\n",
    "import pandas as pd\n",
    "text_tfidf = ['my name is beau', 'my name is fabby', 'i love deep learning']\n",
    "tfidf_vectorizer = TfidfVectorizer(stop_words='english', use_idf=True) #use_idf bool, default=True (to highlight by comparison) Enable inverse-document-frequency reweighting\n",
    "x = tfidf_vectorizer.fit_transform(text_tfidf)\n",
    "print(x.toarray().shape)\n",
    "# print(tfidf_vectorizer.get_feature_names().shape)\n",
    "#         tfidfcounts = pd.DataFrame(x.toarray(),index = tfidf_vectorizer.get_feature_names(), columns = [\"tfidf\"])\n",
    "tfidfcounts = pd.DataFrame(x.toarray(),index = text_tfidf,  columns = tfidf_vectorizer.get_feature_names())\n",
    "tfidfcounts"
   ]
  },
  {
   "cell_type": "markdown",
   "metadata": {},
   "source": [
    "### Load dataset"
   ]
  },
  {
   "cell_type": "code",
   "execution_count": 5,
   "metadata": {},
   "outputs": [
    {
     "name": "stderr",
     "output_type": "stream",
     "text": [
      "Using custom data configuration default\n",
      "Reusing dataset xsum (/home/pranisaa/.cache/huggingface/datasets/xsum/default/1.2.0/32c23220eadddb1149b16ed2e9430a05293768cfffbdfd151058697d4c11f934)\n"
     ]
    },
    {
     "data": {
      "application/vnd.jupyter.widget-view+json": {
       "model_id": "9cabbf26205149c8a34137633f85e488",
       "version_major": 2,
       "version_minor": 0
      },
      "text/plain": [
       "  0%|          | 0/3 [00:00<?, ?it/s]"
      ]
     },
     "metadata": {},
     "output_type": "display_data"
    }
   ],
   "source": [
    "# Load dataset\n",
    "data = 'xsum'\n",
    "\n",
    "if data == 'cnn_dailymail':\n",
    "    dataset = load_dataset(data, '3.0.0')\n",
    "    source_text = \"article\"\n",
    "    target_text = \"highlights\"\n",
    "elif data == \"xsum\":\n",
    "    dataset = load_dataset(data)\n",
    "    source_text = \"document\"\n",
    "    target_text = \"summary\"\n",
    "else:\n",
    "    raise ValueError(\"Undefined dataset\")"
   ]
  },
  {
   "cell_type": "code",
   "execution_count": 6,
   "metadata": {},
   "outputs": [
    {
     "data": {
      "text/plain": [
       "DatasetDict({\n",
       "    train: Dataset({\n",
       "        features: ['document', 'summary', 'id'],\n",
       "        num_rows: 204045\n",
       "    })\n",
       "    validation: Dataset({\n",
       "        features: ['document', 'summary', 'id'],\n",
       "        num_rows: 11332\n",
       "    })\n",
       "    test: Dataset({\n",
       "        features: ['document', 'summary', 'id'],\n",
       "        num_rows: 11334\n",
       "    })\n",
       "})"
      ]
     },
     "execution_count": 6,
     "metadata": {},
     "output_type": "execute_result"
    }
   ],
   "source": [
    "dataset"
   ]
  },
  {
   "cell_type": "markdown",
   "metadata": {},
   "source": [
    "### Get dataset"
   ]
  },
  {
   "cell_type": "code",
   "execution_count": 7,
   "metadata": {},
   "outputs": [],
   "source": [
    "pickle_in = open(\"val_len_q1_max512.pickle\",\"rb\")\n",
    "example_dict = pickle.load(pickle_in)\n",
    "q1_id = example_dict['ids']\n",
    "\n",
    "pickle_in = open(\"val_len_q3_max512.pickle\",\"rb\")\n",
    "example_dict = pickle.load(pickle_in)\n",
    "q3_id = example_dict['ids']"
   ]
  },
  {
   "cell_type": "code",
   "execution_count": 8,
   "metadata": {},
   "outputs": [],
   "source": [
    "df_data = {'id': dataset['validation']['id'], 'document': dataset['validation']['document']}"
   ]
  },
  {
   "cell_type": "code",
   "execution_count": 9,
   "metadata": {},
   "outputs": [],
   "source": [
    "val_doc_q1 = {'ids': [], 'document': []}\n",
    "for idx in q1_id:\n",
    "    val_doc_q1['ids'].append(idx)\n",
    "    document = df_data['document'][df_data['id'] == str(idx)]\n",
    "    val_doc_q1['document'].append(document)\n",
    "    \n",
    "val_doc_q3 = {'ids': [], 'document': []}\n",
    "for idx in q3_id:\n",
    "    val_doc_q3['ids'].append(idx)\n",
    "    document = str(df_data['document'][df_data['id'] == str(idx)])\n",
    "    val_doc_q3['document'].append(document)"
   ]
  },
  {
   "cell_type": "code",
   "execution_count": 10,
   "metadata": {},
   "outputs": [
    {
     "name": "stdout",
     "output_type": "stream",
     "text": [
      "100\n",
      "102\n"
     ]
    }
   ],
   "source": [
    "print(len(val_doc_q1['document']))\n",
    "print(len(val_doc_q3['ids']))"
   ]
  },
  {
   "cell_type": "code",
   "execution_count": 18,
   "metadata": {},
   "outputs": [],
   "source": [
    "import gensim\n",
    "from gensim.utils import simple_preprocess\n",
    "from gensim.parsing.preprocessing import STOPWORDS\n",
    "from nltk.stem import WordNetLemmatizer, SnowballStemmer\n",
    "from nltk.stem.porter import *\n",
    "import numpy as np\n",
    "np.random.seed(2018)"
   ]
  },
  {
   "cell_type": "code",
   "execution_count": 19,
   "metadata": {},
   "outputs": [],
   "source": [
    "import nltk"
   ]
  },
  {
   "cell_type": "code",
   "execution_count": 20,
   "metadata": {},
   "outputs": [],
   "source": [
    "# nltk.download('wordnet')"
   ]
  },
  {
   "cell_type": "code",
   "execution_count": 21,
   "metadata": {},
   "outputs": [],
   "source": [
    "def lemmatize_stemming(text):\n",
    "    return stemmer.stem(WordNetLemmatizer().lemmatize(text, pos='v'))\n",
    "def preprocess(text):\n",
    "    result = []\n",
    "    for token in gensim.utils.simple_preprocess(text):\n",
    "        if token not in gensim.parsing.preprocessing.STOPWORDS and len(token) > 3:\n",
    "            result.append(lemmatize_stemming(token))\n",
    "    return result"
   ]
  },
  {
   "cell_type": "code",
   "execution_count": 22,
   "metadata": {},
   "outputs": [
    {
     "ename": "NameError",
     "evalue": "name 'stemmer' is not defined",
     "output_type": "error",
     "traceback": [
      "\u001b[0;31m---------------------------------------------------------------------------\u001b[0m",
      "\u001b[0;31mNameError\u001b[0m                                 Traceback (most recent call last)",
      "Input \u001b[0;32mIn [22]\u001b[0m, in \u001b[0;36m<cell line: 1>\u001b[0;34m()\u001b[0m\n\u001b[0;32m----> 1\u001b[0m processed_docs \u001b[38;5;241m=\u001b[39m \u001b[43mpd\u001b[49m\u001b[38;5;241;43m.\u001b[39;49m\u001b[43mSeries\u001b[49m\u001b[43m(\u001b[49m\u001b[43mval_doc_q1\u001b[49m\u001b[43m[\u001b[49m\u001b[38;5;124;43m'\u001b[39;49m\u001b[38;5;124;43mdocument\u001b[39;49m\u001b[38;5;124;43m'\u001b[39;49m\u001b[43m]\u001b[49m\u001b[43m)\u001b[49m\u001b[38;5;241;43m.\u001b[39;49m\u001b[43mmap\u001b[49m\u001b[43m(\u001b[49m\u001b[43mpreprocess\u001b[49m\u001b[43m)\u001b[49m\n\u001b[1;32m      2\u001b[0m processed_docs[:\u001b[38;5;241m10\u001b[39m]\n",
      "File \u001b[0;32m~/thesis/lib/python3.8/site-packages/pandas/core/series.py:4237\u001b[0m, in \u001b[0;36mSeries.map\u001b[0;34m(self, arg, na_action)\u001b[0m\n\u001b[1;32m   4162\u001b[0m \u001b[38;5;28;01mdef\u001b[39;00m \u001b[38;5;21mmap\u001b[39m(\u001b[38;5;28mself\u001b[39m, arg, na_action\u001b[38;5;241m=\u001b[39m\u001b[38;5;28;01mNone\u001b[39;00m) \u001b[38;5;241m-\u001b[39m\u001b[38;5;241m>\u001b[39m Series:\n\u001b[1;32m   4163\u001b[0m     \u001b[38;5;124;03m\"\"\"\u001b[39;00m\n\u001b[1;32m   4164\u001b[0m \u001b[38;5;124;03m    Map values of Series according to an input mapping or function.\u001b[39;00m\n\u001b[1;32m   4165\u001b[0m \n\u001b[0;32m   (...)\u001b[0m\n\u001b[1;32m   4235\u001b[0m \u001b[38;5;124;03m    dtype: object\u001b[39;00m\n\u001b[1;32m   4236\u001b[0m \u001b[38;5;124;03m    \"\"\"\u001b[39;00m\n\u001b[0;32m-> 4237\u001b[0m     new_values \u001b[38;5;241m=\u001b[39m \u001b[38;5;28;43mself\u001b[39;49m\u001b[38;5;241;43m.\u001b[39;49m\u001b[43m_map_values\u001b[49m\u001b[43m(\u001b[49m\u001b[43marg\u001b[49m\u001b[43m,\u001b[49m\u001b[43m \u001b[49m\u001b[43mna_action\u001b[49m\u001b[38;5;241;43m=\u001b[39;49m\u001b[43mna_action\u001b[49m\u001b[43m)\u001b[49m\n\u001b[1;32m   4238\u001b[0m     \u001b[38;5;28;01mreturn\u001b[39;00m \u001b[38;5;28mself\u001b[39m\u001b[38;5;241m.\u001b[39m_constructor(new_values, index\u001b[38;5;241m=\u001b[39m\u001b[38;5;28mself\u001b[39m\u001b[38;5;241m.\u001b[39mindex)\u001b[38;5;241m.\u001b[39m__finalize__(\n\u001b[1;32m   4239\u001b[0m         \u001b[38;5;28mself\u001b[39m, method\u001b[38;5;241m=\u001b[39m\u001b[38;5;124m\"\u001b[39m\u001b[38;5;124mmap\u001b[39m\u001b[38;5;124m\"\u001b[39m\n\u001b[1;32m   4240\u001b[0m     )\n",
      "File \u001b[0;32m~/thesis/lib/python3.8/site-packages/pandas/core/base.py:880\u001b[0m, in \u001b[0;36mIndexOpsMixin._map_values\u001b[0;34m(self, mapper, na_action)\u001b[0m\n\u001b[1;32m    877\u001b[0m         \u001b[38;5;28;01mraise\u001b[39;00m \u001b[38;5;167;01mValueError\u001b[39;00m(msg)\n\u001b[1;32m    879\u001b[0m \u001b[38;5;66;03m# mapper is a function\u001b[39;00m\n\u001b[0;32m--> 880\u001b[0m new_values \u001b[38;5;241m=\u001b[39m \u001b[43mmap_f\u001b[49m\u001b[43m(\u001b[49m\u001b[43mvalues\u001b[49m\u001b[43m,\u001b[49m\u001b[43m \u001b[49m\u001b[43mmapper\u001b[49m\u001b[43m)\u001b[49m\n\u001b[1;32m    882\u001b[0m \u001b[38;5;28;01mreturn\u001b[39;00m new_values\n",
      "File \u001b[0;32m~/thesis/lib/python3.8/site-packages/pandas/_libs/lib.pyx:2870\u001b[0m, in \u001b[0;36mpandas._libs.lib.map_infer\u001b[0;34m()\u001b[0m\n",
      "Input \u001b[0;32mIn [21]\u001b[0m, in \u001b[0;36mpreprocess\u001b[0;34m(text)\u001b[0m\n\u001b[1;32m      5\u001b[0m \u001b[38;5;28;01mfor\u001b[39;00m token \u001b[38;5;129;01min\u001b[39;00m gensim\u001b[38;5;241m.\u001b[39mutils\u001b[38;5;241m.\u001b[39msimple_preprocess(text):\n\u001b[1;32m      6\u001b[0m     \u001b[38;5;28;01mif\u001b[39;00m token \u001b[38;5;129;01mnot\u001b[39;00m \u001b[38;5;129;01min\u001b[39;00m gensim\u001b[38;5;241m.\u001b[39mparsing\u001b[38;5;241m.\u001b[39mpreprocessing\u001b[38;5;241m.\u001b[39mSTOPWORDS \u001b[38;5;129;01mand\u001b[39;00m \u001b[38;5;28mlen\u001b[39m(token) \u001b[38;5;241m>\u001b[39m \u001b[38;5;241m3\u001b[39m:\n\u001b[0;32m----> 7\u001b[0m         result\u001b[38;5;241m.\u001b[39mappend(\u001b[43mlemmatize_stemming\u001b[49m\u001b[43m(\u001b[49m\u001b[43mtoken\u001b[49m\u001b[43m)\u001b[49m)\n\u001b[1;32m      8\u001b[0m \u001b[38;5;28;01mreturn\u001b[39;00m result\n",
      "Input \u001b[0;32mIn [21]\u001b[0m, in \u001b[0;36mlemmatize_stemming\u001b[0;34m(text)\u001b[0m\n\u001b[1;32m      1\u001b[0m \u001b[38;5;28;01mdef\u001b[39;00m \u001b[38;5;21mlemmatize_stemming\u001b[39m(text):\n\u001b[0;32m----> 2\u001b[0m     \u001b[38;5;28;01mreturn\u001b[39;00m \u001b[43mstemmer\u001b[49m\u001b[38;5;241m.\u001b[39mstem(WordNetLemmatizer()\u001b[38;5;241m.\u001b[39mlemmatize(text, pos\u001b[38;5;241m=\u001b[39m\u001b[38;5;124m'\u001b[39m\u001b[38;5;124mv\u001b[39m\u001b[38;5;124m'\u001b[39m))\n",
      "\u001b[0;31mNameError\u001b[0m: name 'stemmer' is not defined"
     ]
    }
   ],
   "source": [
    "processed_docs = pd.Series(val_doc_q1['document']).map(preprocess)\n",
    "processed_docs[:10]"
   ]
  },
  {
   "cell_type": "code",
   "execution_count": null,
   "metadata": {},
   "outputs": [],
   "source": []
  },
  {
   "cell_type": "code",
   "execution_count": null,
   "metadata": {},
   "outputs": [],
   "source": []
  },
  {
   "cell_type": "code",
   "execution_count": null,
   "metadata": {},
   "outputs": [],
   "source": []
  },
  {
   "cell_type": "code",
   "execution_count": null,
   "metadata": {},
   "outputs": [],
   "source": []
  },
  {
   "cell_type": "code",
   "execution_count": 38,
   "metadata": {},
   "outputs": [],
   "source": [
    "from gensim import corpora, models\n",
    "from sklearn.decomposition import LatentDirichletAllocation as LDA\n",
    "# from bs4 import BeautifulSoup\n",
    "from sklearn.preprocessing import MinMaxScaler\n",
    "import pandas as pd\n",
    "import numpy as np\n",
    "import pandas as pd \n",
    "from sklearn.feature_extraction.text import TfidfVectorizer, TfidfTransformer\n",
    "from datetime import datetime\n",
    "from sklearn.feature_extraction.text import CountVectorizer\n",
    "from sklearn.manifold import TSNE\n",
    "import matplotlib.pyplot as plt"
   ]
  },
  {
   "cell_type": "code",
   "execution_count": 39,
   "metadata": {},
   "outputs": [
    {
     "name": "stderr",
     "output_type": "stream",
     "text": [
      "[nltk_data] Downloading package stopwords to\n",
      "[nltk_data]     /home/pranisaa/nltk_data...\n",
      "[nltk_data]   Package stopwords is already up-to-date!\n"
     ]
    },
    {
     "data": {
      "text/plain": [
       "True"
      ]
     },
     "execution_count": 39,
     "metadata": {},
     "output_type": "execute_result"
    }
   ],
   "source": [
    "from nltk.corpus import stopwords\n",
    "nltk.download('stopwords')\n",
    "  "
   ]
  },
  {
   "cell_type": "code",
   "execution_count": 40,
   "metadata": {},
   "outputs": [
    {
     "data": {
      "text/plain": [
       "['2008',\n",
       " '2014',\n",
       " '37',\n",
       " '42',\n",
       " '44',\n",
       " '50',\n",
       " 'allegedly',\n",
       " 'appearing',\n",
       " 'bail',\n",
       " 'bailey',\n",
       " 'bexley',\n",
       " 'bright',\n",
       " 'brothers',\n",
       " 'charge',\n",
       " 'charged',\n",
       " 'charges',\n",
       " 'charity',\n",
       " 'defender',\n",
       " 'denied',\n",
       " 'due',\n",
       " 'earlier',\n",
       " 'efe',\n",
       " 'elder',\n",
       " 'ex',\n",
       " 'foundation',\n",
       " 'four',\n",
       " 'fraudulent',\n",
       " 'greater',\n",
       " 'jointly',\n",
       " 'july',\n",
       " 'kent',\n",
       " 'manchester',\n",
       " 'money',\n",
       " 'mr',\n",
       " 'nigerian',\n",
       " 'offence',\n",
       " 'offences',\n",
       " 'old',\n",
       " 'place',\n",
       " 'raise',\n",
       " 'reading',\n",
       " 'relates',\n",
       " 'relating',\n",
       " 'released',\n",
       " 'sam',\n",
       " 'sodje',\n",
       " 'sport',\n",
       " 'sports',\n",
       " 'stand',\n",
       " 'stephen',\n",
       " 'took',\n",
       " 'trading',\n",
       " 'trial']"
      ]
     },
     "execution_count": 40,
     "metadata": {},
     "output_type": "execute_result"
    }
   ],
   "source": [
    "count_vect = CountVectorizer(stop_words=stopwords.words('english'), lowercase=True)\n",
    "x_counts = count_vect.fit_transform(val_doc_q1['document'])\n",
    "x_counts.todense()\n",
    "count_vect.get_feature_names()\n"
   ]
  },
  {
   "cell_type": "code",
   "execution_count": 48,
   "metadata": {},
   "outputs": [
    {
     "data": {
      "text/plain": [
       "array([[0.92718735, 0.07281265],\n",
       "       [0.92718735, 0.07281265],\n",
       "       [0.92718735, 0.07281265],\n",
       "       [0.92718735, 0.07281265],\n",
       "       [0.92718735, 0.07281265],\n",
       "       [0.92718735, 0.07281265],\n",
       "       [0.92718735, 0.07281265],\n",
       "       [0.92718735, 0.07281265],\n",
       "       [0.92718735, 0.07281265],\n",
       "       [0.92718735, 0.07281265],\n",
       "       [0.92718735, 0.07281265],\n",
       "       [0.92718735, 0.07281265],\n",
       "       [0.92718735, 0.07281265],\n",
       "       [0.92718735, 0.07281265],\n",
       "       [0.92718735, 0.07281265],\n",
       "       [0.92718735, 0.07281265],\n",
       "       [0.92718735, 0.07281265],\n",
       "       [0.92718735, 0.07281265],\n",
       "       [0.92718735, 0.07281265],\n",
       "       [0.92718735, 0.07281265],\n",
       "       [0.92718735, 0.07281265],\n",
       "       [0.92718735, 0.07281265],\n",
       "       [0.92718735, 0.07281265],\n",
       "       [0.92718735, 0.07281265],\n",
       "       [0.92718735, 0.07281265],\n",
       "       [0.92718735, 0.07281265],\n",
       "       [0.92718735, 0.07281265],\n",
       "       [0.92718735, 0.07281265],\n",
       "       [0.92718735, 0.07281265],\n",
       "       [0.92718735, 0.07281265],\n",
       "       [0.92718735, 0.07281265],\n",
       "       [0.92718735, 0.07281265],\n",
       "       [0.92718735, 0.07281265],\n",
       "       [0.92718735, 0.07281265],\n",
       "       [0.92718735, 0.07281265],\n",
       "       [0.92718735, 0.07281265],\n",
       "       [0.92718735, 0.07281265],\n",
       "       [0.92718735, 0.07281265],\n",
       "       [0.92718735, 0.07281265],\n",
       "       [0.92718735, 0.07281265],\n",
       "       [0.92718735, 0.07281265],\n",
       "       [0.92718735, 0.07281265],\n",
       "       [0.92718735, 0.07281265],\n",
       "       [0.92718735, 0.07281265],\n",
       "       [0.92718735, 0.07281265],\n",
       "       [0.92718735, 0.07281265],\n",
       "       [0.92718735, 0.07281265],\n",
       "       [0.92718735, 0.07281265],\n",
       "       [0.92718735, 0.07281265],\n",
       "       [0.92718735, 0.07281265],\n",
       "       [0.92718735, 0.07281265],\n",
       "       [0.92718735, 0.07281265],\n",
       "       [0.92718735, 0.07281265],\n",
       "       [0.92718735, 0.07281265],\n",
       "       [0.92718735, 0.07281265],\n",
       "       [0.92718735, 0.07281265],\n",
       "       [0.92718735, 0.07281265],\n",
       "       [0.92718735, 0.07281265],\n",
       "       [0.92718735, 0.07281265],\n",
       "       [0.92718735, 0.07281265],\n",
       "       [0.92718735, 0.07281265],\n",
       "       [0.92718735, 0.07281265],\n",
       "       [0.92718735, 0.07281265],\n",
       "       [0.92718735, 0.07281265],\n",
       "       [0.92718735, 0.07281265],\n",
       "       [0.92718735, 0.07281265],\n",
       "       [0.92718735, 0.07281265],\n",
       "       [0.92718735, 0.07281265],\n",
       "       [0.92718735, 0.07281265],\n",
       "       [0.92718735, 0.07281265],\n",
       "       [0.92718735, 0.07281265],\n",
       "       [0.92718735, 0.07281265],\n",
       "       [0.92718735, 0.07281265],\n",
       "       [0.92718735, 0.07281265],\n",
       "       [0.92718735, 0.07281265],\n",
       "       [0.92718735, 0.07281265],\n",
       "       [0.92718735, 0.07281265],\n",
       "       [0.92718735, 0.07281265],\n",
       "       [0.92718735, 0.07281265],\n",
       "       [0.92718735, 0.07281265],\n",
       "       [0.92718735, 0.07281265],\n",
       "       [0.92718735, 0.07281265],\n",
       "       [0.92718735, 0.07281265],\n",
       "       [0.92718735, 0.07281265],\n",
       "       [0.92718735, 0.07281265],\n",
       "       [0.92718735, 0.07281265],\n",
       "       [0.92718735, 0.07281265],\n",
       "       [0.92718735, 0.07281265],\n",
       "       [0.92718735, 0.07281265],\n",
       "       [0.92718735, 0.07281265],\n",
       "       [0.92718735, 0.07281265],\n",
       "       [0.92718735, 0.07281265],\n",
       "       [0.92718735, 0.07281265],\n",
       "       [0.92718735, 0.07281265],\n",
       "       [0.92718735, 0.07281265],\n",
       "       [0.92718735, 0.07281265],\n",
       "       [0.92718735, 0.07281265],\n",
       "       [0.92718735, 0.07281265],\n",
       "       [0.92718735, 0.07281265],\n",
       "       [0.92718735, 0.07281265]])"
      ]
     },
     "execution_count": 48,
     "metadata": {},
     "output_type": "execute_result"
    }
   ],
   "source": [
    "tfidf_transformer = TfidfTransformer()\n",
    "x_tfidf = tfidf_transformer.fit_transform(x_counts)\n",
    "dimension = 2\n",
    "lda = LDA(n_components = dimension)\n",
    "lda_array = lda.fit_transform(x_tfidf)\n",
    "lda_array\n"
   ]
  },
  {
   "cell_type": "code",
   "execution_count": 50,
   "metadata": {},
   "outputs": [
    {
     "data": {
      "text/plain": [
       "[['sodje',\n",
       "  'bright',\n",
       "  'stephen',\n",
       "  'denied',\n",
       "  'efe',\n",
       "  'sam',\n",
       "  'jointly',\n",
       "  'foundation',\n",
       "  'reading',\n",
       "  '2014'],\n",
       " ['efe',\n",
       "  'denied',\n",
       "  'stephen',\n",
       "  'allegedly',\n",
       "  'bright',\n",
       "  'sodje',\n",
       "  'due',\n",
       "  'released',\n",
       "  'charges',\n",
       "  'fraudulent']]"
      ]
     },
     "execution_count": 50,
     "metadata": {},
     "output_type": "execute_result"
    }
   ],
   "source": [
    "components = [lda.components_[i] for i in range(len(lda.components_))]\n",
    "features = count_vect.get_feature_names()\n",
    "important_words = [sorted(features, key = lambda x: components[j][features.index(x)], reverse = True)[:10] for j in range(len(components))]\n",
    "important_words"
   ]
  },
  {
   "cell_type": "code",
   "execution_count": 45,
   "metadata": {},
   "outputs": [],
   "source": [
    "tf_vectorizer = TfidfVectorizer(stop_words='english', max_features=500)\n",
    "gps_news_matrix = tf_vectorizer.fit_transform(val_doc_q1['document'])\n",
    "lda = LatentDirichletAllocation(n_components=5, learning_method='online', random_state=0, verbose=0, n_jobs = -1)\n",
    "lda_model = lda.fit(gps_news_matrix)\n",
    "lda_matrix = lda_model.transform(gps_news_matrix)\n",
    "# lda_matrix"
   ]
  },
  {
   "cell_type": "code",
   "execution_count": 211,
   "metadata": {},
   "outputs": [
    {
     "name": "stdout",
     "output_type": "stream",
     "text": [
      "Topics found via LDA:\n",
      "\n",
      "Topic #0:\n",
      "efe charged sodje bright 37 2008 charity bexley defender denied elder took sports stephen allegedly reading charge stand raise bail\n",
      "\n",
      "Topic #1:\n",
      "efe denied sodje bright stephen reading bailey nigerian 2008 money allegedly charged bexley relating brothers 37 stand fraudulent kent charge\n",
      "\n",
      "Topic #2:\n",
      "denied sodje ex bail stephen bright bailey efe reading brothers relates offence sam old charge 2008 sports relating allegedly greater\n",
      "\n",
      "Topic #3:\n",
      "denied stephen bright efe sodje charge allegedly 2014 bail bexley jointly released place raise foundation charity 42 relating 37 mr\n",
      "\n",
      "Topic #4:\n",
      "denied sodje bright efe stephen old nigerian offences foundation 44 place sam took sport kent ex mr bexley offence brothers\n"
     ]
    },
    {
     "name": "stderr",
     "output_type": "stream",
     "text": [
      "/home/pranisaa/thesis/lib/python3.8/site-packages/sklearn/utils/deprecation.py:87: FutureWarning: Function get_feature_names is deprecated; get_feature_names is deprecated in 1.0 and will be removed in 1.2. Please use get_feature_names_out instead.\n",
      "  warnings.warn(msg, category=FutureWarning)\n"
     ]
    }
   ],
   "source": [
    "def print_topics(model, count_vectorizer, n_top_words):\n",
    "    words = tf_vectorizer.get_feature_names()\n",
    "    for topic_idx, topic in enumerate(model.components_):\n",
    "      \n",
    "        print(\"\\nTopic #%d:\" % topic_idx )\n",
    "        print(\" \".join([words[i]\n",
    "                        for i in topic.argsort()[:-n_top_words - 1:-1]]))\n",
    "# Print the topics found by the LDA model\n",
    "print(\"Topics found via LDA:\")\n",
    "print_topics(lda_model, gps_news_matrix,20)"
   ]
  },
  {
   "cell_type": "code",
   "execution_count": 205,
   "metadata": {},
   "outputs": [],
   "source": [
    "# print_topics(lda_model, gps_news_matrix, 15)"
   ]
  },
  {
   "cell_type": "code",
   "execution_count": 209,
   "metadata": {},
   "outputs": [
    {
     "name": "stderr",
     "output_type": "stream",
     "text": [
      "/home/pranisaa/thesis/lib/python3.8/site-packages/sklearn/manifold/_t_sne.py:780: FutureWarning: The default initialization in TSNE will change from 'random' to 'pca' in 1.2.\n",
      "  warnings.warn(\n"
     ]
    },
    {
     "name": "stdout",
     "output_type": "stream",
     "text": [
      "[t-SNE] Computing 99 nearest neighbors...\n",
      "[t-SNE] Indexed 100 samples in 0.000s...\n",
      "[t-SNE] Computed neighbors for 100 samples in 0.008s...\n",
      "[t-SNE] Computed conditional probabilities for sample 100 / 100\n",
      "[t-SNE] Mean sigma: 0.000000\n",
      "[t-SNE] KL divergence after 250 iterations with early exaggeration: 37.785118\n",
      "[t-SNE] KL divergence after 400 iterations: 0.000002\n"
     ]
    },
    {
     "data": {
      "image/png": "[encoded data removed]",
      "text/plain": [
       "<Figure size 1080x720 with 1 Axes>"
      ]
     },
     "metadata": {
      "needs_background": "light"
     },
     "output_type": "display_data"
    }
   ],
   "source": [
    "from sklearn.manifold import TSNE\n",
    "model = TSNE(n_components=2, perplexity=50, learning_rate=100, \n",
    "                        n_iter=1000, verbose=1, random_state=0, angle=0.75)\n",
    "tsne_features = model.fit_transform(lda_matrix)\n",
    "df = pd.DataFrame(tsne_features)\n",
    "df['topic'] = lda_matrix.argmax(axis=1)\n",
    "df.columns = ['TSNE1', 'TSNE2', 'topic']\n",
    "import seaborn as sns\n",
    "plt.figure(figsize=(15, 10))\n",
    "plt.title('T-SNE plot of different headlines ( headlines are clustered among their topics)')\n",
    "ax = sns.scatterplot(x = 'TSNE1', y = 'TSNE2', hue = 'topic', data = df, legend = 'full')\n",
    "plt.show()"
   ]
  },
  {
   "cell_type": "code",
   "execution_count": 210,
   "metadata": {},
   "outputs": [
    {
     "data": {
      "text/plain": [
       "0     4\n",
       "1     4\n",
       "2     4\n",
       "3     4\n",
       "4     4\n",
       "     ..\n",
       "95    4\n",
       "96    4\n",
       "97    4\n",
       "98    4\n",
       "99    4\n",
       "Name: topic, Length: 100, dtype: int64"
      ]
     },
     "execution_count": 210,
     "metadata": {},
     "output_type": "execute_result"
    }
   ],
   "source": [
    "df['topic']"
   ]
  },
  {
   "cell_type": "code",
   "execution_count": null,
   "metadata": {},
   "outputs": [],
   "source": []
  }
 ],
 "metadata": {
  "kernelspec": {
   "display_name": "thesis",
   "language": "python",
   "name": "thesis"
  },
  "language_info": {
   "codemirror_mode": {
    "name": "ipython",
    "version": 3
   },
   "file_extension": ".py",
   "mimetype": "text/x-python",
   "name": "python",
   "nbconvert_exporter": "python",
   "pygments_lexer": "ipython3",
   "version": "3.8.10"
  }
 },
 "nbformat": 4,
 "nbformat_minor": 4
}
