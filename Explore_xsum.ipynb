{
 "cells": [
  {
   "cell_type": "markdown",
   "metadata": {},
   "source": [
    "### Explore Xsum"
   ]
  },
  {
   "cell_type": "code",
   "execution_count": 2,
   "metadata": {},
   "outputs": [],
   "source": [
    "import os\n",
    "os.environ['http_proxy'] = 'http://192.41.170.23:3128'\n",
    "os.environ['https_proxy'] = 'http://192.41.170.23:3128'"
   ]
  },
  {
   "cell_type": "code",
   "execution_count": 3,
   "metadata": {},
   "outputs": [],
   "source": [
    "import pandas as pd\n",
    "import numpy as np\n",
    "from datasets import load_dataset\n",
    "from dataset import Dataset\n",
    "from torch.utils.data import DataLoader\n",
    "from transformers import T5Tokenizer, T5ForConditionalGeneration, BartTokenizer, BartForConditionalGeneration, T5Config,BartConfig\n",
    "import pickle\n",
    "import torch\n",
    "import torch.nn as nn\n",
    "import matplotlib.pyplot as plt\n",
    "pd.set_option('display.max_colwidth', None)"
   ]
  },
  {
   "cell_type": "code",
   "execution_count": 7,
   "metadata": {},
   "outputs": [],
   "source": [
    "model = \"t5-small\" #\"bart-base\"\n",
    "dataset = \"xsum\"\n",
    "path = f\"{model}_{dataset}_nomask/outputs_{model}_{dataset}/model_files/\""
   ]
  },
  {
   "cell_type": "code",
   "execution_count": 8,
   "metadata": {},
   "outputs": [
    {
     "name": "stderr",
     "output_type": "stream",
     "text": [
      "Using custom data configuration default\n",
      "Reusing dataset xsum (/home/pranisaa/.cache/huggingface/datasets/xsum/default/1.2.0/32c23220eadddb1149b16ed2e9430a05293768cfffbdfd151058697d4c11f934)\n"
     ]
    },
    {
     "data": {
      "application/vnd.jupyter.widget-view+json": {
       "model_id": "7bf0b571c9094b7a99976e5863c18cc8",
       "version_major": 2,
       "version_minor": 0
      },
      "text/plain": [
       "  0%|          | 0/3 [00:00<?, ?it/s]"
      ]
     },
     "metadata": {},
     "output_type": "display_data"
    },
    {
     "name": "stdout",
     "output_type": "stream",
     "text": [
      "Total training set len:  11332\n",
      "Final data top q1 set len:  204045\n",
      "Final data top q3 set len:  11332\n"
     ]
    }
   ],
   "source": [
    "# Load dataset\n",
    "data = 'xsum'\n",
    "model = \"t5-small\" #\"bart-base\"\n",
    "if data == 'cnn_dailymail':\n",
    "    dataset = load_dataset(data, '3.0.0')\n",
    "    source_text = \"article\"\n",
    "    target_text = \"highlights\"\n",
    "elif data == \"xsum\":\n",
    "    dataset = load_dataset(data)\n",
    "    source_text = \"document\"\n",
    "    target_text = \"summary\"\n",
    "else:\n",
    "    raise ValueError(\"Undefined dataset\")\n",
    "    \n",
    "model_params = {\n",
    "    \"MODEL\": model,  # model_type: t5-base/t5-large\n",
    "    \"BATCH_SIZE\": 1024,  # training batch size\n",
    "    \"MAX_SOURCE_TEXT_LENGTH\": 512,  # max length of source text\n",
    "    \"MAX_TARGET_TEXT_LENGTH\": 36,  # max length of target text\n",
    "    \"SEED\": 42,  # set seed for reproducibility\n",
    "}\n",
    "\n",
    "val_dataset = dataset[\"validation\"]\n",
    "train_dataset = dataset[\"train\"]\n",
    "test_dataset = dataset[\"test\"]\n",
    "\n",
    "print(\"Total training set len: \", len(val_dataset))\n",
    "\n",
    "if \"bart\" in model:\n",
    "    tokenizer = BartTokenizer.from_pretrained(path)\n",
    "elif \"t5\" in model:\n",
    "    tokenizer = T5Tokenizer.from_pretrained(path)# just because our Dataset requires it\n",
    "else:\n",
    "    pass\n",
    "\n",
    "train_set = Dataset(\n",
    "    train_dataset,\n",
    "    tokenizer,\n",
    "    model_params[\"MODEL\"],\n",
    "    model_params[\"MAX_SOURCE_TEXT_LENGTH\"],\n",
    "    model_params[\"MAX_TARGET_TEXT_LENGTH\"],\n",
    "    source_text,\n",
    "    target_text,\n",
    ")\n",
    "\n",
    "val_set = Dataset(\n",
    "    val_dataset,\n",
    "    tokenizer,\n",
    "    model_params[\"MODEL\"],\n",
    "    model_params[\"MAX_SOURCE_TEXT_LENGTH\"],\n",
    "    model_params[\"MAX_TARGET_TEXT_LENGTH\"],\n",
    "    source_text,\n",
    "    target_text,\n",
    ")\n",
    "\n",
    "test_set = Dataset(\n",
    "    test_dataset,\n",
    "    tokenizer,\n",
    "    model_params[\"MODEL\"],\n",
    "    model_params[\"MAX_SOURCE_TEXT_LENGTH\"],\n",
    "    model_params[\"MAX_TARGET_TEXT_LENGTH\"],\n",
    "    source_text,\n",
    "    target_text,\n",
    ")\n",
    "print(\"Final data top q1 set len: \", len(train_set))\n",
    "print(\"Final data top q3 set len: \", len(val_set))"
   ]
  },
  {
   "cell_type": "code",
   "execution_count": 9,
   "metadata": {},
   "outputs": [],
   "source": [
    "params = {\n",
    "    \"batch_size\": model_params[\"BATCH_SIZE\"],\n",
    "    \"shuffle\": False,\n",
    "    \"num_workers\": 0,\n",
    "}\n",
    "train_loader = DataLoader(train_set, **params)\n",
    "val_loader = DataLoader(val_set, **params)\n",
    "test_loader = DataLoader(test_set, **params)"
   ]
  },
  {
   "cell_type": "code",
   "execution_count": 11,
   "metadata": {},
   "outputs": [],
   "source": [
    "train_len = []\n",
    "for _, data in enumerate(train_loader, 0):\n",
    "    print(_,\"/\",len(train_loader))\n",
    "    len_check = data[\"source_len\"]\n",
    "    train_len.extend(len_check.tolist())"
   ]
  },
  {
   "cell_type": "code",
   "execution_count": 26,
   "metadata": {},
   "outputs": [],
   "source": [
    "import pickle\n",
    "\n",
    "# To write\n",
    "# with open(\"train_len\", \"wb\") as fp:   #Pickling\n",
    "#     pickle.dump(train_len, fp)\n",
    "    \n",
    "with open('train_len', 'rb') as handle:\n",
    "    train_len = pickle.load(handle)"
   ]
  },
  {
   "cell_type": "code",
   "execution_count": 17,
   "metadata": {},
   "outputs": [
    {
     "data": {
      "text/plain": [
       "Text(0.5, 1.0, 'Histogram of source lengths')"
      ]
     },
     "execution_count": 17,
     "metadata": {},
     "output_type": "execute_result"
    },
    {
     "data": {
      "image/png": "[encoded data removed]",
      "text/plain": [
       "<Figure size 432x288 with 1 Axes>"
      ]
     },
     "metadata": {
      "needs_background": "light"
     },
     "output_type": "display_data"
    }
   ],
   "source": [
    "# matplotlib histogram\n",
    "plt.hist(train_len, edgecolor = 'black',\n",
    "         bins = 500)\n",
    "plt.xlim([0,3000])\n",
    "plt.title(f'Histogram of source lengths')"
   ]
  },
  {
   "cell_type": "code",
   "execution_count": 107,
   "metadata": {},
   "outputs": [
    {
     "name": "stdout",
     "output_type": "stream",
     "text": [
      "0.6158641476144968\n"
     ]
    }
   ],
   "source": [
    "# train_len = np.array(train_len)\n",
    "# print(len(train_len[train_len<512])/len(train_len))"
   ]
  },
  {
   "cell_type": "code",
   "execution_count": 91,
   "metadata": {},
   "outputs": [
    {
     "name": "stdout",
     "output_type": "stream",
     "text": [
      "0 / 12\n",
      "1 / 12\n",
      "2 / 12\n",
      "3 / 12\n",
      "4 / 12\n",
      "5 / 12\n",
      "6 / 12\n",
      "7 / 12\n",
      "8 / 12\n",
      "9 / 12\n",
      "10 / 12\n",
      "11 / 12\n"
     ]
    }
   ],
   "source": [
    "val_len = []\n",
    "for _, data in enumerate(val_loader, 0):\n",
    "    print(_,\"/\",len(val_loader))\n",
    "    len_check = data[\"source_len\"]\n",
    "    val_len.extend(len_check.tolist())"
   ]
  },
  {
   "cell_type": "code",
   "execution_count": 25,
   "metadata": {},
   "outputs": [],
   "source": [
    "import pickle\n",
    "\n",
    "# To WRITE\n",
    "# with open(\"val_len\", \"wb\") as fp:   #Pickling\n",
    "#     pickle.dump(val_len, fp)\n",
    "\n",
    "# To READ\n",
    "with open('val_len', 'rb') as handle:\n",
    "    val_len = pickle.load(handle)\n"
   ]
  },
  {
   "cell_type": "code",
   "execution_count": 19,
   "metadata": {},
   "outputs": [
    {
     "name": "stdout",
     "output_type": "stream",
     "text": [
      "7730\n",
      "3\n"
     ]
    },
    {
     "data": {
      "image/png": "[encoded data removed]",
      "text/plain": [
       "<Figure size 432x288 with 1 Axes>"
      ]
     },
     "metadata": {
      "needs_background": "light"
     },
     "output_type": "display_data"
    }
   ],
   "source": [
    "plt.hist(val_len, edgecolor = 'black',\n",
    "         bins = 300)\n",
    "\n",
    "plt.title(f'Histogram of source lengths')\n",
    "plt.xlim([0,3000])\n",
    "print(max(val_len))\n",
    "print(min(val_len))"
   ]
  },
  {
   "cell_type": "code",
   "execution_count": 87,
   "metadata": {},
   "outputs": [
    {
     "name": "stdout",
     "output_type": "stream",
     "text": [
      "0 / 12\n",
      "1 / 12\n",
      "2 / 12\n",
      "3 / 12\n",
      "4 / 12\n",
      "5 / 12\n",
      "6 / 12\n",
      "7 / 12\n",
      "8 / 12\n",
      "9 / 12\n",
      "10 / 12\n",
      "11 / 12\n"
     ]
    }
   ],
   "source": [
    "test_len = []\n",
    "for _, data in enumerate(test_loader, 0):\n",
    "    print(_,\"/\",len(test_loader))\n",
    "    len_check = data[\"source_len\"]\n",
    "    test_len.extend(len_check.tolist())"
   ]
  },
  {
   "cell_type": "code",
   "execution_count": 24,
   "metadata": {},
   "outputs": [],
   "source": [
    "# To WRITE\n",
    "# with open(\"test_len\", \"wb\") as fp:   #Pickling\n",
    "#     pickle.dump(test_len, fp)\n",
    "\n",
    "# To READ\n",
    "with open('test_len', 'rb') as handle:\n",
    "    test_len = pickle.load(handle)"
   ]
  },
  {
   "cell_type": "code",
   "execution_count": 22,
   "metadata": {},
   "outputs": [
    {
     "name": "stdout",
     "output_type": "stream",
     "text": [
      "15861\n",
      "3\n"
     ]
    },
    {
     "data": {
      "image/png": "[encoded data removed]",
      "text/plain": [
       "<Figure size 432x288 with 1 Axes>"
      ]
     },
     "metadata": {
      "needs_background": "light"
     },
     "output_type": "display_data"
    }
   ],
   "source": [
    "plt.hist(test_len, edgecolor = 'black',\n",
    "         bins = 300)\n",
    "\n",
    "plt.title(f'Histogram of source lengths')\n",
    "plt.xlim([0,3000])\n",
    "print(max(test_len))\n",
    "print(min(test_len))"
   ]
  },
  {
   "cell_type": "code",
   "execution_count": 28,
   "metadata": {},
   "outputs": [],
   "source": [
    "total = []\n",
    "total.extend(train_len)\n",
    "total.extend(val_len)\n",
    "total.extend(test_len)"
   ]
  },
  {
   "cell_type": "code",
   "execution_count": 29,
   "metadata": {},
   "outputs": [
    {
     "name": "stdout",
     "output_type": "stream",
     "text": [
      "MEAN of TOTAL:  525.6879551499486\n",
      "MEAN of TRAIN:  525.9222328407949\n",
      "MEAN of VAL:  518.6749911754324\n",
      "MEAN of TEST:  528.4820010587613\n",
      "PERCENT OF TRAIN < 512:  0.6158641476144968\n",
      "PERCENT OF VAL < 512:  0.6236321920225909\n",
      "PERCENT OF TEST < 512:  0.6131109934709723\n"
     ]
    }
   ],
   "source": [
    "print(\"MEAN of TOTAL: \", np.mean(total))\n",
    "print(\"MEAN of TRAIN: \", np.mean(train_len))\n",
    "print(\"MEAN of VAL: \", np.mean(val_len))\n",
    "print(\"MEAN of TEST: \", np.mean(test_len))\n",
    "train_len = np.array(train_len)\n",
    "val_len = np.array(val_len)\n",
    "test_len = np.array(test_len)\n",
    "print(\"PERCENT OF TRAIN < 512: \", len(train_len[train_len<512])/len(train_len))\n",
    "print(\"PERCENT OF VAL < 512: \", len(val_len[val_len<512])/len(val_len))\n",
    "print(\"PERCENT OF TEST < 512: \", len(test_len[test_len<512])/len(test_len))"
   ]
  },
  {
   "cell_type": "code",
   "execution_count": null,
   "metadata": {},
   "outputs": [],
   "source": []
  }
 ],
 "metadata": {
  "kernelspec": {
   "display_name": "thesis",
   "language": "python",
   "name": "thesis"
  },
  "language_info": {
   "codemirror_mode": {
    "name": "ipython",
    "version": 3
   },
   "file_extension": ".py",
   "mimetype": "text/x-python",
   "name": "python",
   "nbconvert_exporter": "python",
   "pygments_lexer": "ipython3",
   "version": "3.8.10"
  }
 },
 "nbformat": 4,
 "nbformat_minor": 4
}
