{
 "cells": [
  {
   "cell_type": "code",
   "execution_count": 16,
   "metadata": {},
   "outputs": [],
   "source": [
    "import pandas as pd\n",
    "from config import *\n",
    "train_dataset_ = pd.read_csv(f\"\"\"preprocess/preprocessed_text/{model_params[\"METHOD\"]}/quantity_{model_params[\"SHORTENING QUANTITY\"]}/train_set.csv\"\"\")"
   ]
  },
  {
   "cell_type": "code",
   "execution_count": 17,
   "metadata": {},
   "outputs": [],
   "source": [
    "a = train_dataset_[\"Shortened Document\"][:10]"
   ]
  },
  {
   "cell_type": "code",
   "execution_count": 21,
   "metadata": {},
   "outputs": [],
   "source": [
    "prefix = \"summarize: \"\n",
    "inputs = [prefix + doc for doc in a]"
   ]
  },
  {
   "cell_type": "code",
   "execution_count": 22,
   "metadata": {},
   "outputs": [
    {
     "name": "stdout",
     "output_type": "stream",
     "text": [
      "summarize: Sean Christopher Urbanski, 22, was arrested on murder charges in the death of Richard Collins III in the early hours of Saturday, according to police. Mr Collins, 23, was visiting friends at the College Park campus when he was stabbed in the chest with a knife. He was set to graduate from Bowie State University on Tuesday. Local police asked the FBI to help in the investigation after discovering Mr Urbanski belonged to a Facebook group called \"Alt-Reich Nation\". The online community featured disparaging content about African Americans, women, Jews and others, according to University of Maryland Police Chief David Mitchell. Mr Urbanski, who made his first court appearance on Monday, was denied to remain in custody. Mr Urbanski's lawyer told the judge that \"alcohol and substance abuse may have played a significant role in all of this\". Police said Mr Collins was with two friends near a bus stop on campus at around 03:00 local time (07:00 GMT). Witnesses told the police they heard Mr Urbanski screaming before he approached Mr Collins and his friends. The suspect allegedly told the group: \"Step left, step left if you know what's best for you.\" Mr Collins said \"no\" before Mr Urbanski allegedly stabbed him once in the chest. Two police officers reportedly found Mr Urbanski sitting on a bench about 50ft (15m) from where Mr Collins was stabbed. He was taken into custody and charged with first- and second-degree murder as well as first-degree assault. Dr Artie Lee Travis, Bowie State's vice-president of student affairs, said he hopes the investigation moves forward. \"Hate has no place in America,\" he said. \"Hate has no place on a college campus, where young minds are coming together to try to change the world.\"\n"
     ]
    }
   ],
   "source": [
    "print(inputs[0])"
   ]
  },
  {
   "cell_type": "code",
   "execution_count": 23,
   "metadata": {},
   "outputs": [
    {
     "name": "stdout",
     "output_type": "stream",
     "text": [
      "summarize: Staff and visitors were evacuated from the Metropolitan Remand Centre in Ravenhall after clashes involving hundreds of inmates began at midday. Parts of the prison are in lockdown but the outer perimeter was not breached. Victorian Corrections Commissioner Jan Shuard said it was one of Melbourne's biggest ever prison riots. She said it might be linked to the smoking ban, due to come into effect on Wednesday, but the ban would go ahead regardless. One man, David, told Melbourne's 3AW radio station an inmate had told him earlier in the week that \"all hell was going to break loose\" if their tobacco was removed. Police and emergency services rushed to the Metropolitan Remand Centre in the afternoon afternoon after prisoners breached an inner perimeter. There have been no reports so far of injuries but local media have reported police entering the prison and using a water cannon to subdue inmates. Police secured the prison's perimeter while a police drone and police helicopter surveyed the scene from the air. The riot, which broke out at about 12.30pm local time on Tuesday (02:30 GMT), was not a threat to public safety, said prison authorities. Earlier in the day, she said the state's prison system had been \"very ready\" for the smoking ban. About 84% of Victorian prisoners are smokers, according to government figures, about five times the rate in the general community. The government said it was introducing the ban to improve the health of prison staff and inmates. Ms Shuard said the ban had been 18 months in the making. \"We've had a very long-term project in place to work with both our staff and the prisoners in preparing for [the ban],\" Ms Shuard told the ABC on Tuesday.\n"
     ]
    }
   ],
   "source": [
    "print(inputs[1])"
   ]
  },
  {
   "cell_type": "code",
   "execution_count": 25,
   "metadata": {},
   "outputs": [],
   "source": [
    "import pandas as pd\n",
    "df = pd.read_csv(\"model/t5-small_xsum_luhn_25_50epochs_test/result_eval/predictions_t5-small_epoch0.csv\")"
   ]
  },
  {
   "cell_type": "code",
   "execution_count": 26,
   "metadata": {},
   "outputs": [
    {
     "data": {
      "text/plain": [
       "372.85714285714283"
      ]
     },
     "execution_count": 26,
     "metadata": {},
     "output_type": "execute_result"
    }
   ],
   "source": [
    "df[\"Document length\"].mean()"
   ]
  },
  {
   "cell_type": "code",
   "execution_count": null,
   "metadata": {},
   "outputs": [],
   "source": []
  }
 ],
 "metadata": {
  "kernelspec": {
   "display_name": "thesis",
   "language": "python",
   "name": "thesis"
  },
  "language_info": {
   "codemirror_mode": {
    "name": "ipython",
    "version": 3
   },
   "file_extension": ".py",
   "mimetype": "text/x-python",
   "name": "python",
   "nbconvert_exporter": "python",
   "pygments_lexer": "ipython3",
   "version": "3.8.10"
  }
 },
 "nbformat": 4,
 "nbformat_minor": 4
}
