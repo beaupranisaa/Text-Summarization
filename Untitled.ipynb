{
 "cells": [
  {
   "cell_type": "code",
   "execution_count": 1,
   "metadata": {},
   "outputs": [],
   "source": [
    "import pandas as pd\n",
    "import torch\n",
    "import numpy as np"
   ]
  },
  {
   "cell_type": "code",
   "execution_count": 2,
   "metadata": {},
   "outputs": [],
   "source": [
    "df = pd.read_csv(\"datalength/train_data_length_info.csv\")"
   ]
  },
  {
   "cell_type": "code",
   "execution_count": 3,
   "metadata": {},
   "outputs": [
    {
     "data": {
      "text/html": [
       "<div>\n",
       "<style scoped>\n",
       "    .dataframe tbody tr th:only-of-type {\n",
       "        vertical-align: middle;\n",
       "    }\n",
       "\n",
       "    .dataframe tbody tr th {\n",
       "        vertical-align: top;\n",
       "    }\n",
       "\n",
       "    .dataframe thead th {\n",
       "        text-align: right;\n",
       "    }\n",
       "</style>\n",
       "<table border=\"1\" class=\"dataframe\">\n",
       "  <thead>\n",
       "    <tr style=\"text-align: right;\">\n",
       "      <th></th>\n",
       "      <th>Unnamed: 0</th>\n",
       "      <th>ids</th>\n",
       "      <th>index</th>\n",
       "      <th>length</th>\n",
       "    </tr>\n",
       "  </thead>\n",
       "  <tbody>\n",
       "    <tr>\n",
       "      <th>0</th>\n",
       "      <td>0</td>\n",
       "      <td>35232142</td>\n",
       "      <td>0</td>\n",
       "      <td>541</td>\n",
       "    </tr>\n",
       "    <tr>\n",
       "      <th>1</th>\n",
       "      <td>1</td>\n",
       "      <td>40143035</td>\n",
       "      <td>1</td>\n",
       "      <td>194</td>\n",
       "    </tr>\n",
       "    <tr>\n",
       "      <th>2</th>\n",
       "      <td>2</td>\n",
       "      <td>35951548</td>\n",
       "      <td>2</td>\n",
       "      <td>1214</td>\n",
       "    </tr>\n",
       "    <tr>\n",
       "      <th>3</th>\n",
       "      <td>3</td>\n",
       "      <td>36266422</td>\n",
       "      <td>3</td>\n",
       "      <td>369</td>\n",
       "    </tr>\n",
       "    <tr>\n",
       "      <th>4</th>\n",
       "      <td>4</td>\n",
       "      <td>38826984</td>\n",
       "      <td>4</td>\n",
       "      <td>242</td>\n",
       "    </tr>\n",
       "  </tbody>\n",
       "</table>\n",
       "</div>"
      ],
      "text/plain": [
       "   Unnamed: 0       ids  index  length\n",
       "0           0  35232142      0     541\n",
       "1           1  40143035      1     194\n",
       "2           2  35951548      2    1214\n",
       "3           3  36266422      3     369\n",
       "4           4  38826984      4     242"
      ]
     },
     "execution_count": 3,
     "metadata": {},
     "output_type": "execute_result"
    }
   ],
   "source": [
    "df.head()"
   ]
  },
  {
   "cell_type": "code",
   "execution_count": 5,
   "metadata": {},
   "outputs": [
    {
     "data": {
      "text/plain": [
       "3"
      ]
     },
     "execution_count": 5,
     "metadata": {},
     "output_type": "execute_result"
    }
   ],
   "source": [
    "min(df.length)"
   ]
  },
  {
   "cell_type": "code",
   "execution_count": 7,
   "metadata": {},
   "outputs": [
    {
     "data": {
      "text/plain": [
       "39490"
      ]
     },
     "execution_count": 7,
     "metadata": {},
     "output_type": "execute_result"
    }
   ],
   "source": [
    "max(df.length)"
   ]
  },
  {
   "cell_type": "code",
   "execution_count": 16,
   "metadata": {},
   "outputs": [],
   "source": [
    "import numpy as np\n",
    "a = torch.tensor(np.array([5,6]))"
   ]
  },
  {
   "cell_type": "code",
   "execution_count": 17,
   "metadata": {},
   "outputs": [
    {
     "name": "stdout",
     "output_type": "stream",
     "text": [
      "tensor([5, 6])\n"
     ]
    }
   ],
   "source": [
    "print(a)"
   ]
  },
  {
   "cell_type": "code",
   "execution_count": 19,
   "metadata": {},
   "outputs": [
    {
     "data": {
      "text/plain": [
       "[5, 6]"
      ]
     },
     "execution_count": 19,
     "metadata": {},
     "output_type": "execute_result"
    }
   ],
   "source": [
    "a.tolist()"
   ]
  },
  {
   "cell_type": "code",
   "execution_count": 23,
   "metadata": {},
   "outputs": [],
   "source": [
    "df = pd.read_csv(\"datalength/train_info.csv\")"
   ]
  },
  {
   "cell_type": "code",
   "execution_count": 24,
   "metadata": {},
   "outputs": [
    {
     "data": {
      "text/html": [
       "<div>\n",
       "<style scoped>\n",
       "    .dataframe tbody tr th:only-of-type {\n",
       "        vertical-align: middle;\n",
       "    }\n",
       "\n",
       "    .dataframe tbody tr th {\n",
       "        vertical-align: top;\n",
       "    }\n",
       "\n",
       "    .dataframe thead th {\n",
       "        text-align: right;\n",
       "    }\n",
       "</style>\n",
       "<table border=\"1\" class=\"dataframe\">\n",
       "  <thead>\n",
       "    <tr style=\"text-align: right;\">\n",
       "      <th></th>\n",
       "      <th>Unnamed: 0</th>\n",
       "      <th>index</th>\n",
       "      <th>ids</th>\n",
       "      <th>doc text</th>\n",
       "      <th>target text</th>\n",
       "      <th>doc len</th>\n",
       "      <th>sum len</th>\n",
       "    </tr>\n",
       "  </thead>\n",
       "  <tbody>\n",
       "    <tr>\n",
       "      <th>0</th>\n",
       "      <td>0</td>\n",
       "      <td>0</td>\n",
       "      <td>35232142</td>\n",
       "      <td>summarize: The full cost of damage in Newton S...</td>\n",
       "      <td>Clean-up operations are continuing across the ...</td>\n",
       "      <td>541</td>\n",
       "      <td>28</td>\n",
       "    </tr>\n",
       "    <tr>\n",
       "      <th>1</th>\n",
       "      <td>1</td>\n",
       "      <td>1</td>\n",
       "      <td>40143035</td>\n",
       "      <td>summarize: A fire alarm went off at the Holida...</td>\n",
       "      <td>Two tourist buses have been destroyed by fire ...</td>\n",
       "      <td>194</td>\n",
       "      <td>21</td>\n",
       "    </tr>\n",
       "    <tr>\n",
       "      <th>2</th>\n",
       "      <td>2</td>\n",
       "      <td>2</td>\n",
       "      <td>35951548</td>\n",
       "      <td>summarize: Ferrari appeared in a position to c...</td>\n",
       "      <td>Lewis Hamilton stormed to pole position at the...</td>\n",
       "      <td>1214</td>\n",
       "      <td>24</td>\n",
       "    </tr>\n",
       "    <tr>\n",
       "      <th>3</th>\n",
       "      <td>3</td>\n",
       "      <td>3</td>\n",
       "      <td>36266422</td>\n",
       "      <td>summarize: John Edward Bates, formerly of Spal...</td>\n",
       "      <td>A former Lincolnshire Police officer carried o...</td>\n",
       "      <td>369</td>\n",
       "      <td>30</td>\n",
       "    </tr>\n",
       "    <tr>\n",
       "      <th>4</th>\n",
       "      <td>4</td>\n",
       "      <td>4</td>\n",
       "      <td>38826984</td>\n",
       "      <td>summarize: Patients and staff were evacuated f...</td>\n",
       "      <td>An armed man who locked himself into a room at...</td>\n",
       "      <td>242</td>\n",
       "      <td>35</td>\n",
       "    </tr>\n",
       "  </tbody>\n",
       "</table>\n",
       "</div>"
      ],
      "text/plain": [
       "   Unnamed: 0  index       ids  \\\n",
       "0           0      0  35232142   \n",
       "1           1      1  40143035   \n",
       "2           2      2  35951548   \n",
       "3           3      3  36266422   \n",
       "4           4      4  38826984   \n",
       "\n",
       "                                            doc text  \\\n",
       "0  summarize: The full cost of damage in Newton S...   \n",
       "1  summarize: A fire alarm went off at the Holida...   \n",
       "2  summarize: Ferrari appeared in a position to c...   \n",
       "3  summarize: John Edward Bates, formerly of Spal...   \n",
       "4  summarize: Patients and staff were evacuated f...   \n",
       "\n",
       "                                         target text  doc len  sum len  \n",
       "0  Clean-up operations are continuing across the ...      541       28  \n",
       "1  Two tourist buses have been destroyed by fire ...      194       21  \n",
       "2  Lewis Hamilton stormed to pole position at the...     1214       24  \n",
       "3  A former Lincolnshire Police officer carried o...      369       30  \n",
       "4  An armed man who locked himself into a room at...      242       35  "
      ]
     },
     "execution_count": 24,
     "metadata": {},
     "output_type": "execute_result"
    }
   ],
   "source": [
    "df.head()"
   ]
  },
  {
   "cell_type": "code",
   "execution_count": 6,
   "metadata": {},
   "outputs": [
    {
     "data": {
      "text/plain": [
       "array([1, 4, 2, 3, 6, 7])"
      ]
     },
     "execution_count": 6,
     "metadata": {},
     "output_type": "execute_result"
    }
   ],
   "source": [
    "a = np.array([1,4,2,3,6,7])\n",
    "a"
   ]
  },
  {
   "cell_type": "code",
   "execution_count": 14,
   "metadata": {},
   "outputs": [
    {
     "data": {
      "text/plain": [
       "array([4, 2, 6, 7])"
      ]
     },
     "execution_count": 14,
     "metadata": {},
     "output_type": "execute_result"
    }
   ],
   "source": [
    "np.concatenate((a[1:3], a[4:6]))"
   ]
  },
  {
   "cell_type": "code",
   "execution_count": 15,
   "metadata": {},
   "outputs": [
    {
     "ename": "SyntaxError",
     "evalue": "invalid syntax (2058765231.py, line 1)",
     "output_type": "error",
     "traceback": [
      "\u001b[0;36m  Input \u001b[0;32mIn [15]\u001b[0;36m\u001b[0m\n\u001b[0;31m    head = 0:10//2\u001b[0m\n\u001b[0m            ^\u001b[0m\n\u001b[0;31mSyntaxError\u001b[0m\u001b[0;31m:\u001b[0m invalid syntax\n"
     ]
    }
   ],
   "source": []
  },
  {
   "cell_type": "code",
   "execution_count": 1,
   "metadata": {},
   "outputs": [],
   "source": [
    "a = 5\n",
    "b = 5//2"
   ]
  },
  {
   "cell_type": "code",
   "execution_count": 2,
   "metadata": {},
   "outputs": [
    {
     "data": {
      "text/plain": [
       "2"
      ]
     },
     "execution_count": 2,
     "metadata": {},
     "output_type": "execute_result"
    }
   ],
   "source": [
    "b"
   ]
  },
  {
   "cell_type": "code",
   "execution_count": 5,
   "metadata": {},
   "outputs": [],
   "source": [
    "import math\n",
    "c = math.floor(0.5 * 5)"
   ]
  },
  {
   "cell_type": "code",
   "execution_count": 6,
   "metadata": {},
   "outputs": [
    {
     "data": {
      "text/plain": [
       "2"
      ]
     },
     "execution_count": 6,
     "metadata": {},
     "output_type": "execute_result"
    }
   ],
   "source": [
    "c"
   ]
  },
  {
   "cell_type": "code",
   "execution_count": 9,
   "metadata": {},
   "outputs": [],
   "source": [
    "a = \"ratio0.2\"\n",
    "ratio = a[-1:-3]"
   ]
  },
  {
   "cell_type": "code",
   "execution_count": 10,
   "metadata": {},
   "outputs": [
    {
     "data": {
      "text/plain": [
       "''"
      ]
     },
     "execution_count": 10,
     "metadata": {},
     "output_type": "execute_result"
    }
   ],
   "source": [
    "ratio"
   ]
  },
  {
   "cell_type": "code",
   "execution_count": 29,
   "metadata": {},
   "outputs": [],
   "source": [
    "import re"
   ]
  },
  {
   "cell_type": "code",
   "execution_count": 33,
   "metadata": {},
   "outputs": [],
   "source": [
    "ratio = re.findall(r\"\\d*\\.\\d\", \"head+tail_ratio0.2\")"
   ]
  },
  {
   "cell_type": "code",
   "execution_count": 34,
   "metadata": {},
   "outputs": [
    {
     "data": {
      "text/plain": [
       "0.2"
      ]
     },
     "execution_count": 34,
     "metadata": {},
     "output_type": "execute_result"
    }
   ],
   "source": [
    "float(ratio[0])"
   ]
  },
  {
   "cell_type": "code",
   "execution_count": 40,
   "metadata": {},
   "outputs": [],
   "source": [
    "import pandas as pd\n",
    "df__ = pd.read_csv(\"model/t5-small_xsum_full-text_0_50epochs_old/result_eval/predictions_t5-small_epoch49.csv\")"
   ]
  },
  {
   "cell_type": "code",
   "execution_count": 18,
   "metadata": {},
   "outputs": [
    {
     "data": {
      "text/html": [
       "<div>\n",
       "<style scoped>\n",
       "    .dataframe tbody tr th:only-of-type {\n",
       "        vertical-align: middle;\n",
       "    }\n",
       "\n",
       "    .dataframe tbody tr th {\n",
       "        vertical-align: top;\n",
       "    }\n",
       "\n",
       "    .dataframe thead th {\n",
       "        text-align: right;\n",
       "    }\n",
       "</style>\n",
       "<table border=\"1\" class=\"dataframe\">\n",
       "  <thead>\n",
       "    <tr style=\"text-align: right;\">\n",
       "      <th></th>\n",
       "      <th>Unnamed: 0</th>\n",
       "      <th>Sample ids</th>\n",
       "      <th>Document</th>\n",
       "      <th>Reference summary</th>\n",
       "      <th>Generated summary</th>\n",
       "      <th>Document length</th>\n",
       "      <th>Reference length</th>\n",
       "      <th>Generated length</th>\n",
       "    </tr>\n",
       "  </thead>\n",
       "  <tbody>\n",
       "    <tr>\n",
       "      <th>0</th>\n",
       "      <td>0</td>\n",
       "      <td>35694164</td>\n",
       "      <td>summarize: Forty workers have been made redund...</td>\n",
       "      <td>The introduction of a 5p charge for plastic ba...</td>\n",
       "      <td>the 5p charge for bags was introduced in Engla...</td>\n",
       "      <td>494</td>\n",
       "      <td>27</td>\n",
       "      <td>34</td>\n",
       "    </tr>\n",
       "    <tr>\n",
       "      <th>1</th>\n",
       "      <td>1</td>\n",
       "      <td>38921336</td>\n",
       "      <td>summarize: The Oil and Gas Technology Centre w...</td>\n",
       "      <td>A new research and development facility has op...</td>\n",
       "      <td>oil supply company Mistras has been developing...</td>\n",
       "      <td>508</td>\n",
       "      <td>24</td>\n",
       "      <td>34</td>\n",
       "    </tr>\n",
       "    <tr>\n",
       "      <th>2</th>\n",
       "      <td>2</td>\n",
       "      <td>31798664</td>\n",
       "      <td>summarize: MSC Oscar is shorter in length than...</td>\n",
       "      <td>The newly-crowned largest container ship in th...</td>\n",
       "      <td>the CSCL Globe docked in Felixstowe in January...</td>\n",
       "      <td>492</td>\n",
       "      <td>26</td>\n",
       "      <td>35</td>\n",
       "    </tr>\n",
       "    <tr>\n",
       "      <th>3</th>\n",
       "      <td>3</td>\n",
       "      <td>35111636</td>\n",
       "      <td>summarize: The latest protests are a reaction ...</td>\n",
       "      <td>Thousands of protesters are marching in South ...</td>\n",
       "      <td>the ANC has been in power since the end of apa...</td>\n",
       "      <td>510</td>\n",
       "      <td>23</td>\n",
       "      <td>28</td>\n",
       "    </tr>\n",
       "    <tr>\n",
       "      <th>4</th>\n",
       "      <td>4</td>\n",
       "      <td>38128851</td>\n",
       "      <td>summarize: The film about a princess's mythica...</td>\n",
       "      <td>Disney's latest animation Moana dominated the ...</td>\n",
       "      <td>movie about a princess's mythical journey in a...</td>\n",
       "      <td>486</td>\n",
       "      <td>24</td>\n",
       "      <td>36</td>\n",
       "    </tr>\n",
       "  </tbody>\n",
       "</table>\n",
       "</div>"
      ],
      "text/plain": [
       "   Unnamed: 0  Sample ids                                           Document  \\\n",
       "0           0    35694164  summarize: Forty workers have been made redund...   \n",
       "1           1    38921336  summarize: The Oil and Gas Technology Centre w...   \n",
       "2           2    31798664  summarize: MSC Oscar is shorter in length than...   \n",
       "3           3    35111636  summarize: The latest protests are a reaction ...   \n",
       "4           4    38128851  summarize: The film about a princess's mythica...   \n",
       "\n",
       "                                   Reference summary  \\\n",
       "0  The introduction of a 5p charge for plastic ba...   \n",
       "1  A new research and development facility has op...   \n",
       "2  The newly-crowned largest container ship in th...   \n",
       "3  Thousands of protesters are marching in South ...   \n",
       "4  Disney's latest animation Moana dominated the ...   \n",
       "\n",
       "                                   Generated summary  Document length  \\\n",
       "0  the 5p charge for bags was introduced in Engla...              494   \n",
       "1  oil supply company Mistras has been developing...              508   \n",
       "2  the CSCL Globe docked in Felixstowe in January...              492   \n",
       "3  the ANC has been in power since the end of apa...              510   \n",
       "4  movie about a princess's mythical journey in a...              486   \n",
       "\n",
       "   Reference length  Generated length  \n",
       "0                27                34  \n",
       "1                24                34  \n",
       "2                26                35  \n",
       "3                23                28  \n",
       "4                24                36  "
      ]
     },
     "execution_count": 18,
     "metadata": {},
     "output_type": "execute_result"
    }
   ],
   "source": [
    "df__.head()"
   ]
  },
  {
   "cell_type": "code",
   "execution_count": 35,
   "metadata": {},
   "outputs": [
    {
     "data": {
      "text/plain": [
       "\"plastic bags have been handed out at Nelson Packaging's factory in Lancashire because of a 5p pack charge.\""
      ]
     },
     "execution_count": 35,
     "metadata": {},
     "output_type": "execute_result"
    }
   ],
   "source": [
    "df__['Generated summary'][0]"
   ]
  },
  {
   "cell_type": "code",
   "execution_count": 37,
   "metadata": {},
   "outputs": [
    {
     "data": {
      "text/plain": [
       "'a new technology centre in Aberdeen has opened its doors to small tech firms that are being used to detect corrosion in the north sea.'"
      ]
     },
     "execution_count": 37,
     "metadata": {},
     "output_type": "execute_result"
    }
   ],
   "source": [
    "df__['Generated summary'][1]"
   ]
  },
  {
   "cell_type": "code",
   "execution_count": 39,
   "metadata": {},
   "outputs": [
    {
     "data": {
      "text/plain": [
       "\"plastic bags have been handed out at Nelson Packaging's factory in Lancashire because of a 5p pack charge.\""
      ]
     },
     "execution_count": 39,
     "metadata": {},
     "output_type": "execute_result"
    }
   ],
   "source": [
    "df__['Generated summary'][0]"
   ]
  },
  {
   "cell_type": "code",
   "execution_count": 41,
   "metadata": {},
   "outputs": [
    {
     "data": {
      "text/plain": [
       "'a new technology centre in Aberdeen has opened its doors to small tech firms that are being used to detect corrosion in the north sea.'"
      ]
     },
     "execution_count": 41,
     "metadata": {},
     "output_type": "execute_result"
    }
   ],
   "source": [
    "df__['Generated summary'][1]"
   ]
  },
  {
   "cell_type": "code",
   "execution_count": 21,
   "metadata": {},
   "outputs": [],
   "source": [
    "df_ = pd.read_csv(\"model/t5-small_xsum_head+tail35_50epochs_ratio2080/result_eval/predictions_t5-small_epoch49.csv\")"
   ]
  },
  {
   "cell_type": "code",
   "execution_count": 24,
   "metadata": {},
   "outputs": [
    {
     "data": {
      "text/plain": [
       "'summarize: Forty workers have been made redundant at Nelson Packaging\\'s factory in Lancashire. Managing director Michael Flynn said it was mainly due to \"the English bag legislation and corresponding impact on customer and retailer demand\". He also blamed \"aggressive overseas competition\". The 5p charge the factory immediately. \"It\\'s daunting as I have no interview skills. I\\'m 49 years old and I\\'ve got to now go into a new working environment and start again. It is scary. \"I was 19 when I started andâ€<unk> you were seeing the children of people you have been working with for 30 years starting to come through so you had parents and children [at the factory].\" Campaigners argue that plastic bags blight streets, spoil the countryside and damage wildlife, seas and coastline. Wales was the first UK nation to introduce the bag charges, followed by Northern Ireland and then Scotland. A report in 2015 found the number of single-use carrier bags handed out by shops in Wales fell by 71% since charges were introduced in 2011. Scotland and Northern Ireland introduced their charges in 2014 and 2013 respectively and also saw significant drops in usage. The number of plastic bags handed out in Scottish stores was slashed by 80% - the equivalent of 650 million carriers - in the first year of the 5p charge. Similarly, in Northern Ireland in 2014 there was a 42.6% annual reduction following a previous drop of 71%, after charges were introduced. Does the charge include all carrier bags?</s>'"
      ]
     },
     "execution_count": 24,
     "metadata": {},
     "output_type": "execute_result"
    }
   ],
   "source": [
    "df_['Shortened Document'][0]"
   ]
  },
  {
   "cell_type": "code",
   "execution_count": 25,
   "metadata": {},
   "outputs": [
    {
     "data": {
      "text/plain": [
       "'summarize: Forty workers have been made redundant at Nelson Packaging\\'s factory in Lancashire. Managing director Michael Flynn said it was mainly due to \"the English bag legislation and corresponding impact on customer and retailer demand\". He also blamed \"aggressive overseas competition\". The 5p charge for bags was introduced in England in October and followed the introduction of charges in Wales, Northern Ireland and Scotland. One worker told BBC Radio Lancashire they believed the legislation had a \"slight but not a massive impact\" on the business, which has been operating since 1975 and was taken over by Cheshire-based packaging firm Intelipac three years ago. 7.6 billion Number of plastic bags issued by supermarkets in England in 2014 140 Equivalent per person 40 bags on average in every home Â£780m expected economic benefit over 10 years because of the charge Â£60m savings in litter clean up costs by 2025 80% expected reduction in bags Union representative Robert Copeland, who had been with the firm since 1986, said staff were told last Wednesday that they were being made redundant and were told to leave the factory immediately. \"It\\'s daunting as I have no interview skills. I\\'m 49 years old and I\\'ve got to now go into a new working environment and start again. It is scary. \"I was 19 when I started andâ€¦ you were seeing the children of people you have been working with for 30 years starting to come through so you had parents and children [at the factory].\" Campaigners argue that plastic bags blight streets, spoil the countryside and damage wildlife, seas and coastline. Wales was the first UK nation to introduce the bag charges, followed by Northern Ireland and then Scotland. A report in 2015 found the number of single-use carrier bags handed out by shops in Wales fell by 71% since charges were introduced in 2011. Scotland and Northern Ireland introduced their charges in 2014 and 2013 respectively and also saw significant drops in usage. The number of plastic bags handed out in Scottish stores was slashed by 80% - the equivalent of 650 million carriers - in the first year of the 5p charge. Similarly, in Northern Ireland in 2014 there was a 42.6% annual reduction following a previous drop of 71%, after charges were introduced. Does the charge include all carrier bags?'"
      ]
     },
     "execution_count": 25,
     "metadata": {},
     "output_type": "execute_result"
    }
   ],
   "source": [
    "df_['Document'][0]"
   ]
  },
  {
   "cell_type": "code",
   "execution_count": 6,
   "metadata": {},
   "outputs": [
    {
     "data": {
      "text/plain": [
       "141"
      ]
     },
     "execution_count": 6,
     "metadata": {},
     "output_type": "execute_result"
    }
   ],
   "source": [
    "len(df_['Generated summary'][0])"
   ]
  },
  {
   "cell_type": "code",
   "execution_count": 7,
   "metadata": {},
   "outputs": [
    {
     "data": {
      "text/plain": [
       "175"
      ]
     },
     "execution_count": 7,
     "metadata": {},
     "output_type": "execute_result"
    }
   ],
   "source": [
    " len(df__['Generated summary'][0])"
   ]
  },
  {
   "cell_type": "code",
   "execution_count": 15,
   "metadata": {},
   "outputs": [
    {
     "name": "stdout",
     "output_type": "stream",
     "text": [
      "==========\n",
      "the 5p charge for bags was introduced in England in October. it followed the introduction of charges in Wales, northern Ireland and Scotland. one worker said they believed the\n",
      "==========\n",
      "oil supply company Mistras has been developing technology for expectant mothers. the ultrasound scanners are being used to detect corrosion in pipes. the oil and gas technology\n",
      "==========\n",
      "the CSCL Globe docked in Felixstowe in January. it is 396m (1,300ft) long and has a capacity of\n",
      "==========\n",
      "the ANC has been in power since the end of apartheid in 1994. many accuse ANC officials of corruption.\n",
      "==========\n",
      "movie about a princess's mythical journey in ancient Polynesia took $81.1m (£65.3m) it is the second-highest Thanksgiving debut\n",
      "==========\n",
      "198 passengers and crew on board the Voyager aircraft plummeted 4,400ft (1,341m) over the black sea. pilot's\n",
      "==========\n",
      "opium is the main ingredient in heroin, which is used to make medicinal painkillers. growing opium is a crime in the country, but it\n",
      "==========\n",
      "he said it would be \"completely wrong\" to remain in the single market. but his predecessor, Stephen Crabb, claimed the election changed terms of the debate\n",
      "==========\n",
      "legal highs have been linked to a number of deaths. ministers say young people who took them were taking \"exceptional risks with their health\" the government says\n",
      "==========\n",
      "Wasps player-manager named league one manager of the month for february. midfielder says he wasn't giving 100% to either role.\n"
     ]
    }
   ],
   "source": [
    "for i in range(10):\n",
    "    print(\"=\"*10)\n",
    "    print(df__['Generated summary'][i])"
   ]
  },
  {
   "cell_type": "code",
   "execution_count": 22,
   "metadata": {},
   "outputs": [
    {
     "name": "stdout",
     "output_type": "stream",
     "text": [
      "==========\n",
      "plastic bags have been handed out at Nelson Packaging's factory in Lancashire after a 5p bag charge was introduced.\n",
      "==========\n",
      "a new oil and gas technology centre is to build on the existing work being carried out by Aberdeen University.\n",
      "==========\n",
      "MSC Oscar has been sailed from Wilhelmshaven to Felixstowe on Tuesday.\n",
      "==========\n",
      "ANC leader Jacob Zuma has been sacked as the new president of the African National Congress.\n",
      "==========\n",
      "Paramount's Bad Santa 2, starring Billy Bob Thornton, did better on its debut.\n",
      "==========\n",
      "pilot of a Voyager Voyager aircraft has been found not guilty of perjury and making false records.\n",
      "==========\n",
      "the crop used to grow poppies in Afghanistan has increased by 10%, according to a report.\n",
      "==========\n",
      "Jeremy Crabb has called for cross-party consensus over Brexit negotiations between the Labour Party and Labour party leaders.\n",
      "==========\n",
      "government proposals to ban new psychoactive substances have been published by the Home Office.\n",
      "==========\n",
      "Alloa manager David Goodwin says he feels it was better for him to take myself out of the league side's playing position.\n"
     ]
    }
   ],
   "source": [
    "for i in range(10):\n",
    "    print(\"=\"*10)\n",
    "    print(df_['Generated summary'][i])\n",
    "#     print(df__['Generated summary'][i])"
   ]
  },
  {
   "cell_type": "code",
   "execution_count": 14,
   "metadata": {},
   "outputs": [
    {
     "data": {
      "text/plain": [
       "'oil supply company Mistras has been developing technology to enable expectant mothers to see their babies. the technology centre will invest in small firms with solid ideas and help pair'"
      ]
     },
     "execution_count": 14,
     "metadata": {},
     "output_type": "execute_result"
    }
   ],
   "source": [
    "df_['Generated summary'][1]"
   ]
  },
  {
   "cell_type": "code",
   "execution_count": null,
   "metadata": {},
   "outputs": [],
   "source": [
    "df_['Generated summary'][1]"
   ]
  },
  {
   "cell_type": "code",
   "execution_count": 32,
   "metadata": {},
   "outputs": [],
   "source": [
    "import os\n",
    "\n",
    "os.environ['http_proxy'] = 'http://192.41.170.23:3128'\n",
    "os.environ['https_proxy'] = 'http://192.41.170.23:3128'\n",
    "from transformers import T5Tokenizer, T5ForConditionalGeneration\n",
    "\n",
    "tokenizer = T5Tokenizer.from_pretrained(\"t5-small\")\n",
    "source_ids_short = tokenizer.decode(1)"
   ]
  },
  {
   "cell_type": "code",
   "execution_count": 33,
   "metadata": {},
   "outputs": [
    {
     "data": {
      "text/plain": [
       "'</s>'"
      ]
     },
     "execution_count": 33,
     "metadata": {},
     "output_type": "execute_result"
    }
   ],
   "source": [
    "source_ids_short"
   ]
  },
  {
   "cell_type": "code",
   "execution_count": 44,
   "metadata": {},
   "outputs": [],
   "source": [
    "quantities = [25,35,45]\n",
    "a = 25\n",
    "assert a in quantities"
   ]
  },
  {
   "cell_type": "code",
   "execution_count": 79,
   "metadata": {},
   "outputs": [],
   "source": [
    "assert \"head+tail_ratio0.2\" in [\"full-text\", \"head-only\", \"tail-only\",]+[\"head+tail_ratio{:.1f}\".format(i) for i in np.arange(0.0, 1.0, 0.1)]"
   ]
  },
  {
   "cell_type": "code",
   "execution_count": 53,
   "metadata": {},
   "outputs": [
    {
     "data": {
      "text/plain": [
       "\"My name is John, I'm 36\""
      ]
     },
     "execution_count": 53,
     "metadata": {},
     "output_type": "execute_result"
    }
   ],
   "source": [
    "\"My name is {}, I'm {}\".format(\"John\",36)"
   ]
  },
  {
   "cell_type": "code",
   "execution_count": 62,
   "metadata": {},
   "outputs": [
    {
     "data": {
      "text/plain": [
       "'head+tail_ratio[0.  0.1 0.2 0.3 0.4 0.5 0.6 0.7 0.8 0.9]'"
      ]
     },
     "execution_count": 62,
     "metadata": {},
     "output_type": "execute_result"
    }
   ],
   "source": [
    "\"head+tail_ratio{}\".format(np.arange(0.0, 1.0, 0.1))"
   ]
  },
  {
   "cell_type": "code",
   "execution_count": 60,
   "metadata": {},
   "outputs": [
    {
     "data": {
      "text/plain": [
       "array([0. , 0.1, 0.2, 0.3, 0.4, 0.5, 0.6, 0.7, 0.8, 0.9])"
      ]
     },
     "execution_count": 60,
     "metadata": {},
     "output_type": "execute_result"
    }
   ],
   "source": [
    "import numpy as np\n",
    "np.arange(0.0, 1.0, 0.1)"
   ]
  },
  {
   "cell_type": "code",
   "execution_count": 77,
   "metadata": {},
   "outputs": [],
   "source": [
    "a = [\"full-text\", \"head-only\", \"tail-only\",]+[\"head+tail_ratio{:.1f}\".format(i) for i in np.arange(0.0, 1.0, 0.1)]"
   ]
  },
  {
   "cell_type": "code",
   "execution_count": 78,
   "metadata": {},
   "outputs": [
    {
     "data": {
      "text/plain": [
       "['full-text',\n",
       " 'head-only',\n",
       " 'tail-only',\n",
       " 'head+tail_ratio0.0',\n",
       " 'head+tail_ratio0.1',\n",
       " 'head+tail_ratio0.2',\n",
       " 'head+tail_ratio0.3',\n",
       " 'head+tail_ratio0.4',\n",
       " 'head+tail_ratio0.5',\n",
       " 'head+tail_ratio0.6',\n",
       " 'head+tail_ratio0.7',\n",
       " 'head+tail_ratio0.8',\n",
       " 'head+tail_ratio0.9']"
      ]
     },
     "execution_count": 78,
     "metadata": {},
     "output_type": "execute_result"
    }
   ],
   "source": [
    "a"
   ]
  },
  {
   "cell_type": "code",
   "execution_count": null,
   "metadata": {},
   "outputs": [],
   "source": []
  },
  {
   "cell_type": "code",
   "execution_count": null,
   "metadata": {},
   "outputs": [],
   "source": []
  },
  {
   "cell_type": "code",
   "execution_count": null,
   "metadata": {},
   "outputs": [],
   "source": []
  },
  {
   "cell_type": "code",
   "execution_count": null,
   "metadata": {},
   "outputs": [],
   "source": []
  }
 ],
 "metadata": {
  "kernelspec": {
   "display_name": "thesis",
   "language": "python",
   "name": "thesis"
  },
  "language_info": {
   "codemirror_mode": {
    "name": "ipython",
    "version": 3
   },
   "file_extension": ".py",
   "mimetype": "text/x-python",
   "name": "python",
   "nbconvert_exporter": "python",
   "pygments_lexer": "ipython3",
   "version": "3.8.10"
  }
 },
 "nbformat": 4,
 "nbformat_minor": 4
}
