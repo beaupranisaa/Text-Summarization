{
 "cells": [
  {
   "cell_type": "code",
   "execution_count": 19,
   "metadata": {},
   "outputs": [],
   "source": [
    "import os\n",
    "os.environ['http_proxy'] = 'http://192.41.170.23:3128'\n",
    "os.environ['https_proxy'] = 'http://192.41.170.23:3128'"
   ]
  },
  {
   "cell_type": "code",
   "execution_count": 4,
   "metadata": {},
   "outputs": [
    {
     "name": "stderr",
     "output_type": "stream",
     "text": [
      "Using custom data configuration default\n",
      "Reusing dataset xsum (/home/pranisaa/.cache/huggingface/datasets/xsum/default/1.2.0/32c23220eadddb1149b16ed2e9430a05293768cfffbdfd151058697d4c11f934)\n"
     ]
    },
    {
     "data": {
      "application/vnd.jupyter.widget-view+json": {
       "model_id": "c9bc2588ce8044d192ae06ba58b07aaf",
       "version_major": 2,
       "version_minor": 0
      },
      "text/plain": [
       "  0%|          | 0/3 [00:00<?, ?it/s]"
      ]
     },
     "metadata": {},
     "output_type": "display_data"
    }
   ],
   "source": [
    "from datasets import load_dataset\n",
    "dataset = load_dataset(\"xsum\")"
   ]
  },
  {
   "cell_type": "code",
   "execution_count": 6,
   "metadata": {},
   "outputs": [
    {
     "data": {
      "text/plain": [
       "'The full cost of damage in Newton Stewart, one of the areas worst affected, is still being assessed.\\nRepair work is ongoing in Hawick and many roads in Peeblesshire remain badly affected by standing water.\\nTrains on the west coast mainline face disruption due to damage at the Lamington Viaduct.\\nMany businesses and householders were affected by flooding in Newton Stewart after the River Cree overflowed into the town.\\nFirst Minister Nicola Sturgeon visited the area to inspect the damage.\\nThe waters breached a retaining wall, flooding many commercial properties on Victoria Street - the main shopping thoroughfare.\\nJeanette Tate, who owns the Cinnamon Cafe which was badly affected, said she could not fault the multi-agency response once the flood hit.\\nHowever, she said more preventative work could have been carried out to ensure the retaining wall did not fail.\\n\"It is difficult but I do think there is so much publicity for Dumfries and the Nith - and I totally appreciate that - but it is almost like we\\'re neglected or forgotten,\" she said.\\n\"That may not be true but it is perhaps my perspective over the last few days.\\n\"Why were you not ready to help us a bit more when the warning and the alarm alerts had gone out?\"\\nMeanwhile, a flood alert remains in place across the Borders because of the constant rain.\\nPeebles was badly hit by problems, sparking calls to introduce more defences in the area.\\nScottish Borders Council has put a list on its website of the roads worst affected and drivers have been urged not to ignore closure signs.\\nThe Labour Party\\'s deputy Scottish leader Alex Rowley was in Hawick on Monday to see the situation first hand.\\nHe said it was important to get the flood protection plan right but backed calls to speed up the process.\\n\"I was quite taken aback by the amount of damage that has been done,\" he said.\\n\"Obviously it is heart-breaking for people who have been forced out of their homes and the impact on businesses.\"\\nHe said it was important that \"immediate steps\" were taken to protect the areas most vulnerable and a clear timetable put in place for flood prevention plans.\\nHave you been affected by flooding in Dumfries and Galloway or the Borders? Tell us about your experience of the situation and how it was handled. Email us on selkirk.news@bbc.co.uk or dumfries@bbc.co.uk.'"
      ]
     },
     "execution_count": 6,
     "metadata": {},
     "output_type": "execute_result"
    }
   ],
   "source": [
    "dataset['train']['document'][0]"
   ]
  },
  {
   "cell_type": "code",
   "execution_count": 30,
   "metadata": {},
   "outputs": [
    {
     "ename": "KeyboardInterrupt",
     "evalue": "",
     "output_type": "error",
     "traceback": [
      "\u001b[0;31m---------------------------------------------------------------------------\u001b[0m",
      "\u001b[0;31mKeyboardInterrupt\u001b[0m                         Traceback (most recent call last)",
      "Input \u001b[0;32mIn [30]\u001b[0m, in \u001b[0;36m<cell line: 4>\u001b[0;34m()\u001b[0m\n\u001b[1;32m      2\u001b[0m corpus \u001b[38;5;241m=\u001b[39m dataset[\u001b[38;5;124m'\u001b[39m\u001b[38;5;124mtrain\u001b[39m\u001b[38;5;124m'\u001b[39m][\u001b[38;5;124m'\u001b[39m\u001b[38;5;124mdocument\u001b[39m\u001b[38;5;124m'\u001b[39m]\n\u001b[1;32m      3\u001b[0m vectorizer \u001b[38;5;241m=\u001b[39m TfidfVectorizer()\n\u001b[0;32m----> 4\u001b[0m X \u001b[38;5;241m=\u001b[39m \u001b[43mvectorizer\u001b[49m\u001b[38;5;241;43m.\u001b[39;49m\u001b[43mfit_transform\u001b[49m\u001b[43m(\u001b[49m\u001b[43mcorpus\u001b[49m\u001b[43m)\u001b[49m\n\u001b[1;32m      5\u001b[0m a \u001b[38;5;241m=\u001b[39m \u001b[38;5;28mlist\u001b[39m(vectorizer\u001b[38;5;241m.\u001b[39mget_feature_names_out())\n\u001b[1;32m      6\u001b[0m \u001b[38;5;28mprint\u001b[39m(a)\n",
      "File \u001b[0;32m~/thesis/lib/python3.8/site-packages/sklearn/feature_extraction/text.py:2077\u001b[0m, in \u001b[0;36mTfidfVectorizer.fit_transform\u001b[0;34m(self, raw_documents, y)\u001b[0m\n\u001b[1;32m   2058\u001b[0m \u001b[38;5;124;03m\"\"\"Learn vocabulary and idf, return document-term matrix.\u001b[39;00m\n\u001b[1;32m   2059\u001b[0m \n\u001b[1;32m   2060\u001b[0m \u001b[38;5;124;03mThis is equivalent to fit followed by transform, but more efficiently\u001b[39;00m\n\u001b[0;32m   (...)\u001b[0m\n\u001b[1;32m   2074\u001b[0m \u001b[38;5;124;03m    Tf-idf-weighted document-term matrix.\u001b[39;00m\n\u001b[1;32m   2075\u001b[0m \u001b[38;5;124;03m\"\"\"\u001b[39;00m\n\u001b[1;32m   2076\u001b[0m \u001b[38;5;28mself\u001b[39m\u001b[38;5;241m.\u001b[39m_check_params()\n\u001b[0;32m-> 2077\u001b[0m X \u001b[38;5;241m=\u001b[39m \u001b[38;5;28;43msuper\u001b[39;49m\u001b[43m(\u001b[49m\u001b[43m)\u001b[49m\u001b[38;5;241;43m.\u001b[39;49m\u001b[43mfit_transform\u001b[49m\u001b[43m(\u001b[49m\u001b[43mraw_documents\u001b[49m\u001b[43m)\u001b[49m\n\u001b[1;32m   2078\u001b[0m \u001b[38;5;28mself\u001b[39m\u001b[38;5;241m.\u001b[39m_tfidf\u001b[38;5;241m.\u001b[39mfit(X)\n\u001b[1;32m   2079\u001b[0m \u001b[38;5;66;03m# X is already a transformed view of raw_documents so\u001b[39;00m\n\u001b[1;32m   2080\u001b[0m \u001b[38;5;66;03m# we set copy to False\u001b[39;00m\n",
      "File \u001b[0;32m~/thesis/lib/python3.8/site-packages/sklearn/feature_extraction/text.py:1330\u001b[0m, in \u001b[0;36mCountVectorizer.fit_transform\u001b[0;34m(self, raw_documents, y)\u001b[0m\n\u001b[1;32m   1322\u001b[0m             warnings\u001b[38;5;241m.\u001b[39mwarn(\n\u001b[1;32m   1323\u001b[0m                 \u001b[38;5;124m\"\u001b[39m\u001b[38;5;124mUpper case characters found in\u001b[39m\u001b[38;5;124m\"\u001b[39m\n\u001b[1;32m   1324\u001b[0m                 \u001b[38;5;124m\"\u001b[39m\u001b[38;5;124m vocabulary while \u001b[39m\u001b[38;5;124m'\u001b[39m\u001b[38;5;124mlowercase\u001b[39m\u001b[38;5;124m'\u001b[39m\u001b[38;5;124m\"\u001b[39m\n\u001b[1;32m   1325\u001b[0m                 \u001b[38;5;124m\"\u001b[39m\u001b[38;5;124m is True. These entries will not\u001b[39m\u001b[38;5;124m\"\u001b[39m\n\u001b[1;32m   1326\u001b[0m                 \u001b[38;5;124m\"\u001b[39m\u001b[38;5;124m be matched with any documents\u001b[39m\u001b[38;5;124m\"\u001b[39m\n\u001b[1;32m   1327\u001b[0m             )\n\u001b[1;32m   1328\u001b[0m             \u001b[38;5;28;01mbreak\u001b[39;00m\n\u001b[0;32m-> 1330\u001b[0m vocabulary, X \u001b[38;5;241m=\u001b[39m \u001b[38;5;28;43mself\u001b[39;49m\u001b[38;5;241;43m.\u001b[39;49m\u001b[43m_count_vocab\u001b[49m\u001b[43m(\u001b[49m\u001b[43mraw_documents\u001b[49m\u001b[43m,\u001b[49m\u001b[43m \u001b[49m\u001b[38;5;28;43mself\u001b[39;49m\u001b[38;5;241;43m.\u001b[39;49m\u001b[43mfixed_vocabulary_\u001b[49m\u001b[43m)\u001b[49m\n\u001b[1;32m   1332\u001b[0m \u001b[38;5;28;01mif\u001b[39;00m \u001b[38;5;28mself\u001b[39m\u001b[38;5;241m.\u001b[39mbinary:\n\u001b[1;32m   1333\u001b[0m     X\u001b[38;5;241m.\u001b[39mdata\u001b[38;5;241m.\u001b[39mfill(\u001b[38;5;241m1\u001b[39m)\n",
      "File \u001b[0;32m~/thesis/lib/python3.8/site-packages/sklearn/feature_extraction/text.py:1201\u001b[0m, in \u001b[0;36mCountVectorizer._count_vocab\u001b[0;34m(self, raw_documents, fixed_vocab)\u001b[0m\n\u001b[1;32m   1199\u001b[0m \u001b[38;5;28;01mfor\u001b[39;00m doc \u001b[38;5;129;01min\u001b[39;00m raw_documents:\n\u001b[1;32m   1200\u001b[0m     feature_counter \u001b[38;5;241m=\u001b[39m {}\n\u001b[0;32m-> 1201\u001b[0m     \u001b[38;5;28;01mfor\u001b[39;00m feature \u001b[38;5;129;01min\u001b[39;00m \u001b[43manalyze\u001b[49m\u001b[43m(\u001b[49m\u001b[43mdoc\u001b[49m\u001b[43m)\u001b[49m:\n\u001b[1;32m   1202\u001b[0m         \u001b[38;5;28;01mtry\u001b[39;00m:\n\u001b[1;32m   1203\u001b[0m             feature_idx \u001b[38;5;241m=\u001b[39m vocabulary[feature]\n",
      "File \u001b[0;32m~/thesis/lib/python3.8/site-packages/sklearn/feature_extraction/text.py:115\u001b[0m, in \u001b[0;36m_analyze\u001b[0;34m(doc, analyzer, tokenizer, ngrams, preprocessor, decoder, stop_words)\u001b[0m\n\u001b[1;32m    113\u001b[0m     doc \u001b[38;5;241m=\u001b[39m preprocessor(doc)\n\u001b[1;32m    114\u001b[0m \u001b[38;5;28;01mif\u001b[39;00m tokenizer \u001b[38;5;129;01mis\u001b[39;00m \u001b[38;5;129;01mnot\u001b[39;00m \u001b[38;5;28;01mNone\u001b[39;00m:\n\u001b[0;32m--> 115\u001b[0m     doc \u001b[38;5;241m=\u001b[39m \u001b[43mtokenizer\u001b[49m\u001b[43m(\u001b[49m\u001b[43mdoc\u001b[49m\u001b[43m)\u001b[49m\n\u001b[1;32m    116\u001b[0m \u001b[38;5;28;01mif\u001b[39;00m ngrams \u001b[38;5;129;01mis\u001b[39;00m \u001b[38;5;129;01mnot\u001b[39;00m \u001b[38;5;28;01mNone\u001b[39;00m:\n\u001b[1;32m    117\u001b[0m     \u001b[38;5;28;01mif\u001b[39;00m stop_words \u001b[38;5;129;01mis\u001b[39;00m \u001b[38;5;129;01mnot\u001b[39;00m \u001b[38;5;28;01mNone\u001b[39;00m:\n",
      "\u001b[0;31mKeyboardInterrupt\u001b[0m: "
     ]
    }
   ],
   "source": [
    "from sklearn.feature_extraction.text import TfidfVectorizer\n",
    "corpus = dataset['train']['document']\n",
    "vectorizer = TfidfVectorizer()\n",
    "X = vectorizer.fit_transform(corpus)\n",
    "a = list(vectorizer.get_feature_names_out())\n",
    "print(a)\n",
    "a.reverse()\n",
    "print(len(a))\n",
    "print(a)"
   ]
  },
  {
   "cell_type": "code",
   "execution_count": 24,
   "metadata": {},
   "outputs": [
    {
     "name": "stdout",
     "output_type": "stream",
     "text": [
      "(1, 224)\n"
     ]
    }
   ],
   "source": [
    "print(X.shape)"
   ]
  },
  {
   "cell_type": "code",
   "execution_count": null,
   "metadata": {},
   "outputs": [],
   "source": []
  },
  {
   "cell_type": "code",
   "execution_count": 40,
   "metadata": {},
   "outputs": [
    {
     "data": {
      "text/plain": [
       "array(['and', 'document', 'first', 'is', 'one', 'second', 'the', 'third',\n",
       "       'this'], dtype=object)"
      ]
     },
     "execution_count": 40,
     "metadata": {},
     "output_type": "execute_result"
    }
   ],
   "source": [
    "from sklearn.feature_extraction.text import TfidfVectorizer, CountVectorizer\n",
    "corpus = [\n",
    "    'This is the first document.',\n",
    "    'This document is the second document.',\n",
    "    'And this is the third one.',\n",
    "    'Is this the first document?',\n",
    "]\n",
    "vectorizer = TfidfVectorizer()\n",
    "X = vectorizer.fit_transform(corpus)\n",
    "vectorizer.get_feature_names_out()"
   ]
  },
  {
   "cell_type": "code",
   "execution_count": 37,
   "metadata": {},
   "outputs": [
    {
     "name": "stdout",
     "output_type": "stream",
     "text": [
      "This is the first document.\n",
      "This document is the second document.\n",
      "And this is the third one.\n",
      "Is this the first document?\n"
     ]
    }
   ],
   "source": [
    "words = []\n",
    "for i in corpus:\n",
    "    source_text = \" \".join(i.split())\n",
    "    print(source_text)\n",
    "    word = [w for w in i]\n",
    "    words.extend(word)"
   ]
  },
  {
   "cell_type": "code",
   "execution_count": 41,
   "metadata": {},
   "outputs": [
    {
     "data": {
      "text/plain": [
       "array(['and', 'document', 'first', 'is', 'one', 'second', 'the', 'third',\n",
       "       'this'], dtype=object)"
      ]
     },
     "execution_count": 41,
     "metadata": {},
     "output_type": "execute_result"
    }
   ],
   "source": [
    "\n",
    "vectorizer = CountVectorizer()\n",
    "X = vectorizer.fit_transform(corpus)\n",
    "vectorizer.get_feature_names_out()"
   ]
  },
  {
   "cell_type": "code",
   "execution_count": 44,
   "metadata": {},
   "outputs": [
    {
     "name": "stdout",
     "output_type": "stream",
     "text": [
      "[[0 1 1 1 0 0 1 0 1]\n",
      " [0 2 0 1 0 1 1 0 1]\n",
      " [1 0 0 1 1 0 1 1 1]\n",
      " [0 1 1 1 0 0 1 0 1]]\n"
     ]
    }
   ],
   "source": [
    "print(X.toarray())"
   ]
  },
  {
   "cell_type": "code",
   "execution_count": 71,
   "metadata": {},
   "outputs": [],
   "source": [
    "import pandas as pd\n",
    "c = pd.read_csv(\"preprocessed_text/bertbased/quantity_25/test_set/bertbased_quantity25_step0.csv\")\n",
    "a = pd.read_csv(\"preprocessed_text/luhn/quantity_25/test_set.csv\")"
   ]
  },
  {
   "cell_type": "code",
   "execution_count": 70,
   "metadata": {},
   "outputs": [
    {
     "data": {
      "text/plain": [
       "'summarize: Forty workers have been made redundant at Nelson Packaging\\'s factory in Lancashire. Managing director Michael Flynn said it was mainly due to \"the English bag legislation and corresponding impact on customer and retailer demand\". He also blamed \"aggressive overseas competition\". The 5p charge for bags was introduced in England in October and followed the introduction of charges in Wales, Northern Ireland and Scotland. One worker told BBC Radio Lancashire they believed the legislation had a \"slight but not a massive impact\" on the business, which has been operating since 1975 and was taken over by Cheshire-based packaging firm Intelipac three years ago. 7.6 billion Number of plastic bags issued by supermarkets in England in 2014 140 Equivalent per person 40 bags on average in every home Â£780m expected economic benefit over 10 years because of the charge Â£60m savings in litter clean up costs by 2025 80% expected reduction in bags Union representative Robert Copeland, who had been with the firm since 1986, said staff were told last Wednesday that they were being made redundant and were told to leave the factory immediately. \"It\\'s daunting as I have no interview skills. I\\'m 49 years old and I\\'ve got to now go into a new working environment and start again. It is scary. \"I was 19 when I started andâ€¦ you were seeing the children of people you have been working with for 30 years starting to come through so you had parents and children [at the factory].\" Campaigners argue that plastic bags blight streets, spoil the countryside and damage wildlife, seas and coastline. Wales was the first UK nation to introduce the bag charges, followed by Northern Ireland and then Scotland. A report in 2015 found the number of single-use carrier bags handed out by shops in Wales fell by 71% since charges were introduced in 2011. Scotland and Northern Ireland introduced their charges in 2014 and 2013 respectively and also saw significant drops in usage. The number of plastic bags handed out in Scottish stores was slashed by 80% - the equivalent of 650 million carriers - in the first year of the 5p charge. Similarly, in Northern Ireland in 2014 there was a 42.6% annual reduction following a previous drop of 71%, after charges were introduced. Does the charge include all carrier bags?'"
      ]
     },
     "execution_count": 70,
     "metadata": {},
     "output_type": "execute_result"
    }
   ],
   "source": [
    "a[\"Document\"][0]"
   ]
  },
  {
   "cell_type": "code",
   "execution_count": 72,
   "metadata": {},
   "outputs": [
    {
     "name": "stdout",
     "output_type": "stream",
     "text": [
      "Forty workers have been made redundant at Nelson Packaging's factory in Lancashire. Managing director Michael Flynn said it was mainly due to \"the English bag legislation and corresponding impact on customer and retailer demand\". He also blamed \"aggressive overseas competition\". The 5p charge for bags was introduced in England in October and followed the introduction of charges in Wales, Northern Ireland and Scotland. One worker told BBC Radio Lancashire they believed the legislation had a \"slight but not a massive impact\" on the business, which has been operating since 1975 and was taken over by Cheshire-based packaging firm Intelipac three years ago. 7.6 billion\n",
      "Number of plastic bags issued by supermarkets in England in 2014\n",
      "140\n",
      "Equivalent per person\n",
      "40 bags on average in every home\n",
      "Â£780m expected economic benefit over 10 years because of the charge\n",
      "Â£60m savings in litter clean up costs by 2025\n",
      "80% expected reduction in bags\n",
      "Union representative Robert Copeland, who had been with the firm since 1986, said staff were told last Wednesday that they were being made redundant and were told to leave the factory immediately. \"It's daunting as I have no interview skills. I'm 49 years old and I've got to now go into a new working environment and start again. \"I was 19 when I started andâ€¦ you were seeing the children of people you have been working with for 30 years starting to come through so you had parents and children [at the factory].\" Campaigners argue that plastic bags blight streets, spoil the countryside and damage wildlife, seas and coastline. Wales was the first UK nation to introduce the bag charges, followed by Northern Ireland and then Scotland. A report in 2015 found the number of single-use carrier bags handed out by shops in Wales fell by 71% since charges were introduced in 2011. Scotland and Northern Ireland introduced their charges in 2014 and 2013 respectively and also saw significant drops in usage. The number of plastic bags handed out in Scottish stores was slashed by 80% - the equivalent of 650 million carriers - in the first year of the 5p charge. Similarly, in Northern Ireland in 2014 there was a 42.6% annual reduction following a previous drop of 71%, after charges were introduced. Does the charge include all carrier bags?\n"
     ]
    }
   ],
   "source": [
    "print(c[\"Shortened Document\"][0])"
   ]
  },
  {
   "cell_type": "code",
   "execution_count": 66,
   "metadata": {},
   "outputs": [
    {
     "name": "stdout",
     "output_type": "stream",
     "text": [
      "robot sucked air big Sample Analysis Mars ( Sam ) instrument reveal concentration different gases . Sam analysis ongoing major surprises expected stage - carbon dioxide dominate . CO2 chief component Martian air , found Viking probes 1970s Phoenix lander 2008 . keener interest whether signal methane detected Curiosity . gas recently observed satellite Earth telescopes , presence Red Planet intriguing . Methane short-lived persistence suggests replenishing source kind - either biological geochemical . hoped Sam shed light issue . results first test could announced next week , said Curiosity deputy principal scientist Joy Crisp , cautioned would time definitive statements could made status methane Mars . `` Sam best measure various parts per trillion methane , expected amounts based measurements taken orbit around Mars Earth telescopes 10 10s parts per billion , '' told reporters . `` 's early use Sam , complicated instrument , sort data . '' Curiosity - also known Mars Science Laboratory , MSL - driven 100m location floor Gale Crater landed month ago . new picture overflying Mars Reconnaissance Orbiter ( MRO ) spacecraft shows progress . `` see rover white deck top black wheels , see tracks behind us , '' explained mission manager Mike Watkins . `` 're football field away touch-down point - Bradbury Landing . '' Curiosity heading point dubbed Glenelg scientists . 300m east current position . Satellite pictures point Glenelg intersection three distinct types rock terrain . Researchers think good place start characterise geology Gale Crater . rover 's arrival junction still weeks away , however . Engineers parked vehicle days practise using 2m-long robotic arm . carries 30kg tool turret end mission team needs learn move device weaker gravity conditions exist Mars . `` Mars 38 % Earth gravity , '' said Matt Robinson , lead engineer Curiosity 's arm . `` Earth gravity , arm sags certain position . Mars , command arm exact joint angles , turret would higher position Earth . `` compensate , flight software mathematics position arm lower recreate exact pose turret respect hardware rover . `` big part exercise verify flight software compensation properly , '' told BBC News . arm check-out done , Curiosity pick pace get Glenelg . En route , rover watch early opportunity test turret instruments rock . involve putting `` hand lens '' known Mahli ( Mars Hand Lens Imager ) close test object . Mahli essentially close-up camera resolve rock minerals size grain talcum powder . turret instrument engineers want see action APXS , X-ray spectrometer determine abundance chemical elements rocks . Also line make debut soon turret 's scoop mechanism ( Collection Handling Interior Martian Rock Analysis , Chimra ) . robot arm pick sample soil deliver labs inside rover body analysis . Jonathan.Amos-INTERNET @ bbc.co.uk follow Twitter\n"
     ]
    }
   ],
   "source": [
    "print(a[\"Shortened Document\"][0])"
   ]
  },
  {
   "cell_type": "code",
   "execution_count": 67,
   "metadata": {},
   "outputs": [
    {
     "name": "stdout",
     "output_type": "stream",
     "text": [
      "summarize: robot sucked air big Sample Analysis Mars ( Sam ) instrument reveal concentration different gases . Sam analysis ongoing major surprises expected stage - carbon dioxide dominate . CO2 chief component Martian air , found Viking probes 1970s Phoenix lander 2008 . keener interest whether signal methane detected Curiosity . gas recently observed satellite Earth telescopes , presence Red Planet intriguing . Methane short-lived persistence suggests replenishing source kind - either biological geochemical . hoped Sam shed light issue . results first test could announced next week , said Curiosity deputy principal scientist Joy Crisp , cautioned would time definitive statements could made status methane Mars . `` Sam best measure various parts per trillion methane , expected amounts based measurements taken orbit around Mars Earth telescopes 10 10s parts per billion , '' told reporters . `` 's early use Sam , complicated instrument , sort data . '' Curiosity - also known Mars Science Laboratory , MSL - driven 100m location floor Gale Crater landed month ago . new picture overflying Mars Reconnaissance Orbiter ( MRO ) spacecraft shows progress . `` see rover white deck top black wheels , see tracks behind us , '' explained mission manager Mike Watkins . `` 're football field away touch-down point - Bradbury Landing . '' Curiosity heading point dubbed Glenelg scientists . 300m east current position . Satellite pictures point Glenelg intersection three distinct types rock terrain . Researchers think good place start characterise geology Gale Crater . rover 's arrival junction still weeks away , however . Engineers parked vehicle days practise using 2m-long robotic arm . carries 30kg tool turret end mission team needs learn move device weaker gravity conditions exist Mars . `` Mars 38 % Earth gravity , '' said Matt Robinson , lead engineer Curiosity 's arm . `` Earth gravity , arm sags certain position . Mars , command arm exact joint angles , turret would higher position Earth . `` compensate , flight software mathematics position arm lower recreate exact pose turret respect hardware rover . `` big part exercise verify flight software compensation properly , '' told BBC News . arm check-out done , Curiosity pick pace get Glenelg . En route , rover watch early opportunity test turret instruments rock . involve putting `` hand lens '' known Mahli ( Mars Hand Lens Imager ) close test object . Mahli essentially close-up camera resolve rock minerals size grain talcum powder . turret instrument engineers want see action APXS , X-ray spectrometer determine abundance chemical elements rocks . Also line make debut soon turret 's scoop mechanism ( Collection Handling Interior Martian Rock Analysis , Chimra ) . robot arm pick sample soil deliver labs inside rover body analysis . Jonathan.Amos-INTERNET @ bbc.co.uk follow Twitter\n"
     ]
    }
   ],
   "source": [
    "print(a[\"Document\"][0])"
   ]
  },
  {
   "cell_type": "code",
   "execution_count": 10,
   "metadata": {},
   "outputs": [],
   "source": [
    "import pandas as pd\n",
    "df = pd.read_csv(\"preprocessed_text/512_head-only/quantity_512/test_set/step0.csv\")\n",
    "df_headtail = pd.read_csv(\"preprocessed_text/512_head+tail0.2/quantity_373/test_set/step0.csv\")"
   ]
  },
  {
   "cell_type": "code",
   "execution_count": 7,
   "metadata": {},
   "outputs": [
    {
     "data": {
      "text/plain": [
       "'It was first spotted at Montevrain, 38km (23 miles) east of Paris. Sightings of the animal sparked a search involving hundreds of emergency services workers, animal-trackers and a helicopter. But experts now say the animal is most likely a much less dangerous animal, such as a lynx or large domestic cat. They made their conclusions based on inspecting animal tracks. It remains unclear where the animal came from, though there is a big cat park near Montevrain. A source told AFP that the search had been scaled back for the moment and the helicopter grounded, although forces remained \"mobilised\" in case of a fresh alert. The BBC\\'s Hugh Schofield in Paris says police had suggested there was probably not too much to worry about, but the authorities still sent out officers with guns and tranquilisers. The hunt has focused on areas near the Disneyland Paris theme park. There was a fresh alert on Friday morning after paw prints were discovered near a service station east of Paris. To reach there, the animal had apparently crossed the A4 motorway. Police guarded the entrances to schools in the Montevrain area in case the cat turned up, as a helicopter with thermal imaging hovered. Local residents were asked to stay indoors and parents urged to take their children to and from school by car. A dozen or so soldiers from a nearby army base joined police and fire officials combing the countryside outside Montevrain. A huntsman, officially designated as a \"wolf catcher\", who has a specially trained dog, was also part of the search team. The owner of the lntermarche supermarket in Montevrain said on Thursday that his wife had spotted the animal at about 08:30 (07:30 GMT). \"She didn\\'t get out of the car and called me to say \\'I think I saw a lynx\\',\" he was quoted as saying. The woman took a photograph that appears to show a large cat. Le Parisien newspaper said several local residents had sighted the animal. The Montevrain mayor\\'s office dismissed the idea that the big cat could have escaped from a circus that was in the town until Saturday, Le Parisien reported.'"
      ]
     },
     "execution_count": 7,
     "metadata": {},
     "output_type": "execute_result"
    }
   ],
   "source": [
    "df['Document'][0]"
   ]
  },
  {
   "cell_type": "code",
   "execution_count": 11,
   "metadata": {},
   "outputs": [
    {
     "data": {
      "text/plain": [
       "'It was first spotted at Montevrain, 38km (23 miles) east of Paris. Sightings of the animal sparked a search involving hundreds of emergency services workers, animal-trackers and a helicopter. But experts now say the animal is most likely a much less dangerous animal, such as a lynx or areas near the Disneyland Paris theme park. There was a fresh alert on Friday morning after paw prints were discovered near a service station east of Paris. To reach there, the animal had apparently crossed the A4 motorway. Police guarded the entrances to schools in the Montevrain area in case the cat turned up, as a helicopter with thermal imaging hovered. Local residents were asked to stay indoors and parents urged to take their children to and from school by car. A dozen or so soldiers from a nearby army base joined police and fire officials combing the countryside outside Montevrain. A huntsman, officially designated as a \"wolf catcher\", who has a specially trained dog, was also part of the search team. The owner of the lntermarche supermarket in Montevrain said on Thursday that his wife had spotted the animal at about 08:30 (07:30 GMT). \"She didn\\'t get out of the car and called me to say \\'I think I saw a lynx\\',\" he was quoted as saying. The woman took a photograph that appears to show a large cat. Le Parisien newspaper said several local residents had sighted the animal. The Montevrain mayor\\'s office dismissed the idea that the big cat could have escaped from a circus that was in the town until Saturday, Le Parisien reported.'"
      ]
     },
     "execution_count": 11,
     "metadata": {},
     "output_type": "execute_result"
    }
   ],
   "source": [
    "df_headtail['Shortened Document'][0]"
   ]
  },
  {
   "cell_type": "code",
   "execution_count": 9,
   "metadata": {},
   "outputs": [
    {
     "data": {
      "text/plain": [
       "'It was first spotted at Montevrain, 38km (23 miles) east of Paris. Sightings of the animal sparked a search involving hundreds of emergency services workers, animal-trackers and a helicopter. But experts now say the animal is most likely a much less dangerous animal, such as a lynx or large domestic cat. They made their conclusions based on inspecting animal tracks. It remains unclear where the animal came from, though there is a big cat park near Montevrain. A source told AFP that the search had been scaled back for the moment and the helicopter grounded, although forces remained \"mobilised\" in case of a fresh alert. The BBC\\'s Hugh Schofield in Paris says police had suggested there was probably not too much to worry about, but the authorities still sent out officers with guns and tranquilisers. The hunt has focused on areas near the Disneyland Paris theme park. There was a fresh alert on Friday morning after paw prints were discovered near a service station east of Paris. To reach there, the animal had apparently crossed the A4 motorway. Police guarded the entrances to schools in the Montevrain area in case the cat turned up, as a helicopter with thermal imaging hovered. Local residents were asked to stay indoors and parents urged to take their children to and from school by car. A dozen or so soldiers from a nearby army base joined police and fire officials combing the countryside outside Montevrain. A huntsman, officially designated as a \"wolf catcher\", who has a specially trained dog, was also part of the search team. The owner of the lntermarche supermarket in Montevrain said on Thursday that his wife had spotted the animal at about 08:30 (07:30 GMT). \"She didn\\'t get out of the car and called me to say \\'I think I saw a lynx\\',\" he was quoted as saying. The woman took a photograph that appears to show a large cat. Le Parisien newspaper said several local residents had sighted the animal. The Montevrain mayor\\'s office dismissed the idea that the big cat could have escaped from a circus that was in the town until Saturday, Le Parisien reported.'"
      ]
     },
     "execution_count": 9,
     "metadata": {},
     "output_type": "execute_result"
    }
   ],
   "source": [
    "df['Shortened Document'][0]"
   ]
  },
  {
   "cell_type": "code",
   "execution_count": 58,
   "metadata": {},
   "outputs": [],
   "source": [
    "b = pd.read_csv(\"preprocessed_text/stopwords_1024/quantity_all/test_set.csv\")"
   ]
  },
  {
   "cell_type": "code",
   "execution_count": 60,
   "metadata": {},
   "outputs": [
    {
     "data": {
      "text/html": [
       "<div>\n",
       "<style scoped>\n",
       "    .dataframe tbody tr th:only-of-type {\n",
       "        vertical-align: middle;\n",
       "    }\n",
       "\n",
       "    .dataframe tbody tr th {\n",
       "        vertical-align: top;\n",
       "    }\n",
       "\n",
       "    .dataframe thead th {\n",
       "        text-align: right;\n",
       "    }\n",
       "</style>\n",
       "<table border=\"1\" class=\"dataframe\">\n",
       "  <thead>\n",
       "    <tr style=\"text-align: right;\">\n",
       "      <th></th>\n",
       "      <th>Unnamed: 0</th>\n",
       "      <th>Sample ids</th>\n",
       "      <th>Document</th>\n",
       "      <th>Shortened Document</th>\n",
       "      <th>Summary</th>\n",
       "      <th>Document length</th>\n",
       "      <th>Removed words</th>\n",
       "    </tr>\n",
       "  </thead>\n",
       "  <tbody>\n",
       "    <tr>\n",
       "      <th>0</th>\n",
       "      <td>0</td>\n",
       "      <td>35572747</td>\n",
       "      <td>summarize: In a statement (in French) it said ...</td>\n",
       "      <td>statement ( French ) said `` worried continued...</td>\n",
       "      <td>France's foreign ministry has urged Turkey to ...</td>\n",
       "      <td>998</td>\n",
       "      <td>278</td>\n",
       "    </tr>\n",
       "    <tr>\n",
       "      <th>1</th>\n",
       "      <td>1</td>\n",
       "      <td>19513490</td>\n",
       "      <td>summarize: The robot sucked the air into its b...</td>\n",
       "      <td>robot sucked air big Sample Analysis Mars ( Sa...</td>\n",
       "      <td>Nasa's Curiosity rover has measured the Red Pl...</td>\n",
       "      <td>976</td>\n",
       "      <td>322</td>\n",
       "    </tr>\n",
       "    <tr>\n",
       "      <th>2</th>\n",
       "      <td>2</td>\n",
       "      <td>17775211</td>\n",
       "      <td>summarize: They argue that the total volume of...</td>\n",
       "      <td>argue total volume water aquifers underground ...</td>\n",
       "      <td>Scientists say the notoriously dry continent o...</td>\n",
       "      <td>986</td>\n",
       "      <td>330</td>\n",
       "    </tr>\n",
       "    <tr>\n",
       "      <th>3</th>\n",
       "      <td>3</td>\n",
       "      <td>38754466</td>\n",
       "      <td>summarize: But, if the venerable founding fath...</td>\n",
       "      <td>, venerable founding father lived Northern Ire...</td>\n",
       "      <td>It was Benjamin Franklin who said we can be ce...</td>\n",
       "      <td>975</td>\n",
       "      <td>286</td>\n",
       "    </tr>\n",
       "    <tr>\n",
       "      <th>4</th>\n",
       "      <td>4</td>\n",
       "      <td>37325512</td>\n",
       "      <td>summarize: The Chairboys, searching for their ...</td>\n",
       "      <td>Chairboys , searching first league victory sin...</td>\n",
       "      <td>Dayle Southwell's first-half goal was the diff...</td>\n",
       "      <td>1007</td>\n",
       "      <td>164</td>\n",
       "    </tr>\n",
       "  </tbody>\n",
       "</table>\n",
       "</div>"
      ],
      "text/plain": [
       "   Unnamed: 0  Sample ids                                           Document  \\\n",
       "0           0    35572747  summarize: In a statement (in French) it said ...   \n",
       "1           1    19513490  summarize: The robot sucked the air into its b...   \n",
       "2           2    17775211  summarize: They argue that the total volume of...   \n",
       "3           3    38754466  summarize: But, if the venerable founding fath...   \n",
       "4           4    37325512  summarize: The Chairboys, searching for their ...   \n",
       "\n",
       "                                  Shortened Document  \\\n",
       "0  statement ( French ) said `` worried continued...   \n",
       "1  robot sucked air big Sample Analysis Mars ( Sa...   \n",
       "2  argue total volume water aquifers underground ...   \n",
       "3  , venerable founding father lived Northern Ire...   \n",
       "4  Chairboys , searching first league victory sin...   \n",
       "\n",
       "                                             Summary  Document length  \\\n",
       "0  France's foreign ministry has urged Turkey to ...              998   \n",
       "1  Nasa's Curiosity rover has measured the Red Pl...              976   \n",
       "2  Scientists say the notoriously dry continent o...              986   \n",
       "3  It was Benjamin Franklin who said we can be ce...              975   \n",
       "4  Dayle Southwell's first-half goal was the diff...             1007   \n",
       "\n",
       "   Removed words  \n",
       "0            278  \n",
       "1            322  \n",
       "2            330  \n",
       "3            286  \n",
       "4            164  "
      ]
     },
     "execution_count": 60,
     "metadata": {},
     "output_type": "execute_result"
    }
   ],
   "source": [
    "b.head()"
   ]
  },
  {
   "cell_type": "code",
   "execution_count": 61,
   "metadata": {},
   "outputs": [
    {
     "data": {
      "text/plain": [
       "'summarize: In a statement (in French) it said it was \"worried about the continued worsening of the situation\". On Saturday, Turkey began shelling the militia, which it says is linked to the banned Kurdistan Workers Party (PKK). The fighters, the YPG militia based in Syria, have rejected Turkey\\'s demand to leave areas it has seized, saying Islamists would return if it left. Turkey\\'s assault is a new thread in an already-complex conflict that has drawn in competing regional powers. Turkish Prime Minister Ahmet Davutoglu insisted on Sunday that Turkey \"will not permit the [Kurdish militia] to carry out aggressive acts\". \"Our security forces gave the necessary response and will continue to do so,\" Mr Davutoglu said. Syria has also condemned the Turkish action as a violation of its sovereignty and asked the UN Security Council to intervene. France also called on the Syrian regime and its allies to stop their bombardments \"across the whole of the country\". France said priority should be given to implementing an agreement reached in Munich this week on ceasing hostilities, and the fight against so-called Islamic State (IS) group. Almost five years of civil war in Syria have led to the deaths of more than 250,000 people. More than 11 million people have been displaced. How Putin is succeeding in Syria Displaced Syrians struggle to survive Syria: The story of the conflict Turkey v Islamic State v the Kurds: What\\'s going on? Attempts to broker a peace deal have repeatedly failed, but on Thursday, world leaders agreed to work towards a so-called cessation of hostilities in Syria within a week. The US and Russian presidents agreed in a \"frank and business-like\" phone call to work more closely to achieve this, the Kremlin said on Sunday. Russia, an ally of Syrian President Bashar al-Assad, has been carrying out air strikes since September against what it terms \"terrorists\". Among the targets shelled by Turkey is the Menagh airbase, which was seized by the YPG on Thursday from Syrian Islamist rebels. The YPG controls much of Syria\\'s northern border with Turkey. Syria\\'s war hardly needs a new front, but another has now opened up. Ankara sees the Kurdish PYD party and its YPG militia as terrorist organisations. It\\'s worried that weapons are seeping over the border from Syria to the PKK, with which Turkey has renewed its armed conflict since a ceasefire broke down last year. Washington rejects Ankara\\'s view that the PYD is a terrorist organisation, seeing it instead as an effective ally against so-called Islamic State (IS). That has caused rifts between the two Nato allies and is hampering international peace talks. Syria is the stage for several proxy wars, and Turkey has just started another, going after its Kurdish nemesis there and vowing to stop the PYD from cementing control of northern Syria. Turkey\\'s state-run Anadolu Agency said Turkish forces shot at Kurdish fighters inside Syria on Sunday after coming under fire themselves. Ankara sees the group as being linked with Kurdish guerrillas from PKK, which has waged a campaign against security forces in Turkey for decades. In other developments: Under the agreed cessation of hostilities plan, efforts will be made to try to make urgent aid deliveries to besieged and hard-to-reach areas in Syria. Steps will also be taken to work towards an eventual ceasefire and implementation of a UN-backed plan for political transition in Syria. The halt would not apply to the battle against the jihadists of IS and al-Nusra Front. However, neither the Syrian government nor the rebels were involved in the deal and both have since vowed to continue fighting. Syrian President Bashar al-Assad said on Friday that he intended to retake \"the whole country\" from rebels - a statement the US government said was \"deluded\". Syrian government forces, backed by Russian air strikes, have almost encircled rebels in parts of the northern city of Aleppo. Also on Sunday, Russian Prime Minister Dmitry Medvedev repeated a warning that any foreign ground operation in Syria would lead to \"a full-fledged, long war\". Turkey has said its troops and forces from Saudi Arabia might participate in a ground operation against IS.'"
      ]
     },
     "execution_count": 61,
     "metadata": {},
     "output_type": "execute_result"
    }
   ],
   "source": [
    "b[\"Document\"][0]"
   ]
  },
  {
   "cell_type": "code",
   "execution_count": 62,
   "metadata": {},
   "outputs": [
    {
     "data": {
      "text/plain": [
       "\"statement ( French ) said `` worried continued worsening situation '' . Saturday , Turkey began shelling militia , says linked banned Kurdistan Workers Party ( PKK ) . fighters , YPG militia based Syria , rejected Turkey 's demand leave areas seized , saying Islamists would return left . Turkey 's assault new thread already-complex conflict drawn competing regional powers . Turkish Prime Minister Ahmet Davutoglu insisted Sunday Turkey `` permit [ Kurdish militia ] carry aggressive acts '' . `` security forces gave necessary response continue , '' Mr Davutoglu said . Syria also condemned Turkish action violation sovereignty asked UN Security Council intervene . France also called Syrian regime allies stop bombardments `` across whole country '' . France said priority given implementing agreement reached Munich week ceasing hostilities , fight so-called Islamic State ( ) group . Almost five years civil war Syria led deaths 250,000 people . 11 million people displaced . Putin succeeding Syria Displaced Syrians struggle survive Syria : story conflict Turkey v Islamic State v Kurds : 's going ? Attempts broker peace deal repeatedly failed , Thursday , world leaders agreed work towards so-called cessation hostilities Syria within week . US Russian presidents agreed `` frank business-like '' phone call work closely achieve , Kremlin said Sunday . Russia , ally Syrian President Bashar al-Assad , carrying air strikes since September terms `` terrorists '' . Among targets shelled Turkey Menagh airbase , seized YPG Thursday Syrian Islamist rebels . YPG controls much Syria 's northern border Turkey . Syria 's war hardly needs new front , another opened . Ankara sees Kurdish PYD party YPG militia terrorist organisations . 's worried weapons seeping border Syria PKK , Turkey renewed armed conflict since ceasefire broke last year . Washington rejects Ankara 's view PYD terrorist organisation , seeing instead effective ally so-called Islamic State ( ) . caused rifts two Nato allies hampering international peace talks . Syria stage several proxy wars , Turkey started another , going Kurdish nemesis vowing stop PYD cementing control northern Syria . Turkey 's state-run Anadolu Agency said Turkish forces shot Kurdish fighters inside Syria Sunday coming fire . Ankara sees group linked Kurdish guerrillas PKK , waged campaign security forces Turkey decades . developments : agreed cessation hostilities plan , efforts made try make urgent aid deliveries besieged hard-to-reach areas Syria . Steps also taken work towards eventual ceasefire implementation UN-backed plan political transition Syria . halt would apply battle jihadists al-Nusra Front . However , neither Syrian government rebels involved deal since vowed continue fighting . Syrian President Bashar al-Assad said Friday intended retake `` whole country '' rebels - statement US government said `` deluded '' . Syrian government forces , backed Russian air strikes , almost encircled rebels parts northern city Aleppo . Also Sunday , Russian Prime Minister Dmitry Medvedev repeated warning foreign ground operation Syria would lead `` full-fledged , long war '' . Turkey said troops forces Saudi Arabia might participate ground operation .\""
      ]
     },
     "execution_count": 62,
     "metadata": {},
     "output_type": "execute_result"
    }
   ],
   "source": [
    "b[\"Shortened Document\"][0]"
   ]
  },
  {
   "cell_type": "code",
   "execution_count": 63,
   "metadata": {},
   "outputs": [
    {
     "name": "stdout",
     "output_type": "stream",
     "text": [
      "summarize: statement ( French ) said `` worried continued worsening situation '' . Saturday , Turkey began shelling militia , says linked banned Kurdistan Workers Party ( PKK ) . fighters , YPG militia based Syria , rejected Turkey 's demand leave areas seized , saying Islamists would return left . Turkey 's assault new thread already-complex conflict drawn competing regional powers . Turkish Prime Minister Ahmet Davutoglu insisted Sunday Turkey `` permit [ Kurdish militia ] carry aggressive acts '' . `` security forces gave necessary response continue , '' Mr Davutoglu said . Syria also condemned Turkish action violation sovereignty asked UN Security Council intervene . France also called Syrian regime allies stop bombardments `` across whole country '' . France said priority given implementing agreement reached Munich week ceasing hostilities , fight so-called Islamic State ( ) group . Almost five years civil war Syria led deaths 250,000 people . 11 million people displaced . Putin succeeding Syria Displaced Syrians struggle survive Syria : story conflict Turkey v Islamic State v Kurds : 's going ? Attempts broker peace deal repeatedly failed , Thursday , world leaders agreed work towards so-called cessation hostilities Syria within week . US Russian presidents agreed `` frank business-like '' phone call work closely achieve , Kremlin said Sunday . Russia , ally Syrian President Bashar al-Assad , carrying air strikes since September terms `` terrorists '' . Among targets shelled Turkey Menagh airbase , seized YPG Thursday Syrian Islamist rebels . YPG controls much Syria 's northern border Turkey . Syria 's war hardly needs new front , another opened . Ankara sees Kurdish PYD party YPG militia terrorist organisations . 's worried weapons seeping border Syria PKK , Turkey renewed armed conflict since ceasefire broke last year . Washington rejects Ankara 's view PYD terrorist organisation , seeing instead effective ally so-called Islamic State ( ) . caused rifts two Nato allies hampering international peace talks . Syria stage several proxy wars , Turkey started another , going Kurdish nemesis vowing stop PYD cementing control northern Syria . Turkey 's state-run Anadolu Agency said Turkish forces shot Kurdish fighters inside Syria Sunday coming fire . Ankara sees group linked Kurdish guerrillas PKK , waged campaign security forces Turkey decades . developments : agreed cessation hostilities plan , efforts made try make urgent aid deliveries besieged hard-to-reach areas Syria . Steps also taken work towards eventual ceasefire implementation UN-backed plan political transition Syria . halt would apply battle jihadists al-Nusra Front . However , neither Syrian government rebels involved deal since vowed continue fighting . Syrian President Bashar al-Assad said Friday intended retake `` whole country '' rebels - statement US government said `` deluded '' . Syrian government forces , backed Russian air strikes , almost encircled rebels parts northern city Aleppo . Also Sunday , Russian Prime Minister Dmitry Medvedev repeated warning foreign ground operation Syria would lead `` full-fledged , long war '' . Turkey said troops forces Saudi Arabia might participate ground operation .\n"
     ]
    }
   ],
   "source": [
    "print(a[\"Document\"][0])"
   ]
  },
  {
   "cell_type": "code",
   "execution_count": 106,
   "metadata": {},
   "outputs": [],
   "source": [
    "import pandas as pd\n",
    "a = pd.read_csv(\"preprocessed_text/512_bertbased/quantity_323/test_set/step1.csv\")\n",
    "b = pd.read_csv(\"preprocessed_text/stopwords/quantity_all/test_set.csv\")\n",
    "c = pd.read_csv(\"preprocessed_text/512_stopwords/quantity_512/test_set/step0.csv\")"
   ]
  },
  {
   "cell_type": "code",
   "execution_count": 13,
   "metadata": {},
   "outputs": [
    {
     "data": {
      "text/html": [
       "<div>\n",
       "<style scoped>\n",
       "    .dataframe tbody tr th:only-of-type {\n",
       "        vertical-align: middle;\n",
       "    }\n",
       "\n",
       "    .dataframe tbody tr th {\n",
       "        vertical-align: top;\n",
       "    }\n",
       "\n",
       "    .dataframe thead th {\n",
       "        text-align: right;\n",
       "    }\n",
       "</style>\n",
       "<table border=\"1\" class=\"dataframe\">\n",
       "  <thead>\n",
       "    <tr style=\"text-align: right;\">\n",
       "      <th></th>\n",
       "      <th>Unnamed: 0</th>\n",
       "      <th>Sample ids</th>\n",
       "      <th>Document</th>\n",
       "      <th>Shortened Document</th>\n",
       "      <th>Summary</th>\n",
       "      <th>Document length</th>\n",
       "      <th>Shortened Document length</th>\n",
       "    </tr>\n",
       "  </thead>\n",
       "  <tbody>\n",
       "    <tr>\n",
       "      <th>0</th>\n",
       "      <td>0</td>\n",
       "      <td>34423371</td>\n",
       "      <td>Councillors are to meet next week to consider ...</td>\n",
       "      <td>Councillors are to meet next week to consider ...</td>\n",
       "      <td>A decision on the future of demolition-threate...</td>\n",
       "      <td>506</td>\n",
       "      <td>230</td>\n",
       "    </tr>\n",
       "    <tr>\n",
       "      <th>1</th>\n",
       "      <td>1</td>\n",
       "      <td>35428837</td>\n",
       "      <td>Two reports, published in November, criticised...</td>\n",
       "      <td>Two reports, published in November, criticised...</td>\n",
       "      <td>Regulators are to begin investigations into se...</td>\n",
       "      <td>483</td>\n",
       "      <td>201</td>\n",
       "    </tr>\n",
       "    <tr>\n",
       "      <th>2</th>\n",
       "      <td>2</td>\n",
       "      <td>21543642</td>\n",
       "      <td>The six male athletes also said they engaged i...</td>\n",
       "      <td>The six male athletes also said they engaged i...</td>\n",
       "      <td>Members of Australia's Olympic swimming team s...</td>\n",
       "      <td>497</td>\n",
       "      <td>238</td>\n",
       "    </tr>\n",
       "    <tr>\n",
       "      <th>3</th>\n",
       "      <td>3</td>\n",
       "      <td>26385653</td>\n",
       "      <td>The International Football Association Board (...</td>\n",
       "      <td>The International Football Association Board (...</td>\n",
       "      <td>Players who display messages on T-shirts worn ...</td>\n",
       "      <td>493</td>\n",
       "      <td>208</td>\n",
       "    </tr>\n",
       "    <tr>\n",
       "      <th>4</th>\n",
       "      <td>4</td>\n",
       "      <td>36419152</td>\n",
       "      <td>On Tuesday, a BBC Spotlight programme revealed...</td>\n",
       "      <td>On Tuesday, a BBC Spotlight programme revealed...</td>\n",
       "      <td>An \"urgent inquiry\" is needed into separated c...</td>\n",
       "      <td>493</td>\n",
       "      <td>232</td>\n",
       "    </tr>\n",
       "  </tbody>\n",
       "</table>\n",
       "</div>"
      ],
      "text/plain": [
       "   Unnamed: 0  Sample ids                                           Document  \\\n",
       "0           0    34423371  Councillors are to meet next week to consider ...   \n",
       "1           1    35428837  Two reports, published in November, criticised...   \n",
       "2           2    21543642  The six male athletes also said they engaged i...   \n",
       "3           3    26385653  The International Football Association Board (...   \n",
       "4           4    36419152  On Tuesday, a BBC Spotlight programme revealed...   \n",
       "\n",
       "                                  Shortened Document  \\\n",
       "0  Councillors are to meet next week to consider ...   \n",
       "1  Two reports, published in November, criticised...   \n",
       "2  The six male athletes also said they engaged i...   \n",
       "3  The International Football Association Board (...   \n",
       "4  On Tuesday, a BBC Spotlight programme revealed...   \n",
       "\n",
       "                                             Summary  Document length  \\\n",
       "0  A decision on the future of demolition-threate...              506   \n",
       "1  Regulators are to begin investigations into se...              483   \n",
       "2  Members of Australia's Olympic swimming team s...              497   \n",
       "3  Players who display messages on T-shirts worn ...              493   \n",
       "4  An \"urgent inquiry\" is needed into separated c...              493   \n",
       "\n",
       "   Shortened Document length  \n",
       "0                        230  \n",
       "1                        201  \n",
       "2                        238  \n",
       "3                        208  \n",
       "4                        232  "
      ]
     },
     "execution_count": 13,
     "metadata": {},
     "output_type": "execute_result"
    }
   ],
   "source": [
    "a.head()"
   ]
  },
  {
   "cell_type": "code",
   "execution_count": 15,
   "metadata": {},
   "outputs": [
    {
     "data": {
      "text/plain": [
       "'Councillors are to meet next week to consider bids to turn the hall into a food market or a hotel, with council officials backing the food hall plan. However a number of pre-conditions would need to be met before a draft lease could be agreed, at the authority\\'s February meeting. The B-listed Edwardian building has sat empty since it closed 10 years ago. Councillors deferred a decision on which development bid to back, if any, in July, calling for further reports from Historic Scotland and other agencies and further information from the applicants. At that stage, council officials had backed the view of independent property specialists Jones Laing LaSalle that the Perth Market Place Ltd proposal should be preferred to the hotel bid from the Seventy Group. A report to councillors ahead of Wednesday\\'s full council meeting noted that \"there has been a change in circumstances which significantly impacts upon the Seventy Group\\'s bid\", meaning no further information could be provided. Planning and development head David Littlejohn has asked councillors to give the marketplace proposal \"preferred bidder status\" to allow detailed negotiations to take place. Should this happen, a draft lease could potentially be considered by the council in February 2016, although this would also have to be signed off by the Perth Common Good Fund Committee. The Edwardian building, which dates back to 1911, was closed 10 years ago after a modern new concert hall was opened in the city. Decisions over its future have been drawn out over a decade since then, with councillors at one point approving plans to have it demolished, which were subsequently blocked by Historic Scotland opposition. The development management committee then backed the Seventy Group plans to convert it into a luxury hotel, before councillors agreed to publicly market a 125-year lease on the building to find an alternative to demolition. Five bids were submitted in January, which where whittled down to two by July when councillors deferred the decision. Should neither bid ultimately win approval, demolition could still be an option, although Historic Scotland chief executive Ian Walford warned he would be minded to object to such a move. Mr Littlejohn also noted in his report that Historic Scotland had underlined that \"the process cannot be allowed to perpetuate\", and that a decision will have to be made.'"
      ]
     },
     "execution_count": 15,
     "metadata": {},
     "output_type": "execute_result"
    }
   ],
   "source": [
    "a[\"Document\"][0]"
   ]
  },
  {
   "cell_type": "code",
   "execution_count": 16,
   "metadata": {},
   "outputs": [
    {
     "data": {
      "text/plain": [
       "'Councillors are to meet next week to consider bids to turn the hall into a food market or a hotel, with council officials backing the food hall plan. The B-listed Edwardian building has sat empty since it closed 10 years ago. Councillors deferred a decision on which development bid to back, if any, in July, calling for further reports from Historic Scotland and other agencies and further information from the applicants. Planning and development head David Littlejohn has asked councillors to give the marketplace proposal \"preferred bidder status\" to allow detailed negotiations to take place. Should this happen, a draft lease could potentially be considered by the council in February 2016, although this would also have to be signed off by the Perth Common Good Fund Committee. The Edwardian building, which dates back to 1911, was closed 10 years ago after a modern new concert hall was opened in the city. Should neither bid ultimately win approval, demolition could still be an option, although Historic Scotland chief executive Ian Walford warned he would be minded to object to such a move.'"
      ]
     },
     "execution_count": 16,
     "metadata": {},
     "output_type": "execute_result"
    }
   ],
   "source": [
    "a[\"Shortened Document\"][0]"
   ]
  },
  {
   "cell_type": "code",
   "execution_count": 39,
   "metadata": {},
   "outputs": [
    {
     "data": {
      "text/plain": [
       "'summarize: The Oil and Gas Technology Centre will partly fund the work while also acting as a bridge between small tech firms and the big oil producers. The industry said research projects have recently been neglected. It said this happened after many production platforms were sold by the big oil majors to much smaller firms. Oil supply company Mistras has been developing technology more commonly used to enable expectant mothers to see their babies. The ultrasound scanners, complete with cold jelly, are being used to detect corrosion in pipes. The Dyce-based company hopes the technology centre will help them get their product to new customers. Managing director Tim Walsh said: \"What we are hoping and expecting from the technology centre is that it will allow us as an organisation that has solutions to particular problems that we know exist to get a better connection with end users and clients and get more traction. \"We want them to allow us to take them out into the field, give us the opportunity to demonstrate to potential clients that the technology works and that the technology can actually allow them to do what we want them to do.\" The Oil and Gas Technology centre will invest in small firms with solid ideas and help pair some of those developers with the offshore operators that need them. Chief executive Colette Cohen said: \"We have much more operators in the north sea now, I think it\\'s about 60 operators whereas back in the 80s it was about five or six, so it is a hugely different world. \"Those smaller operators don\\'t have a technology organisation. They\\'re not big enough and they can\\'t support that, it wouldn\\'t be economic. \"So this is a time when we can provide that service to them.\" The new centre will build on the existing work being carried out by Aberdeen\\'s two universities. At Robert Gordon University they have a drilling-rig simulator where they train students and refresh the skills of those in the industry. They will now be able to incorporate new technologies into their models to see if they work effectively. Prof Phil Hassard said: \"They\\'ll be able to get the results back from that... they can be tested here and are more cost effective than trying to do it on a real rig.\" The centre\\'s conception stems from the principles of Sir Ian Wood\\'s report into maximising economic recovery in the North Sea. The oil tycoon was one of the invited guests at the official opening.'"
      ]
     },
     "execution_count": 39,
     "metadata": {},
     "output_type": "execute_result"
    }
   ],
   "source": [
    "b[\"Document\"][1]"
   ]
  },
  {
   "cell_type": "code",
   "execution_count": 104,
   "metadata": {},
   "outputs": [
    {
     "data": {
      "text/plain": [
       "\"first deputy first ministers used powers known Royal Prerogative create role former BBC journalist David Gordon . Mr Gordon edited BBC 's Nolan Show . Newsletter discovered law changed using highly unusual procedure enable post filled without advertised . Ulster Unionist Party leader Mike Nesbitt , leader Opposition Northern Ireland Assembly , said made aware move . Jim Allister , leader Traditional Unionist Voice ( TUV ) , accused First Minister Arlene Foster Deputy First Minister Martin McGuinness `` flagrantly breaching due process '' . `` many spin doctors Stormont need ? already 161 , '' Mr Allister told Newsletter . `` ironic latest appointee person hitherto would railed exposed contrived process appointed . '' contacted BBC , Mr Gordon said could comment issue . spokesperson Northern Ireland Executive Office said : `` normal practice politics London Dublin well devolved governments ministers select people provide specialist communications advice . `` trying throw dirt know well . `` appointment executive press secretary full accordance powers disposal first minister deputy first minister make Order powers conferred section 23 ( 3 ) Northern Ireland Act 1998 . '' office 's spokesperson described reaction opposition politicians `` panic hysteria '' . Mr Gordon also former Belfast Telegraph journalist following appointment Tuesday , first deputy first ministers expressed delight . said wanted new press secretary provide expert advice spearhead communication Stormont 's policies . However , method used hire raised questions serving former public appointments commissioners . current public appointments commissioner Judena Leslie written head Northern Ireland Civil Service appointment . statement Friday , said : `` public interest principles openness transparency adhered . ''\""
      ]
     },
     "execution_count": 104,
     "metadata": {},
     "output_type": "execute_result"
    }
   ],
   "source": [
    "b[\"Shortened Document\"][155]"
   ]
  },
  {
   "cell_type": "code",
   "execution_count": 107,
   "metadata": {},
   "outputs": [
    {
     "data": {
      "text/plain": [
       "'It was first spotted at Montevrain, 38km (23 miles) east of Paris. Sightings of the animal sparked a search involving hundreds of emergency services workers, animal-trackers and a helicopter. But experts now say the animal is most likely a much less dangerous animal, such as a lynx or large domestic cat. They made their conclusions based on inspecting animal tracks. It remains unclear where the animal came from, though there is a big cat park near Montevrain. A source told AFP that the search had been scaled back for the moment and the helicopter grounded, although forces remained \"mobilised\" in case of a fresh alert. The BBC\\'s Hugh Schofield in Paris says police had suggested there was probably not too much to worry about, but the authorities still sent out officers with guns and tranquilisers. The hunt has focused on areas near the Disneyland Paris theme park. There was a fresh alert on Friday morning after paw prints were discovered near a service station east of Paris. To reach there, the animal had apparently crossed the A4 motorway. Police guarded the entrances to schools in the Montevrain area in case the cat turned up, as a helicopter with thermal imaging hovered. Local residents were asked to stay indoors and parents urged to take their children to and from school by car. A dozen or so soldiers from a nearby army base joined police and fire officials combing the countryside outside Montevrain. A huntsman, officially designated as a \"wolf catcher\", who has a specially trained dog, was also part of the search team. The owner of the lntermarche supermarket in Montevrain said on Thursday that his wife had spotted the animal at about 08:30 (07:30 GMT). \"She didn\\'t get out of the car and called me to say \\'I think I saw a lynx\\',\" he was quoted as saying. The woman took a photograph that appears to show a large cat. Le Parisien newspaper said several local residents had sighted the animal. The Montevrain mayor\\'s office dismissed the idea that the big cat could have escaped from a circus that was in the town until Saturday, Le Parisien reported.'"
      ]
     },
     "execution_count": 107,
     "metadata": {},
     "output_type": "execute_result"
    }
   ],
   "source": [
    "c[\"Document\"][0]"
   ]
  },
  {
   "cell_type": "code",
   "execution_count": 108,
   "metadata": {},
   "outputs": [
    {
     "data": {
      "text/plain": [
       "\"first spotted Montevrain, 38km (23 miles) east Paris. Sightings animal sparked search involving hundreds emergency services workers, animal-trackers helicopter. experts say animal likely much less dangerous animal, lynx large domestic cat. made conclusions based inspecting animal tracks. remains unclear animal came, though big cat park near Montevrain. source told AFP search scaled back moment helicopter grounded, although forces remained mobilised case fresh alert. BBC 's Hugh Schofield Paris says police suggested probably much worry, authorities still sent officers guns tranquilisers. hunt focused areas near Disneyland Paris theme park. fresh alert Friday morning paw prints discovered near service station east Paris. reach, animal apparently crossed A4 motorway. Police guarded entrances schools Montevrain area case cat turned, helicopter thermal imaging hovered. Local residents asked stay indoors parents urged take children school car. dozen soldiers nearby army base joined police fire officials combing countryside outside Montevrain. huntsman, officially designated wolf catcher , specially trained dog, also part search team. owner lntermarche supermarket Montevrain said Thursday wife spotted animal 08: 30 (07: 30 GMT). n't get car called say ' think saw lynx ', quoted saying. woman took photograph appears show large cat. Le Parisien newspaper said several local residents sighted animal. Montevrain mayor 's office dismissed idea big cat could escaped circus town Saturday, Le Parisien reported.\""
      ]
     },
     "execution_count": 108,
     "metadata": {},
     "output_type": "execute_result"
    }
   ],
   "source": [
    "c[\"Shortened Document\"][0]"
   ]
  },
  {
   "cell_type": "code",
   "execution_count": 105,
   "metadata": {},
   "outputs": [
    {
     "name": "stdout",
     "output_type": "stream",
     "text": [
      "first deputy first ministers used powers known Royal Prerogative create role former BBC journalist David Gordon. Mr Gordon edited BBC 's Nolan Show. Newsletter discovered law changed using highly unusual procedure enable post filled without advertised. Ulster Unionist Party leader Mike Nesbitt, leader Opposition Northern Ireland Assembly, said made aware move. Jim Allister, leader Traditional Unionist Voice (TUV), accused First Minister Arlene Foster Deputy First Minister Martin McGuinness flagrantly breaching due process . many spin doctors Stormont need? already 161, Mr Allister told Newsletter. ironic latest appointee person hitherto would railed exposed contrived process appointed. contacted BBC, Mr Gordon said could comment issue. spokesperson Northern Ireland Executive Office said: normal practice politics London Dublin well devolved governments ministers select people provide specialist communications advice. trying throw dirt know well. appointment executive press secretary full accordance powers disposal first minister deputy first minister make Order powers conferred section 23 (3) Northern Ireland Act 1998. office 's spokesperson described reaction opposition politicians panic hysteria . Mr Gordon also former Belfast Telegraph journalist following appointment Tuesday, first deputy first ministers expressed delight. said wanted new press secretary provide expert advice spearhead communication Stormont 's policies. However, method used hire raised questions serving former public appointments commissioners. current public appointments commissioner Judena Leslie written head Northern Ireland Civil Service appointment. statement Friday, said: public interest principles openness transparency adhered. \n"
     ]
    }
   ],
   "source": [
    "string = b[\"Shortened Document\"][155]\n",
    "edited = \"% \".join([a.strip() for a in string.split(\"%\")])\n",
    "edited = \" [\".join([a.strip() for a in edited.split(\"[ \")])\n",
    "edited = \"] \".join([a.strip() for a in edited.split(\" ]\")])\n",
    "edited = \" (\".join([a.strip() for a in edited.split(\"( \")])\n",
    "edited = \") \".join([a.strip() for a in edited.split(\" )\")])\n",
    "edited = \". \".join([a.strip() for a in edited.split(\".\")])\n",
    "edited = \", \".join([a.strip() for a in edited.split(\",\")])\n",
    "edited = \": \".join([a.strip() for a in edited.split(\":\")])\n",
    "edited = \".\".join([a.strip() for a in edited.split(\" .\")])\n",
    "edited = \"? \".join([a.strip() for a in edited.split(\"?\")])\n",
    "# edited = \"'s \".join([a.strip() for a in edited.split(\" 's\")])\n",
    "# edited = \"'re \".join([a.strip() for a in edited.split(\" 're\")])\n",
    "edited = edited.replace(\"``\", \"\")\n",
    "edited = edited.replace(\"''\", \"\")\n",
    "edited = edited.replace(\"  \", \" \")\n",
    "# edited = \". \".join(edited)\n",
    "print(edited)"
   ]
  },
  {
   "cell_type": "code",
   "execution_count": 21,
   "metadata": {},
   "outputs": [],
   "source": [
    "\n",
    "import nltk"
   ]
  },
  {
   "cell_type": "code",
   "execution_count": 23,
   "metadata": {},
   "outputs": [],
   "source": [
    "from nltk.corpus import stopwords\n",
    "from nltk.tokenize import word_tokenize\n"
   ]
  },
  {
   "cell_type": "code",
   "execution_count": null,
   "metadata": {},
   "outputs": [],
   "source": [
    "stop_words = list(set(stopwords.words('english')))"
   ]
  },
  {
   "cell_type": "code",
   "execution_count": null,
   "metadata": {},
   "outputs": [],
   "source": [
    "stop_words"
   ]
  },
  {
   "cell_type": "code",
   "execution_count": 24,
   "metadata": {},
   "outputs": [
    {
     "name": "stderr",
     "output_type": "stream",
     "text": [
      "[nltk_data] Error loading stopwords: <urlopen error [Errno 101]\n",
      "[nltk_data]     Network is unreachable>\n"
     ]
    },
    {
     "data": {
      "text/plain": [
       "False"
      ]
     },
     "execution_count": 24,
     "metadata": {},
     "output_type": "execute_result"
    }
   ],
   "source": [
    "nltk.download('stopwords')"
   ]
  },
  {
   "cell_type": "code",
   "execution_count": null,
   "metadata": {},
   "outputs": [],
   "source": []
  }
 ],
 "metadata": {
  "kernelspec": {
   "display_name": "thesis",
   "language": "python",
   "name": "thesis"
  },
  "language_info": {
   "codemirror_mode": {
    "name": "ipython",
    "version": 3
   },
   "file_extension": ".py",
   "mimetype": "text/x-python",
   "name": "python",
   "nbconvert_exporter": "python",
   "pygments_lexer": "ipython3",
   "version": "3.8.10"
  }
 },
 "nbformat": 4,
 "nbformat_minor": 4
}
